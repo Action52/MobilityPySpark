{
 "cells": [
  {
   "cell_type": "markdown",
   "id": "3b785359-7f41-47e6-a985-2fe59ffd66fe",
   "metadata": {},
   "source": [
    "# Some bugs I found in PyMEOS"
   ]
  },
  {
   "cell_type": "code",
   "execution_count": 7,
   "id": "19e20fd0-ce20-4c97-aef0-d2fd42e4fa39",
   "metadata": {},
   "outputs": [],
   "source": [
    "import pandas as pd\n",
    "from functools import reduce\n",
    "from pymeos import *\n",
    "from pysparkmeos.UDT.MeosDatatype import *\n",
    "from pysparkmeos.partitions.grid.grid_partitioner import *\n",
    "\n",
    "from pymeos_cffi import *\n",
    "\n",
    "pymeos_initialize(\"UTC\")"
   ]
  },
  {
   "cell_type": "markdown",
   "id": "a29c6b9c-bb0e-40fc-a467-bfd51bf10e9a",
   "metadata": {},
   "source": [
    "Assume we have one TGeogSequence like this:"
   ]
  },
  {
   "cell_type": "code",
   "execution_count": 8,
   "id": "3a1d8fdb-89c0-4af5-a53a-9f9cb9c3f742",
   "metadata": {},
   "outputs": [
    {
     "name": "stdout",
     "output_type": "stream",
     "text": [
      "4326\n"
     ]
    }
   ],
   "source": [
    "tseq = TGeogPointSeq(string='[POINT(-81.5 28.73)@2022-06-27 00:00:10+00, POINT(-81.5 28.72)@2022-06-27 00:00:20+00, POINT(-81.48 28.7)@2022-06-27 00:00:40+00, POINT(-81.48 28.69)@2022-06-27 00:00:50+00, POINT(30.45 -70.02)@2022-06-27 00:00:55+00)')\n",
    "print(tseq.srid())"
   ]
  },
  {
   "cell_type": "markdown",
   "id": "bfdca78c-e970-42cc-89c1-a38139529142",
   "metadata": {},
   "source": [
    "and a STBox (that in my project I use to represent the boundaries of a table) like this:\n",
    "\n",
    "<i>Note how upon creation the STBox srid is incorrectly set to 0 even if we specify we want it to be geodetic.</i>"
   ]
  },
  {
   "cell_type": "code",
   "execution_count": 9,
   "id": "a2a54df4-7420-47f4-8bce-0153c55ea71c",
   "metadata": {},
   "outputs": [
    {
     "name": "stdout",
     "output_type": "stream",
     "text": [
      "0\n",
      "4326 SRID=4326;STBOX XT(((-177.02969360351562,-46.421356201171875),(177.816650390625,70.29727935791016)),[2022-06-27 00:00:00+00, 2022-06-27 00:15:00+00])\n",
      "0\n",
      "4326\n"
     ]
    }
   ],
   "source": [
    "bounds = STBox(\"STBOX XT(((-177.02969360351562,-46.421356201171875),(177.816650390625,70.29727935791016)),[2022-06-27 00:00:00+00, 2022-06-27 00:15:00+00])\")\n",
    "print(bounds.srid())\n",
    "\n",
    "# In this case the srid is changed but the string representation is incorrect according to the MobilityDB manual.\n",
    "# String representation should be: SRID=4326;GEODSTBOX XT(((-177.02969360351562,-46.421356201171875),(177.816650390625,70.29727935791016)),[2022-06-27 00:00:00+00, 2022-06-27 00:15:00+00])\n",
    "# It adds the 'SRID=4326;' to the string representation, but omits the 'GEOD'.\n",
    "print(bounds.set_srid(4326).srid(), bounds.set_srid(4326).__str__())\n",
    "\n",
    "boundsgeod = STBox(\n",
    "    \"STBOX XT(((-177.02969360351562,-46.421356201171875),(177.816650390625,70.29727935791016)),[2022-06-27 00:00:00+00, 2022-06-27 00:15:00+00])\",\n",
    "    geodetic=True\n",
    ")\n",
    "\n",
    "# If we ask the STBox to be geodetic from the beginning, the srid should be 4326.\n",
    "print(boundsgeod.srid())  # This outputs 0\n",
    "print(boundsgeod.set_srid(4326).srid())\n",
    "# This outputs 4326 but the string representation (and the inner) is wrong. "
   ]
  },
  {
   "cell_type": "code",
   "execution_count": 10,
   "id": "dd96a330-0ab4-4584-a3a1-e8949fdb69f1",
   "metadata": {},
   "outputs": [
    {
     "name": "stdout",
     "output_type": "stream",
     "text": [
      "SRID=4326;STBOX XT(((-177.02969360351562,-46.421356201171875),(177.816650390625,70.29727935791016)),[2022-06-27 00:00:00+00, 2022-06-27 00:15:00+00])\n",
      "SRID=4326;GEODSTBOX XT(((-177.02969360351562,-46.421356201171875),(177.816650390625,70.29727935791016)),[2022-06-27 00:00:00+00, 2022-06-27 00:15:00+00])\n"
     ]
    }
   ],
   "source": [
    "bounds = STBox(\"STBOX XT(((-177.02969360351562,-46.421356201171875),(177.816650390625,70.29727935791016)),[2022-06-27 00:00:00+00, 2022-06-27 00:15:00+00])\")\n",
    "bounds = bounds.set_srid(4326)\n",
    "# This string representation, even with the 4326 but missing the GEOD, causes issues.\n",
    "print(bounds.__str__())\n",
    "\n",
    "# For now, the way I am working around this error is by doing:\n",
    "bounds = STBox(f\"SRID=4326;GEOD{bounds.__str__().replace('SRID=4326;', '')}\", geodetic=True)\n",
    "print(bounds) # This is correct after the tweak"
   ]
  },
  {
   "cell_type": "code",
   "execution_count": 12,
   "id": "610181fa-a807-4b47-af10-096fc57b3b39",
   "metadata": {},
   "outputs": [
    {
     "name": "stdout",
     "output_type": "stream",
     "text": [
      "4326\n",
      "GEODSTBOX XT(((-177.02969360351562,-46.421356201171875),(177.816650390625,70.29727935791016)),[2022-06-27 00:00:00+00, 2022-06-27 00:15:00+00]) 0\n",
      "STBOX XT(((-177.02969360351562,-46.421356201171875),(177.816650390625,70.29727935791016)),[2022-06-27 00:00:00+00, 2022-06-27 00:15:00+00]) 0\n"
     ]
    }
   ],
   "source": [
    "# Doing the opposite (from geodetic to planar)\n",
    "bounds = STBox(\"SRID=4326;GEODSTBOX XT(((-177.02969360351562,-46.421356201171875),(177.816650390625,70.29727935791016)),[2022-06-27 00:00:00+00, 2022-06-27 00:15:00+00])\")\n",
    "print(bounds.srid())\n",
    "\n",
    "\n",
    "bounds = bounds.set_srid(0)\n",
    "print(bounds, bounds.srid()) # This shouldn't contain the 'GEOD', so we have to do another tweak\n",
    "\n",
    "bounds = STBox(f\"SRID=0;{bounds.__str__().replace('GEOD', '')}\", geodetic=False)\n",
    "print(bounds, bounds.srid()) # This looks correct now"
   ]
  },
  {
   "cell_type": "code",
   "execution_count": 13,
   "id": "96474a9a-1952-4872-a3d8-575253261377",
   "metadata": {},
   "outputs": [
    {
     "name": "stdout",
     "output_type": "stream",
     "text": [
      "[STBox(STBOX XT(((-300,-150),(-150,0)),[2022-06-27 00:00:00+00, 2022-06-27 00:10:00+00))), STBox(STBOX XT(((-150,-150),(0,0)),[2022-06-27 00:00:00+00, 2022-06-27 00:10:00+00))), STBox(STBOX XT(((0,-150),(150,0)),[2022-06-27 00:00:00+00, 2022-06-27 00:10:00+00))), STBox(STBOX XT(((150,-150),(300,0)),[2022-06-27 00:00:00+00, 2022-06-27 00:10:00+00))), STBox(STBOX XT(((-300,0),(-150,150)),[2022-06-27 00:00:00+00, 2022-06-27 00:10:00+00))), STBox(STBOX XT(((-150,0),(0,150)),[2022-06-27 00:00:00+00, 2022-06-27 00:10:00+00))), STBox(STBOX XT(((0,0),(150,150)),[2022-06-27 00:00:00+00, 2022-06-27 00:10:00+00))), STBox(STBOX XT(((150,0),(300,150)),[2022-06-27 00:00:00+00, 2022-06-27 00:10:00+00))), STBox(STBOX XT(((-300,-150),(-150,0)),[2022-06-27 00:10:00+00, 2022-06-27 00:20:00+00))), STBox(STBOX XT(((-150,-150),(0,0)),[2022-06-27 00:10:00+00, 2022-06-27 00:20:00+00))), STBox(STBOX XT(((0,-150),(150,0)),[2022-06-27 00:10:00+00, 2022-06-27 00:20:00+00))), STBox(STBOX XT(((150,-150),(300,0)),[2022-06-27 00:10:00+00, 2022-06-27 00:20:00+00))), STBox(STBOX XT(((-300,0),(-150,150)),[2022-06-27 00:10:00+00, 2022-06-27 00:20:00+00))), STBox(STBOX XT(((-150,0),(0,150)),[2022-06-27 00:10:00+00, 2022-06-27 00:20:00+00))), STBox(STBOX XT(((0,0),(150,150)),[2022-06-27 00:10:00+00, 2022-06-27 00:20:00+00))), STBox(STBOX XT(((150,0),(300,150)),[2022-06-27 00:10:00+00, 2022-06-27 00:20:00+00)))]\n"
     ]
    }
   ],
   "source": [
    "# Tile mtehod only allows planar coordinates\n",
    "grid = bounds.tile(size=150, duration='10m')\n",
    "print(grid)"
   ]
  },
  {
   "cell_type": "code",
   "execution_count": 15,
   "id": "ab8f9c64-f8d2-4a35-bb43-39488a373267",
   "metadata": {},
   "outputs": [
    {
     "name": "stdout",
     "output_type": "stream",
     "text": [
      "[POINT(-81.5 28.73)@2022-06-27 00:00:10+00, POINT(-81.5 28.72)@2022-06-27 00:00:20+00, POINT(-81.48 28.7)@2022-06-27 00:00:40+00, POINT(-81.48 28.69)@2022-06-27 00:00:50+00, POINT(30.45 -70.02)@2022-06-27 00:00:55+00)\n",
      "0 0\n",
      "0 0\n",
      "Attempting:  1 {[POINT(-48.947635044 0.000017468000003)@2022-06-27 00:00:51.453246+00, POINT(-0.000019236 -43.166418308000004)@2022-06-27 00:00:53.639774+00)}\n",
      "0 0\n",
      "Attempting:  2 {[POINT(-0.000019236 -43.166418308000004)@2022-06-27 00:00:53.639774+00, POINT(30.45 -70.02)@2022-06-27 00:00:55+00)}\n",
      "0 0\n",
      "0 0\n",
      "0 0\n",
      "Attempting:  5 {[POINT(-81.5 28.73)@2022-06-27 00:00:10+00, POINT(-81.5 28.72)@2022-06-27 00:00:20+00, POINT(-81.48 28.7)@2022-06-27 00:00:40+00, POINT(-81.48 28.69)@2022-06-27 00:00:50+00, POINT(-48.947635044 0.000017468000003)@2022-06-27 00:00:51.453246+00)}\n",
      "0 0\n",
      "0 0\n",
      "0 0\n",
      "0 0\n",
      "0 0\n",
      "0 0\n",
      "0 0\n",
      "0 0\n",
      "0 0\n",
      "0 0\n"
     ]
    }
   ],
   "source": [
    "# Now if we try the .at() method\n",
    "\n",
    "tseq = TGeomPointSeq(string='SRID=0;[POINT(-81.5 28.73)@2022-06-27 00:00:10+00, POINT(-81.5 28.72)@2022-06-27 00:00:20+00, POINT(-81.48 28.7)@2022-06-27 00:00:40+00, POINT(-81.48 28.69)@2022-06-27 00:00:50+00, POINT(30.45 -70.02)@2022-06-27 00:00:55+00)')\n",
    "tseq = tseq.set_srid(0)\n",
    "\n",
    "print(tseq)\n",
    "\n",
    "for key, tile in enumerate(grid):\n",
    "    print(tile.srid(), tseq.srid())\n",
    "    \n",
    "    if tseq.at(tile) is not None:\n",
    "        print(\"Attempting: \", key, tseq.at(tile))"
   ]
  },
  {
   "cell_type": "code",
   "execution_count": 28,
   "id": "0b9b1aab-ede2-460b-8c58-c54ef6b7ebdd",
   "metadata": {},
   "outputs": [
    {
     "name": "stderr",
     "output_type": "stream",
     "text": [
      "MEOS ERROR: \n",
      "pymeos_cffi.errors.MeosInvalidArgValueError: MeosInvalidArgValueError (12): Operation on mixed planar and geodetic coordinates\n"
     ]
    },
    {
     "name": "stdout",
     "output_type": "stream",
     "text": [
      "0 0\n"
     ]
    },
    {
     "ename": "MeosInvalidArgValueError",
     "evalue": "MeosInvalidArgValueError (12): Operation on mixed planar and geodetic coordinates",
     "output_type": "error",
     "traceback": [
      "\u001b[0;31m---------------------------------------------------------------------------\u001b[0m",
      "\u001b[0;31mMeosInvalidArgValueError\u001b[0m                  Traceback (most recent call last)",
      "Cell \u001b[0;32mIn[28], line 9\u001b[0m\n\u001b[1;32m      7\u001b[0m \u001b[38;5;28mprint\u001b[39m(tile\u001b[38;5;241m.\u001b[39msrid(), tseqm\u001b[38;5;241m.\u001b[39msrid())\n\u001b[1;32m      8\u001b[0m \u001b[38;5;66;03m#tseqm = tseqm.set_srid(0)\u001b[39;00m\n\u001b[0;32m----> 9\u001b[0m \u001b[38;5;28;01mif\u001b[39;00m \u001b[43mtseq\u001b[49m\u001b[38;5;241;43m.\u001b[39;49m\u001b[43mat\u001b[49m\u001b[43m(\u001b[49m\u001b[43mtile\u001b[49m\u001b[43m)\u001b[49m \u001b[38;5;129;01mis\u001b[39;00m \u001b[38;5;129;01mnot\u001b[39;00m \u001b[38;5;28;01mNone\u001b[39;00m:\n\u001b[1;32m     10\u001b[0m     \u001b[38;5;28mprint\u001b[39m(\u001b[38;5;124m\"\u001b[39m\u001b[38;5;124mAttempting: \u001b[39m\u001b[38;5;124m\"\u001b[39m, key, tseqm\u001b[38;5;241m.\u001b[39mat(tile))\n",
      "File \u001b[0;32m/usr/local/lib/python3.9/dist-packages/pymeos/main/tpoint.py:536\u001b[0m, in \u001b[0;36mTPoint.at\u001b[0;34m(self, other)\u001b[0m\n\u001b[1;32m    534\u001b[0m     result \u001b[38;5;241m=\u001b[39m temporal_at_values(\u001b[38;5;28mself\u001b[39m\u001b[38;5;241m.\u001b[39m_inner, other\u001b[38;5;241m.\u001b[39m_inner)\n\u001b[1;32m    535\u001b[0m \u001b[38;5;28;01melif\u001b[39;00m \u001b[38;5;28misinstance\u001b[39m(other, STBox):\n\u001b[0;32m--> 536\u001b[0m     result \u001b[38;5;241m=\u001b[39m \u001b[43mtpoint_at_stbox\u001b[49m\u001b[43m(\u001b[49m\u001b[38;5;28;43mself\u001b[39;49m\u001b[38;5;241;43m.\u001b[39;49m\u001b[43m_inner\u001b[49m\u001b[43m,\u001b[49m\u001b[43m \u001b[49m\u001b[43mother\u001b[49m\u001b[38;5;241;43m.\u001b[39;49m\u001b[43m_inner\u001b[49m\u001b[43m,\u001b[49m\u001b[43m \u001b[49m\u001b[38;5;28;43;01mTrue\u001b[39;49;00m\u001b[43m)\u001b[49m\n\u001b[1;32m    537\u001b[0m \u001b[38;5;28;01melse\u001b[39;00m:\n\u001b[1;32m    538\u001b[0m     \u001b[38;5;28;01mreturn\u001b[39;00m \u001b[38;5;28msuper\u001b[39m()\u001b[38;5;241m.\u001b[39mat(other)\n",
      "File \u001b[0;32m/usr/local/lib/python3.9/dist-packages/pymeos_cffi/functions.py:8037\u001b[0m, in \u001b[0;36mtpoint_at_stbox\u001b[0;34m(temp, box, border_inc)\u001b[0m\n\u001b[1;32m   8035\u001b[0m box_converted \u001b[38;5;241m=\u001b[39m _ffi\u001b[38;5;241m.\u001b[39mcast(\u001b[38;5;124m\"\u001b[39m\u001b[38;5;124mconst STBox *\u001b[39m\u001b[38;5;124m\"\u001b[39m, box)\n\u001b[1;32m   8036\u001b[0m result \u001b[38;5;241m=\u001b[39m _lib\u001b[38;5;241m.\u001b[39mtpoint_at_stbox(temp_converted, box_converted, border_inc)\n\u001b[0;32m-> 8037\u001b[0m \u001b[43m_check_error\u001b[49m\u001b[43m(\u001b[49m\u001b[43m)\u001b[49m\n\u001b[1;32m   8038\u001b[0m \u001b[38;5;28;01mreturn\u001b[39;00m result \u001b[38;5;28;01mif\u001b[39;00m result \u001b[38;5;241m!=\u001b[39m _ffi\u001b[38;5;241m.\u001b[39mNULL \u001b[38;5;28;01melse\u001b[39;00m \u001b[38;5;28;01mNone\u001b[39;00m\n",
      "File \u001b[0;32m/usr/local/lib/python3.9/dist-packages/pymeos_cffi/functions.py:34\u001b[0m, in \u001b[0;36m_check_error\u001b[0;34m()\u001b[0m\n\u001b[1;32m     32\u001b[0m _error_level \u001b[38;5;241m=\u001b[39m \u001b[38;5;28;01mNone\u001b[39;00m\n\u001b[1;32m     33\u001b[0m _error_message \u001b[38;5;241m=\u001b[39m \u001b[38;5;28;01mNone\u001b[39;00m\n\u001b[0;32m---> 34\u001b[0m \u001b[43mreport_meos_exception\u001b[49m\u001b[43m(\u001b[49m\u001b[43merror_level\u001b[49m\u001b[43m,\u001b[49m\u001b[43m \u001b[49m\u001b[43merror\u001b[49m\u001b[43m,\u001b[49m\u001b[43m \u001b[49m\u001b[43merror_message\u001b[49m\u001b[43m)\u001b[49m\n",
      "File \u001b[0;32m/usr/local/lib/python3.9/dist-packages/pymeos_cffi/errors.py:178\u001b[0m, in \u001b[0;36mreport_meos_exception\u001b[0;34m(level, code, message)\u001b[0m\n\u001b[1;32m    176\u001b[0m \u001b[38;5;28;01melif\u001b[39;00m level \u001b[38;5;241m==\u001b[39m ErrorLevel\u001b[38;5;241m.\u001b[39mERROR:\n\u001b[1;32m    177\u001b[0m     logger\u001b[38;5;241m.\u001b[39merror(\u001b[38;5;124m\"\u001b[39m\u001b[38;5;124mMEOS ERROR: \u001b[39m\u001b[38;5;124m\"\u001b[39m, exc_info\u001b[38;5;241m=\u001b[39mexception)\n\u001b[0;32m--> 178\u001b[0m     \u001b[38;5;28;01mraise\u001b[39;00m exception\n\u001b[1;32m    179\u001b[0m \u001b[38;5;28;01melse\u001b[39;00m:\n\u001b[1;32m    180\u001b[0m     logger\u001b[38;5;241m.\u001b[39merror(\u001b[38;5;124mf\u001b[39m\u001b[38;5;124m\"\u001b[39m\u001b[38;5;124mError raised with unknown level \u001b[39m\u001b[38;5;132;01m{\u001b[39;00mlevel\u001b[38;5;132;01m}\u001b[39;00m\u001b[38;5;124m: \u001b[39m\u001b[38;5;132;01m{\u001b[39;00mexception\u001b[38;5;132;01m}\u001b[39;00m\u001b[38;5;124m\"\u001b[39m)\n",
      "\u001b[0;31mMeosInvalidArgValueError\u001b[0m: MeosInvalidArgValueError (12): Operation on mixed planar and geodetic coordinates"
     ]
    }
   ],
   "source": [
    "tseq = TGeogPointSeq(string='[POINT(-81.5 28.73)@2022-06-27 00:00:10+00, POINT(-81.5 28.72)@2022-06-27 00:00:20+00, POINT(-81.48 28.7)@2022-06-27 00:00:40+00, POINT(-81.48 28.69)@2022-06-27 00:00:50+00, POINT(30.45 -70.02)@2022-06-27 00:00:55+00)')\n",
    "\n",
    "#instants = [inst for inst in tseq.instants()]\n",
    "\n",
    "tseqm = TGeomPointSeq(tseq.__str__())\n",
    "for key, tile in enumerate(grid):\n",
    "    print(tile.srid(), tseqm.srid())\n",
    "    #tseqm = tseqm.set_srid(0)\n",
    "    if tseq.at(tile) is not None:\n",
    "        print(\"Attempting: \", key, tseqm.at(tile))"
   ]
  },
  {
   "cell_type": "code",
   "execution_count": null,
   "id": "a9cdf10b-63d2-4ae9-9f40-a264a60f6806",
   "metadata": {},
   "outputs": [],
   "source": []
  }
 ],
 "metadata": {
  "kernelspec": {
   "display_name": "Python 3 (ipykernel)",
   "language": "python",
   "name": "python3"
  },
  "language_info": {
   "codemirror_mode": {
    "name": "ipython",
    "version": 3
   },
   "file_extension": ".py",
   "mimetype": "text/x-python",
   "name": "python",
   "nbconvert_exporter": "python",
   "pygments_lexer": "ipython3",
   "version": "3.9.2"
  }
 },
 "nbformat": 4,
 "nbformat_minor": 5
}
