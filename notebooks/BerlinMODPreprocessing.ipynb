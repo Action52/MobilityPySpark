{
 "cells": [
  {
   "cell_type": "code",
   "execution_count": 1,
   "id": "a38ee872-1263-4138-b68d-cb9a650b743e",
   "metadata": {},
   "outputs": [
    {
     "name": "stdout",
     "output_type": "stream",
     "text": [
      "/data/MobilityDB-BerlinMOD/BerlinMOD/BerlinMOD_0_005_CSV_new\n"
     ]
    },
    {
     "name": "stderr",
     "output_type": "stream",
     "text": [
      "/usr/local/lib/python3.9/dist-packages/IPython/core/magics/osm.py:417: UserWarning: using dhist requires you to install the `pickleshare` library.\n",
      "  self.shell.db['dhist'] = compress_dhist(dhist)[-100:]\n"
     ]
    }
   ],
   "source": [
    "cd '../../MobilityDB-BerlinMOD/BerlinMOD/BerlinMOD_0_005_CSV_new'"
   ]
  },
  {
   "cell_type": "code",
   "execution_count": 2,
   "id": "d868a0ee-4be2-4274-9022-f1e11ca1004f",
   "metadata": {},
   "outputs": [],
   "source": [
    "from pyspark.sql import SparkSession\n",
    "from pyspark.sql.types import *\n",
    "import pyspark.sql.functions as F\n",
    "\n",
    "from pysparkmeos.UDT.MeosDatatype import *\n",
    "from pysparkmeos.utils.udt_appender import *\n",
    "\n",
    "import os, sys"
   ]
  },
  {
   "cell_type": "markdown",
   "id": "c2f4fa28-4c0c-4e09-98d4-87ca8acdd034",
   "metadata": {},
   "source": [
    "## Initialize"
   ]
  },
  {
   "cell_type": "code",
   "execution_count": 3,
   "id": "97e4edc5-152f-48f4-bcf1-9ff914026681",
   "metadata": {},
   "outputs": [
    {
     "name": "stderr",
     "output_type": "stream",
     "text": [
      "Setting default log level to \"WARN\".\n",
      "To adjust logging level use sc.setLogLevel(newLevel). For SparkR, use setLogLevel(newLevel).\n",
      "24/05/02 08:33:12 WARN NativeCodeLoader: Unable to load native-hadoop library for your platform... using builtin-java classes where applicable\n"
     ]
    },
    {
     "name": "stdout",
     "output_type": "stream",
     "text": [
      "spark.default.parallelism: None\n"
     ]
    }
   ],
   "source": [
    "# Initialize PyMEOS\n",
    "pymeos_initialize(\"UTC\")\n",
    "\n",
    "os.environ['PYSPARK_DRIVER_PYTHON_OPTS']= \"notebook\"\n",
    "os.environ['PYSPARK_DRIVER_PYTHON'] = sys.executable\n",
    "os.environ['PYSPARK_PYTHON'] = sys.executable\n",
    "\n",
    "#     #.config(\"spark.default.parallelism\", 12) \\\n",
    "#    .config(\"spark.memory.offHeap.enabled\",\"true\") \\\n",
    "#    .config(\"spark.memory.offHeap.size\",\"1g\") \\\n",
    "# Initialize a Spark session\n",
    "spark = SparkSession.builder \\\n",
    "    .appName(\"Preprocess BerlinMOD CSV\") \\\n",
    "    .master(\"local[*]\") \\\n",
    "    .config(\"spark.executor.memory\", \"4g\") \\\n",
    "    .config(\"spark.driver.memory\", \"4g\") \\\n",
    "    .config(\"spark.sql.execution.arrow.maxRecordsPerBatch\", \"100\") \\\n",
    "    .config(\"spark.sql.execution.arrow.pyspark.enabled\", \"true\") \\\n",
    "    .getOrCreate()\n",
    "\n",
    "# spark.sparkContext.setLogLevel(\"INFO\")\n",
    "\n",
    "# Append the UDT mapping to the PyMEOS classes\n",
    "udt_append()\n",
    "\n",
    "# Get the value of 'spark.default.parallelism'\n",
    "default_parallelism = spark.sparkContext.getConf().get(\"spark.default.parallelism\")\n",
    "\n",
    "#spark.sparkContext.getConf().install_pypi_package(\"pyarrow==0.14.1\")\n",
    "\n",
    "print(f\"spark.default.parallelism: {default_parallelism}\")"
   ]
  },
  {
   "cell_type": "markdown",
   "id": "7306ca08-86a9-448f-92e8-550401fdafde",
   "metadata": {},
   "source": [
    "## Read the dataframes"
   ]
  },
  {
   "cell_type": "code",
   "execution_count": 4,
   "id": "4c6a3ebe-9a79-4553-b9fb-17576935b56b",
   "metadata": {
    "scrolled": true
   },
   "outputs": [
    {
     "name": "stderr",
     "output_type": "stream",
     "text": [
      "                                                                                \r"
     ]
    },
    {
     "name": "stdout",
     "output_type": "stream",
     "text": [
      "+---+-----------------------+\n",
      "|Id |Instant                |\n",
      "+---+-----------------------+\n",
      "|1  |2007-05-28 19:08:40.114|\n",
      "|2  |2007-05-29 11:38:44.224|\n",
      "|3  |2007-05-29 09:17:42.536|\n",
      "+---+-----------------------+\n",
      "only showing top 3 rows\n",
      "\n",
      "+---+-------+-------+\n",
      "|Id |Pos_x  |Pos_y  |\n",
      "+---+-------+-------+\n",
      "|1  |23144.0|11963.0|\n",
      "|2  |13838.0|15113.0|\n",
      "|3  |16786.0|11668.0|\n",
      "+---+-------+-------+\n",
      "only showing top 3 rows\n",
      "\n",
      "+----+-------+---------+--------+\n",
      "|Moid|Licence|Type     |Model   |\n",
      "+----+-------+---------+--------+\n",
      "|1   |B-RL 1 |passenger|Audi    |\n",
      "|2   |B-XW 2 |passenger|Audi    |\n",
      "|3   |B-BH 3 |passenger|Multicar|\n",
      "+----+-------+---------+--------+\n",
      "only showing top 3 rows\n",
      "\n",
      "+---+-----------------------+-----------------------+\n",
      "|Id |Begin                  |End                    |\n",
      "+---+-----------------------+-----------------------+\n",
      "|1  |2007-05-28 04:08:41.33 |2007-05-28 15:00:46.322|\n",
      "|2  |2007-05-28 07:39:14.538|2007-05-29 05:07:26.278|\n",
      "|3  |2007-05-29 05:39:24.335|2007-05-29 11:26:44.682|\n",
      "+---+-----------------------+-----------------------+\n",
      "only showing top 3 rows\n",
      "\n",
      "+---+----+------+------+------+------+\n",
      "|Id |Vmax|X1    |Y1    |X2    |Y2    |\n",
      "+---+----+------+------+------+------+\n",
      "|1  |50  |8209.0|8769.0|8293.0|8768.0|\n",
      "|1  |50  |8293.0|8768.0|8594.0|8773.0|\n",
      "|1  |50  |8594.0|8773.0|8982.0|8781.0|\n",
      "+---+----+------+------+------+------+\n",
      "only showing top 3 rows\n",
      "\n",
      "+---+-----+-------+-------+-------+-------+\n",
      "|Id |SegNo|Xstart |Ystart |Xend   |Yend   |\n",
      "+---+-----+-------+-------+-------+-------+\n",
      "|1  |0    |15106.9|14581.9|15104.0|14647.0|\n",
      "|1  |1    |15104.0|14647.0|15106.9|14712.1|\n",
      "|1  |2    |15106.9|14712.1|15115.7|14776.6|\n",
      "+---+-----+-------+-------+-------+-------+\n",
      "only showing top 3 rows\n",
      "\n",
      "+----+------+-----------------------+-----------------------+-------+------+-------+------+\n",
      "|Moid|Tripid|Tstart                 |Tend                   |Xstart |Ystart|Xend   |Yend  |\n",
      "+----+------+-----------------------+-----------------------+-------+------+-------+------+\n",
      "|1   |1     |2007-05-27 00:00:00    |2007-05-28 08:36:47.846|12785.0|1308.0|12785.0|1308.0|\n",
      "|1   |2     |2007-05-28 08:36:47.846|2007-05-28 08:36:49.846|12785.0|1308.0|12793.0|1310.2|\n",
      "|1   |2     |2007-05-28 08:36:49.846|2007-05-28 08:36:51.846|12793.0|1310.2|12808.7|1314.5|\n",
      "+----+------+-----------------------+-----------------------+-------+------+-------+------+\n",
      "only showing top 3 rows\n",
      "\n",
      "+--------+---+\n",
      "|Licence |Id |\n",
      "+--------+---+\n",
      "|B-YI 65 |1  |\n",
      "|B-YI 65 |2  |\n",
      "|B-FU 113|3  |\n",
      "+--------+---+\n",
      "only showing top 3 rows\n",
      "\n",
      "root\n",
      " |-- Id: integer (nullable = true)\n",
      " |-- Instant: timestamp (nullable = true)\n",
      "\n",
      "root\n",
      " |-- Id: integer (nullable = true)\n",
      " |-- Pos_x: double (nullable = true)\n",
      " |-- Pos_y: double (nullable = true)\n",
      "\n",
      "root\n",
      " |-- Moid: integer (nullable = true)\n",
      " |-- Licence: string (nullable = true)\n",
      " |-- Type: string (nullable = true)\n",
      " |-- Model: string (nullable = true)\n",
      "\n",
      "root\n",
      " |-- Id: integer (nullable = true)\n",
      " |-- Begin: timestamp (nullable = true)\n",
      " |-- End: timestamp (nullable = true)\n",
      "\n",
      "root\n",
      " |-- Id: integer (nullable = true)\n",
      " |-- Vmax: integer (nullable = true)\n",
      " |-- X1: double (nullable = true)\n",
      " |-- Y1: double (nullable = true)\n",
      " |-- X2: double (nullable = true)\n",
      " |-- Y2: double (nullable = true)\n",
      "\n",
      "root\n",
      " |-- Id: integer (nullable = true)\n",
      " |-- SegNo: integer (nullable = true)\n",
      " |-- Xstart: double (nullable = true)\n",
      " |-- Ystart: double (nullable = true)\n",
      " |-- Xend: double (nullable = true)\n",
      " |-- Yend: double (nullable = true)\n",
      "\n",
      "root\n",
      " |-- Moid: integer (nullable = true)\n",
      " |-- Tripid: integer (nullable = true)\n",
      " |-- Tstart: timestamp (nullable = true)\n",
      " |-- Tend: timestamp (nullable = true)\n",
      " |-- Xstart: double (nullable = true)\n",
      " |-- Ystart: double (nullable = true)\n",
      " |-- Xend: double (nullable = true)\n",
      " |-- Yend: double (nullable = true)\n",
      "\n",
      "root\n",
      " |-- Licence: string (nullable = true)\n",
      " |-- Id: integer (nullable = true)\n",
      "\n"
     ]
    }
   ],
   "source": [
    "csvs = os.listdir()\n",
    "\n",
    "queryinstants = spark.read.csv('queryinstants.csv', header=True, inferSchema=True)\n",
    "querypoints = spark.read.csv('querypoints.csv', header=True, inferSchema=True)\n",
    "datamcar = spark.read.csv('datamcar.csv', header=True, inferSchema=True)\n",
    "queryperiods = spark.read.csv('queryperiods.csv', header=True, inferSchema=True)\n",
    "streets = spark.read.csv('streets.csv', header=True, inferSchema=True)\n",
    "queryregions = spark.read.csv('queryregions.csv', header=True, inferSchema=True)\n",
    "trips = spark.read.csv('trips.csv', header=True, inferSchema=True)\n",
    "querylicences = spark.read.csv('querylicences.csv', header=True, inferSchema=True)\n",
    "\n",
    "queryinstants.show(3, truncate=False)\n",
    "querypoints.show(3, truncate=False)\n",
    "datamcar.show(3, truncate=False)\n",
    "queryperiods.show(3, truncate=False)\n",
    "streets.show(3, truncate=False)\n",
    "queryregions.show(3, truncate=False)\n",
    "trips.show(3, truncate=False)\n",
    "querylicences.show(3, truncate=False)\n",
    "\n",
    "queryinstants.printSchema()\n",
    "querypoints.printSchema()\n",
    "datamcar.printSchema()\n",
    "queryperiods.printSchema()\n",
    "streets.printSchema()\n",
    "queryregions.printSchema()\n",
    "trips.printSchema()\n",
    "querylicences.printSchema()"
   ]
  },
  {
   "cell_type": "markdown",
   "id": "8615a154-552c-4ea0-bf26-928be33cc032",
   "metadata": {},
   "source": [
    "### Add TsTzSpan to QueryPeriods"
   ]
  },
  {
   "cell_type": "code",
   "execution_count": 5,
   "id": "24715ed2-1871-4bb7-9765-b93e4fc2ac59",
   "metadata": {},
   "outputs": [
    {
     "name": "stderr",
     "output_type": "stream",
     "text": [
      "[Stage 24:>                                                         (0 + 1) / 1]\r"
     ]
    },
    {
     "name": "stdout",
     "output_type": "stream",
     "text": [
      "+---+------------------------------------------------+\n",
      "|Id |TsTzSpan                                        |\n",
      "+---+------------------------------------------------+\n",
      "|1  |[2007-05-28 04:08:41+00, 2007-05-28 15:00:46+00)|\n",
      "|2  |[2007-05-28 07:39:14+00, 2007-05-29 05:07:26+00)|\n",
      "|3  |[2007-05-29 05:39:24+00, 2007-05-29 11:26:44+00)|\n",
      "+---+------------------------------------------------+\n",
      "only showing top 3 rows\n",
      "\n",
      "root\n",
      " |-- Id: integer (nullable = true)\n",
      " |-- Begin: timestamp (nullable = true)\n",
      " |-- End: timestamp (nullable = true)\n",
      " |-- TsTzSpan: pythonuserdefined (nullable = true)\n",
      "\n"
     ]
    },
    {
     "name": "stderr",
     "output_type": "stream",
     "text": [
      "                                                                                \r"
     ]
    }
   ],
   "source": [
    "@F.udf(returnType=TsTzSpanUDT())\n",
    "def to_period_udf(begin, end):\n",
    "    pymeos_initialize()\n",
    "    return TsTzSpan(lower=begin, upper=end)\n",
    "\n",
    "queryperiods = queryperiods.withColumn(\"TsTzSpan\", to_period_udf(\"begin\", \"end\"))\n",
    "queryperiods.select(\"Id\", \"TsTzSpan\").show(3, truncate=False)\n",
    "queryperiods.printSchema()"
   ]
  },
  {
   "cell_type": "markdown",
   "id": "561fddc7-0c32-4546-9523-629b20d780f1",
   "metadata": {},
   "source": [
    "### Optimize Trips table with PyMEOS"
   ]
  },
  {
   "cell_type": "code",
   "execution_count": 9,
   "id": "95357d68-ddf6-4876-b0e8-22eb80d11490",
   "metadata": {},
   "outputs": [
    {
     "name": "stderr",
     "output_type": "stream",
     "text": [
      "                                                                                \r"
     ]
    },
    {
     "name": "stdout",
     "output_type": "stream",
     "text": [
      "+----+------+--------------------+--------------------+-------+-------+-------+-------+--------------------+\n",
      "|Moid|Tripid|              Tstart|                Tend| Xstart| Ystart|   Xend|   Yend|            Sequence|\n",
      "+----+------+--------------------+--------------------+-------+-------+-------+-------+--------------------+\n",
      "|   1|     1| 2007-05-27 00:00:00|2007-05-28 08:36:...|12785.0| 1308.0|12785.0| 1308.0|[POINT(-175 -48)@...|\n",
      "|   1|     2|2007-05-28 08:36:...|2007-05-28 08:36:...|12785.0| 1308.0|12793.0| 1310.2|[POINT(-175 -48)@...|\n",
      "|   1|     2|2007-05-28 08:36:...|2007-05-28 08:36:...|12793.0| 1310.2|12808.7| 1314.5|[POINT(-167 -50.2...|\n",
      "|   1|     2|2007-05-28 08:36:...|2007-05-28 08:36:...|12808.7| 1314.5|12824.8| 1318.9|[POINT(-151.29999...|\n",
      "|   1|     2|2007-05-28 08:36:...|2007-05-28 08:36:...|12824.8| 1318.9|12840.9| 1323.3|[POINT(-135.20000...|\n",
      "|   1|     2|2007-05-28 08:36:...|2007-05-28 08:36:...|12840.9| 1323.3|12855.2|1327.22|[POINT(-119.10000...|\n",
      "|   1|     2|2007-05-28 08:36:...|2007-05-28 08:36:...|12855.2|1327.22|12869.8|1331.23|[POINT(-104.79999...|\n",
      "|   1|     2|2007-05-28 08:36:...|2007-05-28 08:37:...|12869.8|1331.23|12883.3|1334.92|[POINT(-90.200000...|\n",
      "|   1|     2|2007-05-28 08:37:...|2007-05-28 08:37:...|12883.3|1334.92|12899.3|1339.33|[POINT(-76.700000...|\n",
      "|   1|     2|2007-05-28 08:37:...|2007-05-28 08:37:...|12899.3|1339.33|12915.4|1343.73|[POINT(-60.700000...|\n",
      "|   1|     2|2007-05-28 08:37:...|2007-05-28 08:37:...|12915.4|1343.73|12931.0| 1348.0|[POINT(-44.600000...|\n",
      "|   1|     2|2007-05-28 08:37:...|2007-05-28 08:37:...|12931.0| 1348.0|12930.4|1356.31|[POINT(-29 -88)@2...|\n",
      "|   1|     2|2007-05-28 08:37:...|2007-05-28 08:37:...|12930.4|1356.31|12928.6|1380.07|[POINT(-29.600000...|\n",
      "|   1|     2|2007-05-28 08:37:...|2007-05-28 08:37:...|12928.6|1380.07|12926.6|1407.77|[POINT(-31.399999...|\n",
      "|   1|     2|2007-05-28 08:37:...|2007-05-28 08:37:...|12926.6|1407.77|12924.6|1435.47|[POINT(-33.399999...|\n",
      "|   1|     2|2007-05-28 08:37:...|2007-05-28 08:37:...|12924.6|1435.47|12922.8|1459.88|[POINT(-35.399999...|\n",
      "|   1|     2|2007-05-28 08:37:...|2007-05-28 08:37:...|12922.8|1459.88|12920.7|1487.58|[POINT(-37.200000...|\n",
      "|   1|     2|2007-05-28 08:37:...|2007-05-28 08:37:...|12920.7|1487.58|12918.7|1515.28|[POINT(-39.299999...|\n",
      "|   1|     2|2007-05-28 08:37:...|2007-05-28 08:37:...|12918.7|1515.28|12916.6|1542.99|[POINT(-41.299999...|\n",
      "|   1|     2|2007-05-28 08:37:...|2007-05-28 08:37:...|12916.6|1542.99|12914.6|1570.69|[POINT(-43.399999...|\n",
      "+----+------+--------------------+--------------------+-------+-------+-------+-------+--------------------+\n",
      "only showing top 20 rows\n",
      "\n"
     ]
    },
    {
     "name": "stderr",
     "output_type": "stream",
     "text": [
      "[Stage 45:>                                                         (0 + 1) / 1]\r"
     ]
    },
    {
     "name": "stdout",
     "output_type": "stream",
     "text": [
      "+----+------+--------------------+\n",
      "|Moid|Tripid|          Trajectory|\n",
      "+----+------+--------------------+\n",
      "|   1|     1|{[POINT(-175 -48)...|\n",
      "|   1|     2|{[POINT(-175 -48)...|\n",
      "|   1|     3|{[POINT(-109 4)@2...|\n",
      "|   1|     4|{[POINT(-109 4)@2...|\n",
      "|   1|     5|{[POINT(-175 -48)...|\n",
      "|   1|     6|{[POINT(-175 -48)...|\n",
      "|   1|     7|{[POINT(-109 4)@2...|\n",
      "|   1|     8|{[POINT(-109 4)@2...|\n",
      "|   1|     9|{[POINT(-175 -48)...|\n",
      "|   2|    10|{[POINT(-4 -55)@2...|\n",
      "|   2|    11|{[POINT(-4 -55)@2...|\n",
      "|   2|    12|{[POINT(-123 72)@...|\n",
      "|   2|    13|{[POINT(-123 72)@...|\n",
      "|   2|    14|{[POINT(-4 -55)@2...|\n",
      "|   2|    15|{[POINT(-4 -55)@2...|\n",
      "|   2|    16|{[POINT(11 37)@20...|\n",
      "|   2|    17|{[POINT(11 37)@20...|\n",
      "|   2|    18|{[POINT(-4 -55)@2...|\n",
      "|   2|    19|{[POINT(-4 -55)@2...|\n",
      "|   2|    20|{[POINT(-123 72)@...|\n",
      "+----+------+--------------------+\n",
      "only showing top 20 rows\n",
      "\n"
     ]
    },
    {
     "name": "stderr",
     "output_type": "stream",
     "text": [
      "                                                                                \r"
     ]
    }
   ],
   "source": [
    "import pandas as pd\n",
    "from typing import Iterator\n",
    "import pickle\n",
    "\n",
    "@F.pandas_udf(returnType=StringType())\n",
    "def berlinmod_trip_to_trajectory(seqs: pd.Series) -> pd.Series:\n",
    "    return seqs.apply(lambda seq: seq_to_trajectory(seq))\n",
    "\n",
    "def seq_to_trajectory(seq):\n",
    "    pymeos_initialize()\n",
    "    return TGeogPointSeqSet(sequence_list=seq).__str__()\n",
    "\n",
    "def get_seq(xstart, ystart, xend, yend, tstart, tend):\n",
    "    pymeos_initialize()\n",
    "    return TGeogPointSeqWrap(f\"[POINT({xstart} {ystart})@{tstart}, POINT({xend} {yend})@{tend})\").__str__()\n",
    "\n",
    "@F.pandas_udf(\"string\")\n",
    "def berlinmod_trip_to_seq(xstart: pd.Series, \n",
    "                          ystart: pd.Series, \n",
    "                          xend: pd.Series, \n",
    "                          yend: pd.Series, \n",
    "                          tstart: pd.Series, \n",
    "                          tend: pd.Series) -> pd.Series:\n",
    "    temp_df = pd.DataFrame({\n",
    "        'xstart': xstart,\n",
    "        'ystart': ystart,\n",
    "        'xend': xend,\n",
    "        'yend': yend,\n",
    "        'tstart': tstart,\n",
    "        'tend': tend\n",
    "    })\n",
    "    return temp_df.apply(lambda row: get_seq(row['xstart'], row['ystart'], row['xend'], row['yend'], row['tstart'], row['tend']), axis=1)\n",
    "\n",
    "trips = spark.read.csv('trips.csv', header=True, inferSchema=True).limit(10000)\n",
    "trips.repartition(\"Moid\", \"Tripid\")\n",
    "trips = trips.withColumn(\"Sequence\", berlinmod_trip_to_seq(\"Xstart\", \"Ystart\", \"Xend\", \"Yend\", \"Tstart\", \"Tend\"))\n",
    "\n",
    "trips.show()\n",
    "\n",
    "trips = trips.groupby(\"Moid\", \"Tripid\").agg(\n",
    "    berlinmod_trip_to_trajectory(F.collect_list(\"Sequence\")).alias(\"Trajectory\")\n",
    ")\n",
    "\n",
    "trips.show()"
   ]
  },
  {
   "cell_type": "code",
   "execution_count": 10,
   "id": "a941f8d1-9c9f-4a15-a9b3-67eee768eb09",
   "metadata": {},
   "outputs": [
    {
     "name": "stderr",
     "output_type": "stream",
     "text": [
      "                                                                                \r"
     ]
    }
   ],
   "source": [
    "trips.write.csv(\"trips_proc.csv\", header=True, mode=\"overwrite\")\n",
    "queryperiods.write.csv(\"queryperiods_proc.csv\", header=True, mode=\"overwrite\")"
   ]
  },
  {
   "cell_type": "code",
   "execution_count": null,
   "id": "08cbf808-c050-48d4-b2df-3b42f55ef7a4",
   "metadata": {},
   "outputs": [],
   "source": [
    "\"\"\"\n",
    "SELECT tgeogpointSeq(ARRAY[tgeogpoint 'Point(1 1)@2001-01-01 08:00:00',\n",
    "'Point(2 2)@2001-01-01 08:05:00']);\n",
    "\"\"\"\n",
    "pymeos_initialize()\n",
    "tps = TGeogPointSeq(\"[POINT(1 1)@2001-01-01 08:00:00, Point(0 0)@2001-01-01 08:05:00)\")\n",
    "print(tps)"
   ]
  },
  {
   "cell_type": "code",
   "execution_count": null,
   "id": "b44eed80-72dd-44f8-84aa-3bd8b3a14c7b",
   "metadata": {},
   "outputs": [],
   "source": []
  }
 ],
 "metadata": {
  "kernelspec": {
   "display_name": "Python 3 (ipykernel)",
   "language": "python",
   "name": "python3"
  },
  "language_info": {
   "codemirror_mode": {
    "name": "ipython",
    "version": 3
   },
   "file_extension": ".py",
   "mimetype": "text/x-python",
   "name": "python",
   "nbconvert_exporter": "python",
   "pygments_lexer": "ipython3",
   "version": "3.9.2"
  }
 },
 "nbformat": 4,
 "nbformat_minor": 5
}
