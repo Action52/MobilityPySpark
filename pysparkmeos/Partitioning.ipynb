{
 "cells": [
  {
   "cell_type": "markdown",
   "id": "421aa69f-203f-453a-b8da-1981bce85a9f",
   "metadata": {},
   "source": [
    "# Partitioning Schemes with PyMEOS and Pyspark"
   ]
  },
  {
   "cell_type": "code",
   "execution_count": 1,
   "id": "3b0225c6-4378-4fc8-a145-bb8ce29baa73",
   "metadata": {},
   "outputs": [],
   "source": [
    "from pyspark.sql import SparkSession\n",
    "from pyspark.sql.types import *\n",
    "from pyspark.serializers import PickleSerializer\n",
    "import pyspark.sql.functions as F\n",
    "\n",
    "from pyspark.storagelevel import StorageLevel\n",
    "\n",
    "from pysparkmeos.partitions.grid.grid_partitioner import GridPartition\n",
    "\n",
    "from pysparkmeos.utils.udt_appender import udt_append\n",
    "from pysparkmeos.UDF.udf import *\n",
    "from pysparkmeos.partitions.mobilityrdd import MobilityRDD, MobilityPartitioner\n",
    "\n",
    "import random, datetime\n",
    "\n",
    "from datetime import timedelta\n",
    "from functools import partial\n",
    "from datetime import datetime, timezone\n",
    "import contextily as cx\n",
    "import distinctipy\n",
    "import geopandas as gpd\n",
    "import matplotlib.pyplot as plt\n",
    "import pandas as pd\n",
    "import shapely.geometry as shp\n",
    "from pymeos.plotters import (\n",
    "    TemporalPointSequenceSetPlotter,\n",
    "    TemporalPointSequencePlotter,\n",
    ")\n",
    "\n",
    "import matplotlib.pyplot as plt\n",
    "import numpy as np\n",
    "import os, sys\n",
    "from shapely import wkb, box\n",
    "import pandas as pd\n",
    "from functools import reduce\n",
    "\n",
    "from pymeos import TPoint, TPointInst, TPointSeq, TPointSeqSet\n",
    "from typing import Iterator, List\n",
    "import pandas as pd\n",
    "\n",
    "pymeos_initialize()"
   ]
  },
  {
   "cell_type": "code",
   "execution_count": 2,
   "id": "83da25ca-fda2-4840-8797-b19b62b86316",
   "metadata": {},
   "outputs": [
    {
     "data": {
      "text/plain": [
       "STBox(STBOX XT(((475982.1452146133,6583193.925816207),(495595.9328811999,6601525.43837019)),[2020-06-01 06:47:36.426576+00, 2020-06-11 14:58:24.149496+00)))"
      ]
     },
     "execution_count": 2,
     "metadata": {},
     "output_type": "execute_result"
    }
   ],
   "source": [
    "def gentestdata(read_as='TInst'):\n",
    "    testtrips = pd.read_csv(\"../../mobilitydb-berlinmod-sf0.1/trips_sample_pymeos.csv\", index_col=0)\n",
    "    testtrips['trip'] = testtrips['trip'].apply(lambda x: TGeomPointSeqSet(x))\n",
    "    bounds = TemporalPointExtentAggregator().aggregate(testtrips['trip'])\n",
    "    seqs1 = []\n",
    "    seqs = []\n",
    "    if read_as == 'TInst':\n",
    "        seqs1 = [trip.instants() for trip in testtrips['trip']]\n",
    "        for seq in seqs1:\n",
    "            seqs.extend(seq)\n",
    "        return seqs, bounds\n",
    "    if read_as == 'TSeq':\n",
    "        seqs1 = [trip.sequences() for trip in testtrips['trip']]\n",
    "        for seq in seqs1:\n",
    "            seqs.extend(seq)\n",
    "        return seqs, bounds\n",
    "    if read_as == 'TSeqSet':\n",
    "        return list(testtrips['trip']), bounds\n",
    "\n",
    "seqs, bounds = gentestdata(read_as='TSeq')\n",
    "bounds"
   ]
  },
  {
   "cell_type": "code",
   "execution_count": 3,
   "id": "4f3e3ab1-6ec2-4bcb-bdb2-4ac47b0a991f",
   "metadata": {},
   "outputs": [],
   "source": [
    "def new_bounds_from_axis(bounds, axis, p, to):\n",
    "        b = p.bounding_box()\n",
    "        if axis == 'x':\n",
    "            if to == 'left':\n",
    "                newbounds = STBox(\n",
    "                    xmax=b.xmax(), xmin=bounds.xmin(), \n",
    "                    ymax=bounds.ymax(), ymin=bounds.ymin(), \n",
    "                    zmax=bounds.zmax(), zmin=bounds.zmin(), \n",
    "                    tmax=bounds.tmax(), tmin=bounds.tmin()\n",
    "                )\n",
    "            else:\n",
    "                newbounds = STBox(\n",
    "                    xmax=bounds.xmax(), xmin=b.xmin(), \n",
    "                    ymax=bounds.ymax(), ymin=bounds.ymin(), \n",
    "                    zmax=bounds.zmax(), zmin=bounds.zmin(), \n",
    "                    tmax=bounds.tmax(), tmin=bounds.tmin()\n",
    "                )\n",
    "        if axis == 'y':\n",
    "            if to == 'left':\n",
    "                newbounds = STBox(\n",
    "                    xmax=bounds.xmax(), xmin=bounds.xmin(), \n",
    "                    ymax=b.ymax(), ymin=bounds.ymin(), \n",
    "                    zmax=bounds.zmax(), zmin=bounds.zmin(), \n",
    "                    tmax=bounds.tmax(), tmin=bounds.tmin()\n",
    "                )\n",
    "            else:\n",
    "                newbounds = STBox(\n",
    "                    xmax=bounds.xmax(), xmin=bounds.xmin(), \n",
    "                    ymax=bounds.ymax(), ymin=b.ymin(), \n",
    "                    zmax=bounds.zmax(), zmin=bounds.zmin(), \n",
    "                    tmax=bounds.tmax(), tmin=bounds.tmin()\n",
    "                )\n",
    "        if axis == 'z':\n",
    "            if to == 'left':\n",
    "                newbounds = STBox(\n",
    "                    xmax=bounds.xmax(), xmin=bounds.xmin(), \n",
    "                    ymax=bounds.ymax(), ymin=bounds.ymin(), \n",
    "                    zmax=b.zmax(), zmin=bounds.zmin(), \n",
    "                    tmax=bounds.tmax(), tmin=bounds.tmin()\n",
    "                )\n",
    "            else:\n",
    "                newbounds = STBox(\n",
    "                    xmax=bounds.xmax(), xmin=bounds.xmin(), \n",
    "                    ymax=bounds.ymax(), ymin=bounds.ymin(), \n",
    "                    zmax=bounds.zmax(), zmin=b.zmin(), \n",
    "                    tmax=bounds.tmax(), tmin=bounds.tmin()\n",
    "                )\n",
    "        if axis == 't':\n",
    "            if to == 'left':\n",
    "                newbounds = STBox(\n",
    "                    xmax=bounds.xmax(), xmin=bounds.xmin(), \n",
    "                    ymax=bounds.ymax(), ymin=bounds.ymin(), \n",
    "                    zmax=bounds.zmax(), zmin=bounds.zmin(), \n",
    "                    tmax=b.tmax(), tmin=bounds.tmin()\n",
    "                )\n",
    "            else:\n",
    "                newbounds = STBox(\n",
    "                    xmax=bounds.xmax(), xmin=bounds.xmin(), \n",
    "                    ymax=bounds.ymax(), ymin=bounds.ymin(), \n",
    "                    zmax=bounds.zmax(), zmin=bounds.zmin(), \n",
    "                    tmax=bounds.tmax(), tmin=b.tmin()\n",
    "                )\n",
    "        return newbounds"
   ]
  },
  {
   "cell_type": "code",
   "execution_count": 4,
   "id": "019ec5b7-5ab8-4854-a8c7-b74d667fea86",
   "metadata": {},
   "outputs": [],
   "source": [
    "class KDTreePartition(MobilityPartitioner):      \n",
    "    def __init__(self, depth: int, points: List[TPoint], bounds, dimensions: list, max_depth=12, ):\n",
    "        self.depth = depth\n",
    "        self.max_depth=max_depth\n",
    "        self.bounds = bounds\n",
    "        self.grid = self._generate_grid(bounds, points, depth, dimensions, max_depth)\n",
    "        self.numPartitions = len(self.grid)\n",
    "        self.gridstr = [tile.__str__() for tile in self.grid]\n",
    "        # print(self.grid)\n",
    "        \n",
    "    def as_spark_table(self):\n",
    "        gridstr = self.gridstr  # Do this so that spark doesn't break\n",
    "        return GridSparkCreator(F.lit(gridstr))\n",
    "    \n",
    "    @staticmethod\n",
    "    def _generate_grid(bounds, points: List[TPoint], depth: int, dimensions: list = ['x', 'y', 't'], max_depth=12):        \n",
    "        axis = dimensions[depth % len(dimensions)]\n",
    "        tiles = []\n",
    "\n",
    "        # Find the points that are covered by the bounds\n",
    "        convert = []\n",
    "        pointsat = [point.at(bounds) for point in points]\n",
    "        \n",
    "        if type(pointsat[0]) == TGeomPointSeq:\n",
    "            convert = [instant for point in pointsat for instant in point.instants()]\n",
    "            points = convert\n",
    "        if type(pointsat[0]) == TGeomPointSeqSet:\n",
    "            convert = [\n",
    "                instant \n",
    "                for seqset in pointsat \n",
    "                    for seq in seqset.sequences() \n",
    "                        for instant in seq.instants()\n",
    "            ]\n",
    "            points = convert\n",
    "                \n",
    "        def from_axis(p, axis):\n",
    "            b = p\n",
    "            if axis == 'x': return b.x().start_value()#(b.xmax() - b.xmin()) / 2\n",
    "            if axis == 'y': return b.y().start_value()#(b.ymax() - b.ymin()) / 2\n",
    "            if axis == 'z': return b.z().start_value()#(b.zmax() - b.zmin()) / 2\n",
    "            if axis == 't': return b.timestamp()#(b.tmax() - b.tmin()) / 2\n",
    "        \n",
    "        # Sort the generator\n",
    "        points = sorted(points, key=lambda p: from_axis(p, axis))\n",
    "\n",
    "        total_instants = sum(p.num_instants() for p in points)\n",
    "        num_points = sum(1 for _ in points)\n",
    "\n",
    "        if depth == max_depth or num_points <= 1: \n",
    "            tiles.append(bounds)\n",
    "        else:\n",
    "            median = points[int(num_points / 2)]\n",
    "\n",
    "            bboxleft = new_bounds_from_axis(bounds, axis, median, 'left')\n",
    "            bboxright = new_bounds_from_axis(bounds, axis, median, 'right')\n",
    "\n",
    "            #print(\"Median is \", median, \" splitted by axis: \", axis)\n",
    "                \n",
    "            left = KDTreePartition._generate_grid(bboxleft, points[:int(num_points/2)], depth+1, dimensions, max_depth)\n",
    "            right = KDTreePartition._generate_grid(bboxright, points[int(num_points/2):], depth+1, dimensions, max_depth)\n",
    "            tiles.extend(left)\n",
    "            tiles.extend(right)\n",
    "        return tiles\n",
    "        \n",
    "    @staticmethod\n",
    "    def get_partition(point: Any, grid: list, utc_time: str = \"UTC\", **kwargs) -> int:\n",
    "        pymeos_initialize()\n",
    "        if type(point) == str:\n",
    "            point = TGeomPointInst(point)\n",
    "        # Little tweak to avoid pymeos bug\n",
    "        point = point.set_srid(0)\n",
    "        point = STBox(point.bounding_box().__str__().strip(\"GEOD\"))\n",
    "        for idx, partition in enumerate(grid):\n",
    "            stbox: STBox = STBox(partition)\n",
    "            if point.is_contained_in(stbox):\n",
    "                return idx\n",
    "        return -1\n",
    "\n",
    "    def num_partitions(self) -> int:\n",
    "        return self.numPartitions\n",
    "\n",
    "\n",
    "@F.udtf(returnType=StructType([\n",
    "    StructField(\"tileid\", IntegerType()),\n",
    "    StructField(\"tile\", STBoxUDT())\n",
    "]))\n",
    "class GridSparkCreator:\n",
    "    def eval(self, gridstr):\n",
    "        pymeos_initialize()\n",
    "        for tileid, tile in enumerate(gridstr):\n",
    "            yield tileid, STBox(tile)"
   ]
  },
  {
   "cell_type": "code",
   "execution_count": 5,
   "id": "479211a7-2239-4bbc-82c5-d34cd869e9f3",
   "metadata": {},
   "outputs": [
    {
     "name": "stdout",
     "output_type": "stream",
     "text": [
      "STBOX XT(((475982.1452146133,6583193.925816207),(495595.9328811999,6601525.43837019)),[2020-06-01 06:47:36.426576+00, 2020-06-11 14:58:24.149496+00))\n"
     ]
    }
   ],
   "source": [
    "testtrips, bounds = gentestdata(read_as='TSeqSet')\n",
    "print(bounds)\n",
    "kdpart = KDTreePartition(depth=0, points=testtrips, dimensions=['x', 'y'], bounds=bounds, max_depth=3)"
   ]
  },
  {
   "cell_type": "markdown",
   "id": "88bfd913-6ef2-4404-b014-8d43ddfada93",
   "metadata": {},
   "source": [
    "### Initialize PyMEOS and setup Spark"
   ]
  },
  {
   "cell_type": "code",
   "execution_count": 6,
   "id": "ac619eac-c184-47ab-9579-2500bdb453fc",
   "metadata": {},
   "outputs": [
    {
     "name": "stderr",
     "output_type": "stream",
     "text": [
      "Setting default log level to \"WARN\".\n",
      "To adjust logging level use sc.setLogLevel(newLevel). For SparkR, use setLogLevel(newLevel).\n",
      "24/06/04 08:25:09 WARN NativeCodeLoader: Unable to load native-hadoop library for your platform... using builtin-java classes where applicable\n"
     ]
    },
    {
     "name": "stdout",
     "output_type": "stream",
     "text": [
      "[('spark.driver.extraJavaOptions', '-Djava.net.preferIPv6Addresses=false -XX:+IgnoreUnrecognizedVMOptions --add-opens=java.base/java.lang=ALL-UNNAMED --add-opens=java.base/java.lang.invoke=ALL-UNNAMED --add-opens=java.base/java.lang.reflect=ALL-UNNAMED --add-opens=java.base/java.io=ALL-UNNAMED --add-opens=java.base/java.net=ALL-UNNAMED --add-opens=java.base/java.nio=ALL-UNNAMED --add-opens=java.base/java.util=ALL-UNNAMED --add-opens=java.base/java.util.concurrent=ALL-UNNAMED --add-opens=java.base/java.util.concurrent.atomic=ALL-UNNAMED --add-opens=java.base/jdk.internal.ref=ALL-UNNAMED --add-opens=java.base/sun.nio.ch=ALL-UNNAMED --add-opens=java.base/sun.nio.cs=ALL-UNNAMED --add-opens=java.base/sun.security.action=ALL-UNNAMED --add-opens=java.base/sun.util.calendar=ALL-UNNAMED --add-opens=java.security.jgss/sun.security.krb5=ALL-UNNAMED -Djdk.reflect.useDirectMethodHandle=false'), ('spark.executor.memory', '3g'), ('spark.app.submitTime', '1717489508439'), ('spark.sql.allowMultipleTableArguments.enabled', 'true'), ('spark.app.id', 'local-1717489512260'), ('spark.master', 'local[3]'), ('spark.executor.id', 'driver'), ('spark.driver.port', '45165'), ('spark.default.parallelism', '3'), ('spark.rdd.compress', 'True'), ('spark.executor.extraJavaOptions', '-Djava.net.preferIPv6Addresses=false -XX:+IgnoreUnrecognizedVMOptions --add-opens=java.base/java.lang=ALL-UNNAMED --add-opens=java.base/java.lang.invoke=ALL-UNNAMED --add-opens=java.base/java.lang.reflect=ALL-UNNAMED --add-opens=java.base/java.io=ALL-UNNAMED --add-opens=java.base/java.net=ALL-UNNAMED --add-opens=java.base/java.nio=ALL-UNNAMED --add-opens=java.base/java.util=ALL-UNNAMED --add-opens=java.base/java.util.concurrent=ALL-UNNAMED --add-opens=java.base/java.util.concurrent.atomic=ALL-UNNAMED --add-opens=java.base/jdk.internal.ref=ALL-UNNAMED --add-opens=java.base/sun.nio.ch=ALL-UNNAMED --add-opens=java.base/sun.nio.cs=ALL-UNNAMED --add-opens=java.base/sun.security.action=ALL-UNNAMED --add-opens=java.base/sun.util.calendar=ALL-UNNAMED --add-opens=java.security.jgss/sun.security.krb5=ALL-UNNAMED -Djdk.reflect.useDirectMethodHandle=false'), ('spark.driver.memory', '2g'), ('spark.driver.maxResultSize', '0'), ('spark.app.name', 'PySpark UDF Example with PyMEOS'), ('spark.serializer.objectStreamReset', '100'), ('spark.submit.pyFiles', ''), ('spark.app.startTime', '1717489509265'), ('spark.executor.cores', '1'), ('spark.submit.deployMode', 'client'), ('spark.ui.showConsoleProgress', 'true'), ('spark.driver.host', '336d95f83d14')]\n"
     ]
    },
    {
     "name": "stderr",
     "output_type": "stream",
     "text": [
      "24/06/04 08:25:22 WARN GarbageCollectionMetrics: To enable non-built-in garbage collector(s) List(G1 Concurrent GC), users should configure it(them) to spark.eventLog.gcMetrics.youngGenerationGarbageCollectors or spark.eventLog.gcMetrics.oldGenerationGarbageCollectors\n",
      "----------------------------------------\n",
      "Exception occurred during processing of request from ('127.0.0.1', 52684)\n",
      "Traceback (most recent call last):\n",
      "  File \"/usr/lib/python3.9/socketserver.py\", line 316, in _handle_request_noblock\n",
      "    self.process_request(request, client_address)\n",
      "  File \"/usr/lib/python3.9/socketserver.py\", line 347, in process_request\n",
      "    self.finish_request(request, client_address)\n",
      "  File \"/usr/lib/python3.9/socketserver.py\", line 360, in finish_request\n",
      "    self.RequestHandlerClass(request, client_address, self)\n",
      "  File \"/usr/lib/python3.9/socketserver.py\", line 720, in __init__\n",
      "    self.handle()\n",
      "  File \"/usr/local/lib/python3.9/dist-packages/pyspark/accumulators.py\", line 295, in handle\n",
      "    poll(accum_updates)\n",
      "  File \"/usr/local/lib/python3.9/dist-packages/pyspark/accumulators.py\", line 267, in poll\n",
      "    if self.rfile in r and func():\n",
      "  File \"/usr/local/lib/python3.9/dist-packages/pyspark/accumulators.py\", line 271, in accum_updates\n",
      "    num_updates = read_int(self.rfile)\n",
      "  File \"/usr/local/lib/python3.9/dist-packages/pyspark/serializers.py\", line 596, in read_int\n",
      "    raise EOFError\n",
      "EOFError\n",
      "----------------------------------------\n"
     ]
    }
   ],
   "source": [
    "# Initialize PyMEOS\n",
    "pymeos_initialize(\"UTC\")\n",
    "\n",
    "os.environ['PYSPARK_DRIVER_PYTHON_OPTS']= \"notebook\"\n",
    "os.environ['PYSPARK_DRIVER_PYTHON'] = sys.executable\n",
    "os.environ['PYSPARK_PYTHON'] = sys.executable\n",
    "\n",
    "#.config(\"spark.serializer\", \"org.apache.spark.serializer.KryoSerializer\") \\\n",
    "\n",
    "# Initialize a Spark session\n",
    "spark = SparkSession.builder \\\n",
    "    .appName(\"PySpark UDF Example with PyMEOS\") \\\n",
    "    .master(\"local[3]\") \\\n",
    "    .config(\"spark.default.parallelism\", 3) \\\n",
    "    .config(\"spark.executor.memory\", \"3g\") \\\n",
    "    .config(\"spark.executor.cores\", 1) \\\n",
    "    .config(\"spark.driver.memory\", \"2g\") \\\n",
    "    .config(\"spark.driver.maxResultSize\", 0) \\\n",
    "    .config(\"spark.sql.allowMultipleTableArguments.enabled\", True) \\\n",
    "    .getOrCreate()\n",
    "\n",
    "#spark.sparkContext.setLogLevel(\"DEBUG\")\n",
    "\n",
    "# Append the UDT mapping to the PyMEOS classes\n",
    "udt_append()\n",
    "\n",
    "# Get the value of 'spark.default.parallelism'\n",
    "print(spark.sparkContext.getConf().getAll())\n",
    "#print(f\"spark.default.parallelism: {default_parallelism}\")\n",
    "#print(f\"spark.sql.allowMultipleTableArguments.enabled: {spark.sparkContext.getConf().get('spark.sql.allowMultipleTableArguments.enabled')}\")"
   ]
  },
  {
   "cell_type": "markdown",
   "id": "b1704799-c71e-406c-a964-9d2db4d82eab",
   "metadata": {},
   "source": [
    "## Read the DataFrame and create the columns of Pymeos data objects\n",
    "\n",
    "First, we are going to read a dataset from OpenSky, this dataset cointains the trajectory information of multiple flights within a timeframe.  \n",
    "\n",
    "Using the latitude, longitude and timestamp we can create a PyMEOS TGeogPointInst, that in PySpark will be wrapped into a TGeogPointInstUDT object."
   ]
  },
  {
   "cell_type": "code",
   "execution_count": 8,
   "id": "58cb39d2-6d6f-43f7-a532-bff64b54481d",
   "metadata": {},
   "outputs": [
    {
     "data": {
      "text/plain": [
       "[Row(icao24='a00529', time='2022-06-27 00:00:55', lat=-25.02, lon=120.0, Point=TGeomPointInstWrap(POINT(120 -25.02)@2022-06-27 00:00:55+00), x=120.0, y=-25.020000457763672, t=datetime.datetime(2022, 6, 27, 0, 0, 55), id=1),\n",
       " Row(icao24='a00529', time='2022-06-27 00:00:58', lat=80.0, lon=10.0, Point=TGeomPointInstWrap(POINT(10 80)@2022-06-27 00:00:58+00), x=10.0, y=80.0, t=datetime.datetime(2022, 6, 27, 0, 0, 58), id=2),\n",
       " Row(icao24='a00528', time='2022-06-27 00:00:10', lat=0.0, lon=-75.5, Point=TGeomPointInstWrap(POINT(-75.5 0)@2022-06-27 00:00:10+00), x=-75.5, y=0.0, t=datetime.datetime(2022, 6, 27, 0, 0, 10), id=3),\n",
       " Row(icao24='a00528', time='2022-06-27 00:00:20', lat=37.72, lon=-5.5, Point=TGeomPointInstWrap(POINT(-5.5 37.72)@2022-06-27 00:00:20+00), x=-5.5, y=37.720001220703125, t=datetime.datetime(2022, 6, 27, 0, 0, 20), id=4),\n",
       " Row(icao24='a00528', time='2022-06-27 00:00:30', lat=25.72, lon=12.5, Point=TGeomPointInstWrap(POINT(12.5 25.72)@2022-06-27 00:00:30+00), x=12.5, y=25.719999313354492, t=datetime.datetime(2022, 6, 27, 0, 0, 30), id=5)]"
      ]
     },
     "execution_count": 8,
     "metadata": {},
     "output_type": "execute_result"
    }
   ],
   "source": [
    "# Read data from a CSV file\n",
    "#data_path = \"../../small_small_states_2022-06-27-00.csv\"  # Update this with your CSV file path\n",
    "data_path = \"../../sample.csv\"\n",
    "df = spark.read.csv(data_path, header=True, inferSchema=True, mode='PERMISSIVE').select(\"icao24\", \"time\", \"lat\", \"lon\")\n",
    "\n",
    "# Clean nans, if not Points can't be created\n",
    "df = df.dropna(subset=[\"lat\", \"lon\", \"time\", \"icao24\"])\n",
    "\n",
    "    #.withColumn(\"Point\", F.concat(F.lit(\"Point(\"), F.col(\"lat\"), F.lit(\" \"), F.col(\"lon\"), F.lit(\")@\"), F.col(\"time\"))) \\\n",
    "# Convert the 'time' column to the correct format\n",
    "df = df \\\n",
    "    .withColumn(\"time\", F.from_unixtime(F.col(\"time\"), \"yyyy-MM-dd' 'HH:mm:ss\")) \\\n",
    "    .withColumn(\"lat\", F.round(\"lat\", 2)) \\\n",
    "    .withColumn(\"lon\", F.round(\"lon\", 2)) \\\n",
    "    .withColumn(\"Point\", create_point_udf(\"lat\", \"lon\", \"time\")) \\\n",
    "    .withColumn(\"x\", get_point_x(\"Point\")) \\\n",
    "    .withColumn(\"y\", get_point_y(\"Point\")) \\\n",
    "    .withColumn(\"t\", get_point_timestamp(\"Point\")) \\\n",
    "    .withColumn(\"id\", F.monotonically_increasing_id())\n",
    "\n",
    "#    .withColumn(\"x\", get_point_x(\"Point\")) \\\n",
    "#    .withColumn(\"y\", get_point_y(\"Point\")) \\\n",
    "#    .withColumn(\"t\", get_point_timestamp(\"Point\")) \\\n",
    "# df.createOrReplaceTempView(\"rawPoints\")\n",
    "\n",
    "df.tail(5)\n",
    "\n",
    "#for row in df.toLocalIterator():\n",
    "#    print(row)"
   ]
  },
  {
   "cell_type": "code",
   "execution_count": 9,
   "id": "9f6a2e71-c031-469d-87fc-f57460265b50",
   "metadata": {},
   "outputs": [
    {
     "name": "stdout",
     "output_type": "stream",
     "text": [
      "6\n",
      "+------+---+\n",
      "|icao24|cnt|\n",
      "+------+---+\n",
      "|a00528|  3|\n",
      "|a00529|  3|\n",
      "+------+---+\n",
      "\n",
      "2\n"
     ]
    },
    {
     "name": "stderr",
     "output_type": "stream",
     "text": [
      "[Stage 20:>                                                         (0 + 1) / 1]\r"
     ]
    },
    {
     "name": "stdout",
     "output_type": "stream",
     "text": [
      "+------+--------------------+\n",
      "|icao24|            PointSeq|\n",
      "+------+--------------------+\n",
      "|a00528|[POINT(-75.5 0)@2...|\n",
      "|a00529|[POINT(-81.5 28.7...|\n",
      "+------+--------------------+\n",
      "\n"
     ]
    },
    {
     "name": "stderr",
     "output_type": "stream",
     "text": [
      "                                                                                \r"
     ]
    }
   ],
   "source": [
    "schema = StructType([\n",
    "    StructField(\"icao24\", StringType()),\n",
    "    StructField(\"PointSeq\", TGeomPointSeqUDT())\n",
    "])\n",
    "\n",
    "@F.udf(returnType=TGeomPointSeqUDT())\n",
    "def pointSeqFromPoints(pointgroup):\n",
    "    if not pointgroup:\n",
    "        return None\n",
    "    pymeos_initialize()\n",
    "    if len(pointgroup) == 1:\n",
    "        pointgroup = f'[{pointgroup[0].__str__()}]'\n",
    "        return TGeomPointSeq(pointgroup)\n",
    "    pointgroup = sorted(pointgroup, key=lambda x: x.timestamps()[0])\n",
    "    pointseq = TGeomPointSeq(instant_list=pointgroup)\n",
    "    return pointseq\n",
    "\n",
    "print(df.count())\n",
    "\n",
    "#df.select(\"Point\").tail(5)\n",
    "df.groupBy(\"icao24\").agg(F.count(\"Point\").alias(\"cnt\")).orderBy(\"cnt\",ascending=False).show()\n",
    "\n",
    "trajectories = df.groupBy(\"icao24\").agg(\n",
    "    F.collect_list(F.col(\"Point\")).alias(\"PointSeq\")\n",
    ").select(\"icao24\", \"PointSeq\").withColumn(\"PointSeq\", pointSeqFromPoints(\"PointSeq\"))\n",
    "\n",
    "print(trajectories.count())\n",
    "\n",
    "trajectories.show(5)\n",
    "#trajectories.collect()[0].PointSeq\n",
    "#trajectories.rdd.getNumPartitions()\n",
    "\n",
    "#spark.sparkContext.setCheckpointDir(\"./checkpoint\")\n",
    "#trajectories = trajectories.checkpoint()\n",
    "#trajectories.tail(1).limit(1).collect()[0].PointSeq"
   ]
  },
  {
   "cell_type": "code",
   "execution_count": 10,
   "id": "69df13a7-4b6e-4137-b5aa-4127384f0409",
   "metadata": {},
   "outputs": [
    {
     "name": "stdout",
     "output_type": "stream",
     "text": [
      "+------+--------------------+--------------------+-----+\n",
      "|icao24|            PointSeq|               STBox|seqId|\n",
      "+------+--------------------+--------------------+-----+\n",
      "|a00528|[POINT(-75.5 0)@2...|STBOX XT(((-75.5,...|    0|\n",
      "|a00529|[POINT(-81.5 28.7...|STBOX XT(((-81.5,...|    1|\n",
      "+------+--------------------+--------------------+-----+\n",
      "\n"
     ]
    },
    {
     "name": "stderr",
     "output_type": "stream",
     "text": [
      "[Stage 28:===================================================>  (190 + 4) / 200]\r"
     ]
    },
    {
     "name": "stdout",
     "output_type": "stream",
     "text": [
      "2\n"
     ]
    },
    {
     "name": "stderr",
     "output_type": "stream",
     "text": [
      "                                                                                \r"
     ]
    }
   ],
   "source": [
    "from pymeos import TPoint\n",
    "\n",
    "@F.udf(returnType=STBoxUDT())\n",
    "def point_to_stbox(tpoint: TPoint) -> STBox:\n",
    "    pymeos_initialize()\n",
    "    return tpoint.bounding_box()\n",
    "\n",
    "trajectories = trajectories.withColumn(\"STBox\", point_to_stbox(\"PointSeq\")).withColumn(\"seqId\", F.monotonically_increasing_id())\n",
    "trajectories.createOrReplaceTempView(\"trajectories\")\n",
    "trajectories.show()\n",
    "trajectories.cache()\n",
    "print(trajectories.count())\n",
    "#trajectories.rdd.getNumPartitions()"
   ]
  },
  {
   "cell_type": "code",
   "execution_count": 11,
   "id": "ce1849c7-a3b9-40d2-931f-bfc2f3977818",
   "metadata": {},
   "outputs": [
    {
     "name": "stderr",
     "output_type": "stream",
     "text": [
      "                                                                                \r"
     ]
    },
    {
     "data": {
      "text/plain": [
       "STBoxWrap(STBOX XT(((-81.5,-25.02),(120,80)),[2022-06-27 00:00:10+00, 2022-06-27 00:00:58+00)))"
      ]
     },
     "execution_count": 11,
     "metadata": {},
     "output_type": "execute_result"
    }
   ],
   "source": [
    "def bounds_calculate_map(partition_rows):\n",
    "    pymeos_initialize(\"UTC\")\n",
    "    aggregator = TemporalPointExtentAggregator.start_aggregation()\n",
    "    #print(iter(partition_rows))\n",
    "    for row in partition_rows:\n",
    "        if type(row) == Row:\n",
    "            #print(row)\n",
    "            seq = TGeomPointSeq(row.PointSeq.__str__())\n",
    "            aggregator.add(seq)\n",
    "    try:\n",
    "        boundbox = STBoxWrap(aggregator.aggregation().__str__())\n",
    "        return [(boundbox)]#[(boundbox)]\n",
    "    except:\n",
    "        return [(None)]\n",
    "\n",
    "\n",
    "def bounds_calculate_reduce(bounds1, bounds2):\n",
    "    pymeos_initialize(\"UTC\")\n",
    "    aggregation = None\n",
    "    \n",
    "    if bounds1 and bounds2:\n",
    "        aggregation = bounds1 + bounds2\n",
    "    elif not bounds1 and bounds2:\n",
    "        aggregation = bounds2\n",
    "    elif not bounds2:\n",
    "        aggregation = bounds1\n",
    "\n",
    "    if aggregation:\n",
    "        boundbox = STBoxWrap(aggregation.__str__())\n",
    "        return boundbox\n",
    "    else:\n",
    "        return None\n",
    "\n",
    "\n",
    "bounds = trajectories.rdd.mapPartitions(bounds_calculate_map).reduce(bounds_calculate_reduce)\n",
    "bounds"
   ]
  },
  {
   "cell_type": "markdown",
   "id": "20f388c0-270e-4130-b8cd-7f602d3e8f9c",
   "metadata": {},
   "source": [
    "## Generate the partitioning scheme and repartition data"
   ]
  },
  {
   "cell_type": "code",
   "execution_count": 17,
   "id": "95df64e3-f7af-4b88-83e9-ed874c8dd1b5",
   "metadata": {},
   "outputs": [
    {
     "name": "stderr",
     "output_type": "stream",
     "text": [
      "                                                                                \r"
     ]
    },
    {
     "name": "stdout",
     "output_type": "stream",
     "text": [
      "+------+--------------------+\n",
      "|tileid|                tile|\n",
      "+------+--------------------+\n",
      "|     0|STBOX XT(((-81.5,...|\n",
      "|     1|STBOX XT(((-81.5,...|\n",
      "|     2|STBOX XT(((-81.5,...|\n",
      "|     3|STBOX XT(((10,-25...|\n",
      "|     4|STBOX XT(((10,25....|\n",
      "|     5|STBOX XT(((10,25....|\n",
      "+------+--------------------+\n",
      "\n"
     ]
    }
   ],
   "source": [
    "# We need to collect a sample of points, or all the points if they fit into memory\n",
    "#pointsample = [traj.PointSeq for traj in trajectories.select('PointSeq').sample(0.05).collect()]\n",
    "pointsample = [traj.PointSeq for traj in trajectories.select('PointSeq').collect()]\n",
    "\n",
    "# Now we calculate the grid and partition accordingly\n",
    "# Test only with x, y to visually observe the partitions, use x,y,t to test also with time dimension.\n",
    "gp = KDTreePartition(depth=0, points=pointsample, dimensions=['x', 'y', 't'], bounds=bounds, max_depth=3)\n",
    "grid = gp.as_spark_table()\n",
    "grid.cache()\n",
    "grid.show()\n",
    "grid.createOrReplaceTempView(\"grid\")\n",
    "#grid.rdd.getNumPartitions()"
   ]
  },
  {
   "cell_type": "code",
   "execution_count": 18,
   "id": "dc2bfe07-d545-4350-bef4-9a78fb858d9a",
   "metadata": {},
   "outputs": [
    {
     "name": "stdout",
     "output_type": "stream",
     "text": [
      "CPU times: user 6 µs, sys: 0 ns, total: 6 µs\n",
      "Wall time: 15.3 µs\n"
     ]
    },
    {
     "name": "stderr",
     "output_type": "stream",
     "text": [
      "24/06/04 10:04:36 WARN SimpleTableFunctionRegistry: The function kdtreepartitionudtf replaced a previously registered function.\n"
     ]
    },
    {
     "name": "stdout",
     "output_type": "stream",
     "text": [
      "root\n",
      " |-- trajectoryId: string (nullable = true)\n",
      " |-- partitionKey: integer (nullable = true)\n",
      " |-- trajectory: pythonuserdefined (nullable = true)\n",
      "\n"
     ]
    }
   ],
   "source": [
    "%time\n",
    "from pyspark.sql.types import Row\n",
    "from typing import Iterator\n",
    "\n",
    "schema = StructType([\n",
    "    StructField(\"trajectoryId\", StringType()),\n",
    "    StructField(\"partitionKey\", IntegerType()),\n",
    "    StructField(\"trajectory\", TGeomPointSeqUDT())\n",
    "])\n",
    "\n",
    "@F.udtf(returnType=schema)\n",
    "class KDTreePartitionUDTF:\n",
    "    def eval(self, row: Row):\n",
    "        pymeos_initialize()\n",
    "        sequence_id = row.seqId\n",
    "        trajectory = row.trajectory\n",
    "        #print(trajectory,type(trajectory))\n",
    "        #print(row.grid[0])\n",
    "        #grid = [STBoxWrap(f\"SRID=4326;{tile.__str__().strip('SRID=4326;')}\") for tile in row.grid]\n",
    "        grid = row.grid\n",
    "        gridids = row.gridids\n",
    "        partitioned = [(key, trajectory.at(tile)) for key, tile in zip(gridids, grid)]\n",
    "        #print(trajectory)\n",
    "        #print(grid)\n",
    "        #print(partitioned)\n",
    "        count = 0\n",
    "        responses = []\n",
    "        for partition_key, partition_traj in partitioned:\n",
    "            count += 1\n",
    "            if partition_traj is None:\n",
    "                continue\n",
    "            else:\n",
    "                #responses.append((sequence_id, partition_key, partition_traj,))\n",
    "                seqs = partition_traj.segments()\n",
    "                #print(seqs)\n",
    "                for partition_traj_seq in seqs:\n",
    "                    responses.append((sequence_id, partition_key, partition_traj_seq,))\n",
    "        for response in responses:\n",
    "            yield response\n",
    "\n",
    "\n",
    "spark.udtf.register(\"KDTreePartitionUDTF\", KDTreePartitionUDTF)\n",
    "\n",
    "trajectoriesPartMap = spark.sql(\"\"\"\n",
    "    SELECT * \n",
    "    FROM KDTreePartitionUDTF(\n",
    "        TABLE(\n",
    "                SELECT \n",
    "                    seqId, \n",
    "                    PointSeq AS trajectory, \n",
    "                    (SELECT collect_list(tile) FROM grid) AS grid, \n",
    "                    (SELECT collect_list(tileid) FROM grid) AS gridids\n",
    "                FROM trajectories\n",
    "        )\n",
    "    )\n",
    "\"\"\")\n",
    "\n",
    "num_partitions = gp.num_partitions()\n",
    "#trajectoriesPartMap = trajectoriesPartMap.withColumn(\"trajectory\", F.col(\"trajectory\").cast(\"string\"))\n",
    "trajectoriesPartMap.printSchema()\n",
    "\n",
    "#trajectoriesPartMap = trajectoriesPartMap.repartition(num_partitions, \"partitionKey\")\n",
    "\n",
    "def map_partition_rdd(index, rows):\n",
    "    for row in rows:\n",
    "        yield (row['partitionKey'], row)\n",
    "\n",
    "trajectoriesPartMapRdd = trajectoriesPartMap.rdd.mapPartitionsWithIndex(map_partition_rdd).partitionBy(num_partitions)"
   ]
  },
  {
   "cell_type": "code",
   "execution_count": 19,
   "id": "c33dbb6f-9e34-4528-a2df-012895db0155",
   "metadata": {},
   "outputs": [
    {
     "name": "stderr",
     "output_type": "stream",
     "text": [
      "                                                                                \r"
     ]
    },
    {
     "name": "stdout",
     "output_type": "stream",
     "text": [
      "+------------+--------------------+-------------+\n",
      "|partitionKey|          trajectory| trajectoryId|\n",
      "+------------+--------------------+-------------+\n",
      "|           0|[POINT(-75.5 0)@2...| 326417514496|\n",
      "|           0|[POINT(-22.183464...| 326417514496|\n",
      "|           0|[POINT(-81.5 28.7...|1005022347264|\n",
      "|           1|[POINT(-22.183464...| 326417514496|\n",
      "|           1|[POINT(-81.5 28.7...|1005022347264|\n",
      "|           2|[POINT(-5.5 37.72...| 326417514496|\n",
      "|           2|[POINT(10 80)@202...|1005022347264|\n",
      "|           3|[POINT(12.5 25.72...| 326417514496|\n",
      "|           3|[POINT(9.99999921...|1005022347264|\n",
      "|           3|[POINT(120 -25.02...|1005022347264|\n",
      "|           4|[POINT(9.9999998 ...| 326417514496|\n",
      "|           4|[POINT(66.85394 2...|1005022347264|\n",
      "+------------+--------------------+-------------+\n",
      "\n",
      "CPU times: user 412 ms, sys: 39.4 ms, total: 451 ms\n",
      "Wall time: 18.4 s\n"
     ]
    }
   ],
   "source": [
    "%%time\n",
    "from pyspark.sql import SQLContext\n",
    "\n",
    "#trajectoriesPart = spark.table(\"trajectoriesPart\")\n",
    "\n",
    "#print(trajectoriesPart.tail(5))\n",
    "#print(trajectoriesPart.count())\n",
    "#print(trajectoriesPartMap.rdd.getNumPartitions())\n",
    "\n",
    "\n",
    "# This operation can be costly, for testing do with few data points (<= 1000).\n",
    "num_partitions = gp.num_partitions()\n",
    "#trajectoriesPart = trajectoriesPart.repartition(num_partitions, \"partitionKey\")\n",
    "#print(trajectoriesPart.rdd.getNumPartitions())\n",
    "#trajectoriesPartRdd = trajectoriesPart.rdd.map(lambda x: (x['partitionKey'], x)).partitionBy(num_partitions)\n",
    "trajectoriesPartMap = trajectoriesPartMapRdd.toDF([\"partitionKey\", \"trajectorydata\"]).withColumn(\"trajectory\", F.col(\"trajectorydata.trajectory\")).withColumn(\"trajectoryId\", F.col(\"trajectorydata.trajectoryId\")).drop(\"trajectorydata\")\n",
    "#trajectoriesPart.groupBy(\"trajectoryId\").agg(F.count(F.col(\"trajectory\")).alias(\"cnt\")).orderBy(\"cnt\", ascending=False).show()\n",
    "trajectoriesPartMap.orderBy(\"trajectoryId\").cache()\n",
    "trajectoriesPartMap.show()"
   ]
  },
  {
   "cell_type": "markdown",
   "id": "770f6fb0-d89a-4810-8b02-5350da6fc91b",
   "metadata": {},
   "source": [
    "## Show the partition distribution"
   ]
  },
  {
   "cell_type": "code",
   "execution_count": 20,
   "id": "22b476f7-5b40-44ca-932d-5d02752af18c",
   "metadata": {},
   "outputs": [
    {
     "name": "stderr",
     "output_type": "stream",
     "text": [
      "                                                                                \r"
     ]
    },
    {
     "name": "stdout",
     "output_type": "stream",
     "text": [
      "+------------+-----+\n",
      "|partitionKey|count|\n",
      "+------------+-----+\n",
      "|           0|    3|\n",
      "|           1|    2|\n",
      "|           2|    2|\n",
      "|           3|    3|\n",
      "|           4|    2|\n",
      "+------------+-----+\n",
      "\n",
      "6\n"
     ]
    },
    {
     "name": "stderr",
     "output_type": "stream",
     "text": [
      "                                                                                \r"
     ]
    },
    {
     "name": "stdout",
     "output_type": "stream",
     "text": [
      "Partition 0 has 3 rows\n",
      "Partition 1 has 2 rows\n",
      "Partition 2 has 2 rows\n",
      "Partition 3 has 3 rows\n",
      "Partition 4 has 2 rows\n",
      "Partition 5 has 0 rows\n",
      "+------------+--------------------+-------------+\n",
      "|partitionKey|          trajectory| trajectoryId|\n",
      "+------------+--------------------+-------------+\n",
      "|           0|[POINT(-75.5 0)@2...| 326417514496|\n",
      "|           0|[POINT(-22.183464...| 326417514496|\n",
      "|           0|[POINT(-81.5 28.7...|1005022347264|\n",
      "|           1|[POINT(-22.183464...| 326417514496|\n",
      "|           1|[POINT(-81.5 28.7...|1005022347264|\n",
      "|           2|[POINT(-5.5 37.72...| 326417514496|\n",
      "|           2|[POINT(10 80)@202...|1005022347264|\n",
      "|           3|[POINT(12.5 25.72...| 326417514496|\n",
      "|           3|[POINT(9.99999921...|1005022347264|\n",
      "|           3|[POINT(120 -25.02...|1005022347264|\n",
      "|           4|[POINT(9.9999998 ...| 326417514496|\n",
      "|           4|[POINT(66.85394 2...|1005022347264|\n",
      "+------------+--------------------+-------------+\n",
      "\n",
      "CPU times: user 123 ms, sys: 18.2 ms, total: 141 ms\n",
      "Wall time: 4.36 s\n"
     ]
    }
   ],
   "source": [
    "%%time\n",
    "\n",
    "trajectoriesPartMap.groupBy(\"partitionKey\").count().show()\n",
    "\n",
    "#for idx, item in datardd.take(5):\n",
    "#    print(idx, item)\n",
    "\n",
    "trajectoriesPartRdd = trajectoriesPartMap.rdd\n",
    "print(trajectoriesPartRdd.getNumPartitions())\n",
    "\n",
    "# Function to count rows per partition\n",
    "def count_in_partition(idx, iterator):\n",
    "    cnt = 0\n",
    "    for _ in iterator:\n",
    "        cnt += 1\n",
    "    return [(idx, cnt)]\n",
    "\n",
    "# Using mapPartitionsWithIndex to count rows per partition\n",
    "partition_counts = trajectoriesPartRdd.mapPartitionsWithIndex(count_in_partition).collect()\n",
    "    \n",
    "# Print the results\n",
    "for partition_id, cnt in partition_counts:\n",
    "    print(f\"Partition {partition_id} has {cnt} rows\")\n",
    "\n",
    "\n",
    "trajectoriesPartMap.show()"
   ]
  },
  {
   "cell_type": "code",
   "execution_count": 21,
   "id": "278f5848-6bf9-4ab0-983e-2363daa970bd",
   "metadata": {},
   "outputs": [
    {
     "name": "stdout",
     "output_type": "stream",
     "text": [
      "root\n",
      " |-- partitionKey: long (nullable = true)\n",
      " |-- trajectory: pythonuserdefined (nullable = true)\n",
      " |-- trajectoryId: string (nullable = true)\n",
      "\n"
     ]
    },
    {
     "name": "stderr",
     "output_type": "stream",
     "text": [
      "/tmp/ipykernel_15279/1069038169.py:9: FutureWarning: The geopandas.dataset module is deprecated and will be removed in GeoPandas 1.0. You can get the original 'naturalearth_lowres' data from https://www.naturalearthdata.com/downloads/110m-cultural-vectors/.\n",
      "  world = gpd.read_file(gpd.datasets.get_path('naturalearth_lowres'))\n"
     ]
    },
    {
     "data": {
      "image/png": "[encoded data removed]",
      "text/plain": [
       "<Figure size 1500x1000 with 1 Axes>"
      ]
     },
     "metadata": {},
     "output_type": "display_data"
    }
   ],
   "source": [
    "fig, ax = plt.subplots(1, 1, figsize=(15, 10))\n",
    "\n",
    "# dfpoint = datardd.toDF(['partitionKey', 'Point'])\n",
    "trajectoriesPartMap.printSchema()\n",
    "\n",
    "# Create a bounding box\n",
    "# bounding_box = box(bounds.xmin(), bounds.ymin(), bounds.xmax(), bounds.ymax())\n",
    "\n",
    "world = gpd.read_file(gpd.datasets.get_path('naturalearth_lowres'))\n",
    "world.plot(ax=ax, alpha=0.3)\n",
    "#print(grid)\n",
    "gridstr = [row.tile.__str__() for row in grid.collect()]\n",
    "\n",
    "colors = plt.cm.Accent(np.linspace(0, 1, len(gridstr)))\n",
    "# Adding an alpha value when creating the color ma<p\n",
    "alpha_value = 1.0\n",
    "color_map = {i: colors[i][:3].tolist() + [alpha_value] for i, tile in enumerate(gridstr)}\n",
    "for i, tilestr in enumerate(gridstr):\n",
    "    tile: STBox = STBoxWrap(tilestr).set_srid(0)\n",
    "    tile.plot_xy(axes=ax, color=\"black\", draw_filling=False)\n",
    "\n",
    "trajectory_colors = ['red', 'green', 'blue', 'yellow', 'orange', 'pink', 'lightgreen', 'darkblue']\n",
    "trajectory_idx = {}\n",
    "\n",
    "for idx, row in enumerate(trajectoriesPartMap.toLocalIterator()):\n",
    "    #print(row.trajectoryId, row.partitionKey)\n",
    "    if row.trajectoryId in trajectory_idx:\n",
    "        c = trajectory_idx[row.trajectoryId]\n",
    "    else:\n",
    "        c = idx\n",
    "        trajectory_idx[row.trajectoryId] = idx\n",
    "    traj = row.trajectory\n",
    "    #print(idx, row.partitionKey%gp.num_partitions())\n",
    "    #print(traj)\n",
    "    #if type(point)==str:\n",
    "    #    point = TGeogPointInst(point)\n",
    "    #tpointseq = point.to_sequence(interp).plot(axes=ax,label=\"tpoint\", color=color_map[row.partitionKey % gp.num_partitions()], facecolors='none')\n",
    "    #TemporalPointSequenceSetPlotter.plot_xy(\n",
    "    #    traj, axes=ax, show_markers=True, show_grid=False\n",
    "    #)\n",
    "    TemporalPointSequencePlotter.plot_xy(\n",
    "        traj, axes=ax, show_markers=True, show_grid=True \n",
    "    )\n",
    "    #row.PointSeq.plot(axes=ax[0],label=\"trajectory\", color=trajectory_colors[c%len(trajectory_colors)], show_markers=True)\n"
   ]
  },
  {
   "cell_type": "code",
   "execution_count": null,
   "id": "a30cc8f4-7b7a-4b1e-a222-5009bcc83427",
   "metadata": {},
   "outputs": [],
   "source": []
  }
 ],
 "metadata": {
  "kernelspec": {
   "display_name": "Python 3 (ipykernel)",
   "language": "python",
   "name": "python3"
  },
  "language_info": {
   "codemirror_mode": {
    "name": "ipython",
    "version": 3
   },
   "file_extension": ".py",
   "mimetype": "text/x-python",
   "name": "python",
   "nbconvert_exporter": "python",
   "pygments_lexer": "ipython3",
   "version": "3.9.2"
  }
 },
 "nbformat": 4,
 "nbformat_minor": 5
}
