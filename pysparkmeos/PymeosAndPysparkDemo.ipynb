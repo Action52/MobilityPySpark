{
 "cells": [
  {
   "cell_type": "code",
   "execution_count": 1,
   "id": "f7f4e12a-c76a-41f2-8842-b50b391ba9c9",
   "metadata": {},
   "outputs": [
    {
     "name": "stdout",
     "output_type": "stream",
     "text": [
      "\u001b[31mERROR: Directory '.' is not installable. Neither 'setup.py' nor 'pyproject.toml' found.\u001b[0m\u001b[31m\n",
      "\u001b[0m"
     ]
    }
   ],
   "source": [
    "!python3 -m pip install ."
   ]
  },
  {
   "cell_type": "code",
   "execution_count": 2,
   "id": "19721a05-02cb-44db-b8fb-f792c0e9bf79",
   "metadata": {},
   "outputs": [
    {
     "name": "stdout",
     "output_type": "stream",
     "text": [
      "Output: [POINT(10 10)@2019-08-31 23:00:00+00, POINT(20 20)@2019-09-01 23:00:00+00, POINT(10 10)@2019-09-02 23:00:00+00]\n",
      "Speeds: Interp=Step;[17.84556057812839@2019-08-31 23:00:00+00, 17.84556057812839@2019-09-02 23:00:00+00]\n",
      "POINT(-85.5262662926499 33.139048430879235)@2022-06-27 00:00:00+00\n",
      "[2019-08-31 23:00:00+00, 2019-09-02 23:00:00+00]\n"
     ]
    }
   ],
   "source": [
    "from pymeos import pymeos_initialize, pymeos_finalize, TGeogPointInst, TGeogPointSeq\n",
    "\n",
    "# Important: Always initialize MEOS library\n",
    "pymeos_initialize()\n",
    "\n",
    "sequence_from_string = TGeogPointSeq(string='[Point(10.0 10.0)@2019-09-01 00:00:00+01, Point(20.0 20.0)@2019-09-02 00:00:00+01, Point(10.0 10.0)@2019-09-03 00:00:00+01]')\n",
    "print(f'Output: {sequence_from_string}')\n",
    "\n",
    "sequence_from_points = TGeogPointSeq(instant_list=[TGeogPointInst(string='Point(10.0 10.0)@2019-09-01 00:00:00+01'), TGeogPointInst(string='Point(20.0 20.0)@2019-09-02 00:00:00+01'), TGeogPointInst(string='Point(10.0 10.0)@2019-09-03 00:00:00+01')], lower_inc=True, upper_inc=True)\n",
    "speed = sequence_from_points.speed()\n",
    "print(f'Speeds: {speed}')\n",
    "\n",
    "point = TGeogPointInst(\"POINT(-85.5262662926499 33.139048430879235)@2022-06-27 00:00:00+00\")\n",
    "print(point)\n",
    "\n",
    "print(sequence_from_points.timespan())\n",
    "ts = sequence_from_points.timespan()\n"
   ]
  },
  {
   "cell_type": "code",
   "execution_count": 3,
   "id": "908b3720-4a8e-40b7-affa-e3a4a6b99449",
   "metadata": {},
   "outputs": [
    {
     "ename": "KeyboardInterrupt",
     "evalue": "",
     "output_type": "error",
     "traceback": [
      "\u001b[0;31m---------------------------------------------------------------------------\u001b[0m",
      "\u001b[0;31mKeyboardInterrupt\u001b[0m                         Traceback (most recent call last)",
      "Cell \u001b[0;32mIn[3], line 110\u001b[0m\n\u001b[1;32m    107\u001b[0m     df_with_pointseq\u001b[38;5;241m.\u001b[39mshow(truncate\u001b[38;5;241m=\u001b[39m\u001b[38;5;28;01mFalse\u001b[39;00m)\n\u001b[1;32m    109\u001b[0m \u001b[38;5;28;01mif\u001b[39;00m \u001b[38;5;18m__name__\u001b[39m \u001b[38;5;241m==\u001b[39m \u001b[38;5;124m\"\u001b[39m\u001b[38;5;124m__main__\u001b[39m\u001b[38;5;124m\"\u001b[39m:\n\u001b[0;32m--> 110\u001b[0m     \u001b[43mmain\u001b[49m\u001b[43m(\u001b[49m\u001b[43m)\u001b[49m\n",
      "Cell \u001b[0;32mIn[3], line 14\u001b[0m, in \u001b[0;36mmain\u001b[0;34m()\u001b[0m\n\u001b[1;32m     11\u001b[0m pymeos_initialize(\u001b[38;5;124m\"\u001b[39m\u001b[38;5;124mUTC\u001b[39m\u001b[38;5;124m\"\u001b[39m)\n\u001b[1;32m     13\u001b[0m \u001b[38;5;66;03m# Initialize a Spark session\u001b[39;00m\n\u001b[0;32m---> 14\u001b[0m spark \u001b[38;5;241m=\u001b[39m \u001b[43mSparkSession\u001b[49m\u001b[38;5;241;43m.\u001b[39;49m\u001b[43mbuilder\u001b[49m\u001b[43m \u001b[49m\u001b[43m\\\u001b[49m\n\u001b[1;32m     15\u001b[0m \u001b[43m    \u001b[49m\u001b[38;5;241;43m.\u001b[39;49m\u001b[43mappName\u001b[49m\u001b[43m(\u001b[49m\u001b[38;5;124;43m\"\u001b[39;49m\u001b[38;5;124;43mPySpark UDF Example with PyMEOS\u001b[39;49m\u001b[38;5;124;43m\"\u001b[39;49m\u001b[43m)\u001b[49m\u001b[43m \u001b[49m\u001b[43m\\\u001b[49m\n\u001b[1;32m     16\u001b[0m \u001b[43m    \u001b[49m\u001b[38;5;241;43m.\u001b[39;49m\u001b[43mmaster\u001b[49m\u001b[43m(\u001b[49m\u001b[38;5;124;43m\"\u001b[39;49m\u001b[38;5;124;43mlocal[*]\u001b[39;49m\u001b[38;5;124;43m\"\u001b[39;49m\u001b[43m)\u001b[49m\u001b[43m \u001b[49m\u001b[43m\\\u001b[49m\n\u001b[1;32m     17\u001b[0m \u001b[43m    \u001b[49m\u001b[38;5;241;43m.\u001b[39;49m\u001b[43mconfig\u001b[49m\u001b[43m(\u001b[49m\u001b[38;5;124;43m\"\u001b[39;49m\u001b[38;5;124;43mspark.default.parallelism\u001b[39;49m\u001b[38;5;124;43m\"\u001b[39;49m\u001b[43m,\u001b[49m\u001b[43m \u001b[49m\u001b[38;5;241;43m4\u001b[39;49m\u001b[43m)\u001b[49m\u001b[43m \u001b[49m\u001b[43m\\\u001b[49m\n\u001b[1;32m     18\u001b[0m \u001b[43m    \u001b[49m\u001b[38;5;241;43m.\u001b[39;49m\u001b[43mgetOrCreate\u001b[49m\u001b[43m(\u001b[49m\u001b[43m)\u001b[49m\n\u001b[1;32m     20\u001b[0m \u001b[38;5;66;03m# Define the UDF for creating a TGeogPointInst\u001b[39;00m\n\u001b[1;32m     21\u001b[0m \u001b[38;5;129m@udf\u001b[39m(returnType\u001b[38;5;241m=\u001b[39mStringType())\n\u001b[1;32m     22\u001b[0m \u001b[38;5;28;01mdef\u001b[39;00m \u001b[38;5;21mcreate_point_udf\u001b[39m(lat, lon, time):\n",
      "File \u001b[0;32m/usr/local/lib/python3.9/dist-packages/pyspark/sql/session.py:497\u001b[0m, in \u001b[0;36mSparkSession.Builder.getOrCreate\u001b[0;34m(self)\u001b[0m\n\u001b[1;32m    495\u001b[0m     sparkConf\u001b[38;5;241m.\u001b[39mset(key, value)\n\u001b[1;32m    496\u001b[0m \u001b[38;5;66;03m# This SparkContext may be an existing one.\u001b[39;00m\n\u001b[0;32m--> 497\u001b[0m sc \u001b[38;5;241m=\u001b[39m \u001b[43mSparkContext\u001b[49m\u001b[38;5;241;43m.\u001b[39;49m\u001b[43mgetOrCreate\u001b[49m\u001b[43m(\u001b[49m\u001b[43msparkConf\u001b[49m\u001b[43m)\u001b[49m\n\u001b[1;32m    498\u001b[0m \u001b[38;5;66;03m# Do not update `SparkConf` for existing `SparkContext`, as it's shared\u001b[39;00m\n\u001b[1;32m    499\u001b[0m \u001b[38;5;66;03m# by all sessions.\u001b[39;00m\n\u001b[1;32m    500\u001b[0m session \u001b[38;5;241m=\u001b[39m SparkSession(sc, options\u001b[38;5;241m=\u001b[39m\u001b[38;5;28mself\u001b[39m\u001b[38;5;241m.\u001b[39m_options)\n",
      "File \u001b[0;32m/usr/local/lib/python3.9/dist-packages/pyspark/context.py:515\u001b[0m, in \u001b[0;36mSparkContext.getOrCreate\u001b[0;34m(cls, conf)\u001b[0m\n\u001b[1;32m    513\u001b[0m \u001b[38;5;28;01mwith\u001b[39;00m SparkContext\u001b[38;5;241m.\u001b[39m_lock:\n\u001b[1;32m    514\u001b[0m     \u001b[38;5;28;01mif\u001b[39;00m SparkContext\u001b[38;5;241m.\u001b[39m_active_spark_context \u001b[38;5;129;01mis\u001b[39;00m \u001b[38;5;28;01mNone\u001b[39;00m:\n\u001b[0;32m--> 515\u001b[0m         \u001b[43mSparkContext\u001b[49m\u001b[43m(\u001b[49m\u001b[43mconf\u001b[49m\u001b[38;5;241;43m=\u001b[39;49m\u001b[43mconf\u001b[49m\u001b[43m \u001b[49m\u001b[38;5;129;43;01mor\u001b[39;49;00m\u001b[43m \u001b[49m\u001b[43mSparkConf\u001b[49m\u001b[43m(\u001b[49m\u001b[43m)\u001b[49m\u001b[43m)\u001b[49m\n\u001b[1;32m    516\u001b[0m     \u001b[38;5;28;01massert\u001b[39;00m SparkContext\u001b[38;5;241m.\u001b[39m_active_spark_context \u001b[38;5;129;01mis\u001b[39;00m \u001b[38;5;129;01mnot\u001b[39;00m \u001b[38;5;28;01mNone\u001b[39;00m\n\u001b[1;32m    517\u001b[0m     \u001b[38;5;28;01mreturn\u001b[39;00m SparkContext\u001b[38;5;241m.\u001b[39m_active_spark_context\n",
      "File \u001b[0;32m/usr/local/lib/python3.9/dist-packages/pyspark/context.py:201\u001b[0m, in \u001b[0;36mSparkContext.__init__\u001b[0;34m(self, master, appName, sparkHome, pyFiles, environment, batchSize, serializer, conf, gateway, jsc, profiler_cls, udf_profiler_cls, memory_profiler_cls)\u001b[0m\n\u001b[1;32m    195\u001b[0m \u001b[38;5;28;01mif\u001b[39;00m gateway \u001b[38;5;129;01mis\u001b[39;00m \u001b[38;5;129;01mnot\u001b[39;00m \u001b[38;5;28;01mNone\u001b[39;00m \u001b[38;5;129;01mand\u001b[39;00m gateway\u001b[38;5;241m.\u001b[39mgateway_parameters\u001b[38;5;241m.\u001b[39mauth_token \u001b[38;5;129;01mis\u001b[39;00m \u001b[38;5;28;01mNone\u001b[39;00m:\n\u001b[1;32m    196\u001b[0m     \u001b[38;5;28;01mraise\u001b[39;00m \u001b[38;5;167;01mValueError\u001b[39;00m(\n\u001b[1;32m    197\u001b[0m         \u001b[38;5;124m\"\u001b[39m\u001b[38;5;124mYou are trying to pass an insecure Py4j gateway to Spark. This\u001b[39m\u001b[38;5;124m\"\u001b[39m\n\u001b[1;32m    198\u001b[0m         \u001b[38;5;124m\"\u001b[39m\u001b[38;5;124m is not allowed as it is a security risk.\u001b[39m\u001b[38;5;124m\"\u001b[39m\n\u001b[1;32m    199\u001b[0m     )\n\u001b[0;32m--> 201\u001b[0m \u001b[43mSparkContext\u001b[49m\u001b[38;5;241;43m.\u001b[39;49m\u001b[43m_ensure_initialized\u001b[49m\u001b[43m(\u001b[49m\u001b[38;5;28;43mself\u001b[39;49m\u001b[43m,\u001b[49m\u001b[43m \u001b[49m\u001b[43mgateway\u001b[49m\u001b[38;5;241;43m=\u001b[39;49m\u001b[43mgateway\u001b[49m\u001b[43m,\u001b[49m\u001b[43m \u001b[49m\u001b[43mconf\u001b[49m\u001b[38;5;241;43m=\u001b[39;49m\u001b[43mconf\u001b[49m\u001b[43m)\u001b[49m\n\u001b[1;32m    202\u001b[0m \u001b[38;5;28;01mtry\u001b[39;00m:\n\u001b[1;32m    203\u001b[0m     \u001b[38;5;28mself\u001b[39m\u001b[38;5;241m.\u001b[39m_do_init(\n\u001b[1;32m    204\u001b[0m         master,\n\u001b[1;32m    205\u001b[0m         appName,\n\u001b[0;32m   (...)\u001b[0m\n\u001b[1;32m    215\u001b[0m         memory_profiler_cls,\n\u001b[1;32m    216\u001b[0m     )\n",
      "File \u001b[0;32m/usr/local/lib/python3.9/dist-packages/pyspark/context.py:436\u001b[0m, in \u001b[0;36mSparkContext._ensure_initialized\u001b[0;34m(cls, instance, gateway, conf)\u001b[0m\n\u001b[1;32m    434\u001b[0m \u001b[38;5;28;01mwith\u001b[39;00m SparkContext\u001b[38;5;241m.\u001b[39m_lock:\n\u001b[1;32m    435\u001b[0m     \u001b[38;5;28;01mif\u001b[39;00m \u001b[38;5;129;01mnot\u001b[39;00m SparkContext\u001b[38;5;241m.\u001b[39m_gateway:\n\u001b[0;32m--> 436\u001b[0m         SparkContext\u001b[38;5;241m.\u001b[39m_gateway \u001b[38;5;241m=\u001b[39m gateway \u001b[38;5;129;01mor\u001b[39;00m \u001b[43mlaunch_gateway\u001b[49m\u001b[43m(\u001b[49m\u001b[43mconf\u001b[49m\u001b[43m)\u001b[49m\n\u001b[1;32m    437\u001b[0m         SparkContext\u001b[38;5;241m.\u001b[39m_jvm \u001b[38;5;241m=\u001b[39m SparkContext\u001b[38;5;241m.\u001b[39m_gateway\u001b[38;5;241m.\u001b[39mjvm\n\u001b[1;32m    439\u001b[0m     \u001b[38;5;28;01mif\u001b[39;00m instance:\n",
      "File \u001b[0;32m/usr/local/lib/python3.9/dist-packages/pyspark/java_gateway.py:104\u001b[0m, in \u001b[0;36mlaunch_gateway\u001b[0;34m(conf, popen_kwargs)\u001b[0m\n\u001b[1;32m    102\u001b[0m \u001b[38;5;66;03m# Wait for the file to appear, or for the process to exit, whichever happens first.\u001b[39;00m\n\u001b[1;32m    103\u001b[0m \u001b[38;5;28;01mwhile\u001b[39;00m \u001b[38;5;129;01mnot\u001b[39;00m proc\u001b[38;5;241m.\u001b[39mpoll() \u001b[38;5;129;01mand\u001b[39;00m \u001b[38;5;129;01mnot\u001b[39;00m os\u001b[38;5;241m.\u001b[39mpath\u001b[38;5;241m.\u001b[39misfile(conn_info_file):\n\u001b[0;32m--> 104\u001b[0m     \u001b[43mtime\u001b[49m\u001b[38;5;241;43m.\u001b[39;49m\u001b[43msleep\u001b[49m\u001b[43m(\u001b[49m\u001b[38;5;241;43m0.1\u001b[39;49m\u001b[43m)\u001b[49m\n\u001b[1;32m    106\u001b[0m \u001b[38;5;28;01mif\u001b[39;00m \u001b[38;5;129;01mnot\u001b[39;00m os\u001b[38;5;241m.\u001b[39mpath\u001b[38;5;241m.\u001b[39misfile(conn_info_file):\n\u001b[1;32m    107\u001b[0m     \u001b[38;5;28;01mraise\u001b[39;00m PySparkRuntimeError(\n\u001b[1;32m    108\u001b[0m         error_class\u001b[38;5;241m=\u001b[39m\u001b[38;5;124m\"\u001b[39m\u001b[38;5;124mJAVA_GATEWAY_EXITED\u001b[39m\u001b[38;5;124m\"\u001b[39m,\n\u001b[1;32m    109\u001b[0m         message_parameters\u001b[38;5;241m=\u001b[39m{},\n\u001b[1;32m    110\u001b[0m     )\n",
      "\u001b[0;31mKeyboardInterrupt\u001b[0m: "
     ]
    }
   ],
   "source": [
    "from pyspark.sql import SparkSession\n",
    "from pyspark.sql.types import StringType, IntegerType\n",
    "from pyspark.sql.functions import from_unixtime, col, udf, collect_list, count, monotonically_increasing_id\n",
    "from pymeos import pymeos_initialize, pymeos_finalize, TGeogPointInst, TGeogPointSeq\n",
    "from pysparkmeos.partitions.grid.grid_partitioner import GridPartition\n",
    "\n",
    "import random\n",
    "\n",
    "def main():\n",
    "    # Initialize PyMEOS\n",
    "    pymeos_initialize(\"UTC\")\n",
    "\n",
    "    # Initialize a Spark session\n",
    "    spark = SparkSession.builder \\\n",
    "        .appName(\"PySpark UDF Example with PyMEOS\") \\\n",
    "        .master(\"local[*]\") \\\n",
    "        .config(\"spark.default.parallelism\", 4) \\\n",
    "        .getOrCreate()\n",
    "\n",
    "    # Define the UDF for creating a TGeogPointInst\n",
    "    @udf(returnType=StringType())\n",
    "    def create_point_udf(lat, lon, time):\n",
    "        pymeos_initialize(\"UTC\")\n",
    "        point_inst = TGeogPointInst(f\"Point({lon} {lat})@{str(time)}\")\n",
    "        point_inst_str = point_inst.__str__()\n",
    "        # print(point_inst)\n",
    "        #pymeos_finalize()\n",
    "        return point_inst_str\n",
    "    \n",
    "    @udf(returnType=IntegerType())\n",
    "    def create_pointseq_instants_udf(lats, lons, times):\n",
    "        # Initialize PyMEOS\n",
    "        pymeos_initialize(\"UTC\")\n",
    "    \n",
    "        # Combine lat, lon, and time into a list of tuples and sort them by time\n",
    "        combined = sorted(zip(lats, lons, times), key=lambda x: x[2])\n",
    "        \n",
    "        points_inst_list = [TGeogPointInst(f\"Point({lon} {lat})@{time}\") for lat, lon, time in combined]\n",
    "        point_seq = TGeogPointSeq(instant_list=points_inst_list, lower_inc=True, upper_inc=True)\n",
    "        instants = point_seq.num_instants()\n",
    "        return instants\n",
    "\n",
    "    \n",
    "    # Get the value of 'spark.default.parallelism'\n",
    "    default_parallelism = spark.sparkContext.getConf().get(\"spark.default.parallelism\")\n",
    "    print(f\"spark.default.parallelism: {default_parallelism}\")\n",
    "    \n",
    "    # Read data from a CSV file\n",
    "    data_path = \"../../states_2022-06-27-00.csv\"  # Update this with your CSV file path\n",
    "    df = spark.read.csv(data_path, header=True, inferSchema=True).select(\"icao24\", \"time\", \"lat\", \"lon\")\n",
    "    \n",
    "    df = df.dropna(subset=[\"lat\", \"lon\"])\n",
    "    # Convert the 'time' column to the correct format\n",
    "    df = df.withColumn(\"time\", from_unixtime(col(\"time\"), \"yyyy-MM-dd' 'HH:mm:ss\"))\n",
    "\n",
    "    # Apply the UDF to the DataFrame to create a new 'Point' column\n",
    "    df_with_points = df.withColumn(\"Point\", create_point_udf(\"lat\", \"lon\", \"time\"))\n",
    "\n",
    "    # df_with_points.explain(True)\n",
    "\n",
    "    num_partitions = df.rdd.getNumPartitions()\n",
    "\n",
    "    print(f\"Number of partitions in the DataFrame: {num_partitions}\")\n",
    "\n",
    "    # Show the transformed DataFrame\n",
    "    print(\"Transformed DataFrame with Points:\")\n",
    "    df_with_points.show()\n",
    "\n",
    "    # Group by 'icao24' and aggregate 'lat', 'lon', and 'time' into separate lists\n",
    "    df_grouped = df_with_points.groupby(\"icao24\").agg(\n",
    "        collect_list(\"lat\").alias(\"lats\"),\n",
    "        collect_list(\"lon\").alias(\"lons\"),\n",
    "        collect_list(\"time\").alias(\"times\"),\n",
    "        count(\"time\").alias(\"SeqInstantsTotal\")\n",
    "    )\n",
    "    \n",
    "    # Apply the UDF to convert the lists of latitudes, longitudes, and timestamps to a TGeogPointSeq\n",
    "    df_with_pointseq = df_grouped.withColumn(\n",
    "        \"PointSeqInstants\",\n",
    "        create_pointseq_instants_udf(col(\"lats\"), col(\"lons\"), col(\"times\"))\n",
    "    ).select(\"icao24\", \"SeqInstantsTotal\", \"PointSeqInstants\")\n",
    "\n",
    "    def partitioner(key):\n",
    "        # print(key)\n",
    "        return random.randint(1,10)\n",
    "    \n",
    "    #grid_partitioner = GridPartitioner(partition_dimensions = [3, 3])\n",
    "    partitionedRDD = df_grouped.rdd.map(lambda row: (row[0], row)).partitionBy(10, partitioner)\n",
    "\n",
    "        # Function to count rows per partition\n",
    "    def count_in_partition(idx, iterator):\n",
    "        cnt = 0\n",
    "        for _ in iterator:\n",
    "            cnt += 1\n",
    "        return [(idx, cnt)]\n",
    "    \n",
    "    # Using mapPartitionsWithIndex to count rows per partition\n",
    "    partition_counts = partitionedRDD.mapPartitionsWithIndex(count_in_partition).collect()\n",
    "    \n",
    "    # Print the results\n",
    "    for partition_id, cnt in partition_counts:\n",
    "        print(f\"Partition {partition_id} has {cnt} rows\")\n",
    "\n",
    "    \n",
    "    # Show the result\n",
    "    print(\"DataFrame with Point Sequences:\")\n",
    "    df_with_pointseq.show(truncate=False)\n",
    "\n",
    "if __name__ == \"__main__\":\n",
    "    main()"
   ]
  },
  {
   "cell_type": "code",
   "execution_count": null,
   "id": "e2f5a5c8-fbc0-4cd2-bc21-eb9f545cbf30",
   "metadata": {},
   "outputs": [],
   "source": []
  }
 ],
 "metadata": {
  "kernelspec": {
   "display_name": "Python 3 (ipykernel)",
   "language": "python",
   "name": "python3"
  },
  "language_info": {
   "codemirror_mode": {
    "name": "ipython",
    "version": 3
   },
   "file_extension": ".py",
   "mimetype": "text/x-python",
   "name": "python",
   "nbconvert_exporter": "python",
   "pygments_lexer": "ipython3",
   "version": "3.9.2"
  }
 },
 "nbformat": 4,
 "nbformat_minor": 5
}
