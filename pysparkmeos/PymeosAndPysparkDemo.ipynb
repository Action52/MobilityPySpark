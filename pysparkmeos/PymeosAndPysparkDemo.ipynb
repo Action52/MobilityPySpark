{
 "cells": [
  {
   "cell_type": "code",
   "execution_count": 1,
   "id": "19721a05-02cb-44db-b8fb-f792c0e9bf79",
   "metadata": {},
   "outputs": [
    {
     "ename": "ModuleNotFoundError",
     "evalue": "No module named 'pysparkmeos'",
     "output_type": "error",
     "traceback": [
      "\u001b[0;31m---------------------------------------------------------------------------\u001b[0m",
      "\u001b[0;31mModuleNotFoundError\u001b[0m                       Traceback (most recent call last)",
      "Cell \u001b[0;32mIn[1], line 2\u001b[0m\n\u001b[1;32m      1\u001b[0m \u001b[38;5;28;01mfrom\u001b[39;00m \u001b[38;5;21;01mpymeos\u001b[39;00m \u001b[38;5;28;01mimport\u001b[39;00m pymeos_initialize, pymeos_finalize, TGeogPointInst, TGeogPointSeq\n\u001b[0;32m----> 2\u001b[0m \u001b[38;5;28;01mfrom\u001b[39;00m \u001b[38;5;21;01mpysparkmeos\u001b[39;00m\u001b[38;5;21;01m.\u001b[39;00m\u001b[38;5;21;01mUDT\u001b[39;00m \u001b[38;5;28;01mimport\u001b[39;00m TGeogPointInstUDT\n\u001b[1;32m      4\u001b[0m \u001b[38;5;66;03m# Important: Always initialize MEOS library\u001b[39;00m\n\u001b[1;32m      5\u001b[0m pymeos_initialize()\n",
      "\u001b[0;31mModuleNotFoundError\u001b[0m: No module named 'pysparkmeos'"
     ]
    }
   ],
   "source": [
    "from pymeos import pymeos_initialize, pymeos_finalize, TGeogPointInst, TGeogPointSeq\n",
    "from pysparkmeos.UDT import TGeogPointInstUDT\n",
    "\n",
    "# Important: Always initialize MEOS library\n",
    "pymeos_initialize()\n",
    "\n",
    "sequence_from_string = TGeogPointSeq(string='[Point(10.0 10.0)@2019-09-01 00:00:00+01, Point(20.0 20.0)@2019-09-02 00:00:00+01, Point(10.0 10.0)@2019-09-03 00:00:00+01]')\n",
    "print(f'Output: {sequence_from_string}')\n",
    "\n",
    "sequence_from_points = TGeogPointSeq(instant_list=[TGeogPointInst(string='Point(10.0 10.0)@2019-09-01 00:00:00+01'), TGeogPointInst(string='Point(20.0 20.0)@2019-09-02 00:00:00+01'), TGeogPointInst(string='Point(10.0 10.0)@2019-09-03 00:00:00+01')], lower_inc=True, upper_inc=True)\n",
    "speed = sequence_from_points.speed()\n",
    "print(f'Speeds: {speed}')\n",
    "\n",
    "point = TGeogPointInst(\"POINT(-85.5262662926499 33.139048430879235)@2022-06-27 00:00:00+00\")\n",
    "print(point)\n",
    "\n",
    "# Call finish at the end of your code\n",
    "pymeos_finalize()"
   ]
  },
  {
   "cell_type": "code",
   "execution_count": 2,
   "id": "fba3173a-f568-4a74-8032-92a00dcb6b10",
   "metadata": {},
   "outputs": [
    {
     "name": "stdout",
     "output_type": "stream",
     "text": [
      "Collecting pyspark\n",
      "  Downloading pyspark-3.5.1.tar.gz (317.0 MB)\n",
      "\u001b[2K     \u001b[90m━━━━━━━━━━━━━━━━━━━━━━━━━━━━━━━━━━━━━━━\u001b[0m \u001b[32m317.0/317.0 MB\u001b[0m \u001b[31m2.1 MB/s\u001b[0m eta \u001b[36m0:00:00\u001b[0m00:01\u001b[0m00:01\u001b[0m\n",
      "\u001b[?25h  Preparing metadata (setup.py) ... \u001b[?25ldone\n",
      "\u001b[?25hCollecting py4j==0.10.9.7 (from pyspark)\n",
      "  Downloading py4j-0.10.9.7-py2.py3-none-any.whl.metadata (1.5 kB)\n",
      "Downloading py4j-0.10.9.7-py2.py3-none-any.whl (200 kB)\n",
      "\u001b[2K   \u001b[90m━━━━━━━━━━━━━━━━━━━━━━━━━━━━━━━━━━━━━━━━\u001b[0m \u001b[32m200.5/200.5 kB\u001b[0m \u001b[31m14.8 MB/s\u001b[0m eta \u001b[36m0:00:00\u001b[0m\n",
      "\u001b[?25hBuilding wheels for collected packages: pyspark\n",
      "  Building wheel for pyspark (setup.py) ... \u001b[?25ldone\n",
      "\u001b[?25h  Created wheel for pyspark: filename=pyspark-3.5.1-py2.py3-none-any.whl size=317488513 sha256=c92e97ce36351c5ea3b3c6aaaaca67970d73a142b17abaa4b95ecba617a7b688\n",
      "  Stored in directory: /root/.cache/pip/wheels/92/09/11/aa01d01a7f005fda8a66ad71d2be7f8aa341bddafb27eee3c7\n",
      "Successfully built pyspark\n",
      "Installing collected packages: py4j, pyspark\n",
      "Successfully installed py4j-0.10.9.7 pyspark-3.5.1\n",
      "\u001b[33mWARNING: Running pip as the 'root' user can result in broken permissions and conflicting behaviour with the system package manager. It is recommended to use a virtual environment instead: https://pip.pypa.io/warnings/venv\u001b[0m\u001b[33m\n",
      "\u001b[0m"
     ]
    }
   ],
   "source": [
    "!pip install pyspark"
   ]
  },
  {
   "cell_type": "code",
   "execution_count": 5,
   "id": "908b3720-4a8e-40b7-affa-e3a4a6b99449",
   "metadata": {},
   "outputs": [
    {
     "name": "stdout",
     "output_type": "stream",
     "text": [
      "spark.default.parallelism: 4\n"
     ]
    },
    {
     "name": "stderr",
     "output_type": "stream",
     "text": [
      "                                                                                \r"
     ]
    },
    {
     "name": "stdout",
     "output_type": "stream",
     "text": [
      "Number of partitions in the DataFrame: 4\n",
      "Transformed DataFrame with Points:\n"
     ]
    },
    {
     "name": "stderr",
     "output_type": "stream",
     "text": [
      "                                                                                \r"
     ]
    },
    {
     "name": "stdout",
     "output_type": "stream",
     "text": [
      "+------+-------------------+-------------------+-------------------+--------------------+\n",
      "|icao24|               time|                lat|                lon|               Point|\n",
      "+------+-------------------+-------------------+-------------------+--------------------+\n",
      "|34718e|2022-06-27 00:00:00|  40.87294006347656|    1.9229736328125|POINT(1.922973632...|\n",
      "|ac6364|2022-06-27 00:00:00| 33.139048430879235|  -85.5262662926499|POINT(-85.5262662...|\n",
      "|406471|2022-06-27 00:00:00|   51.9085693359375| 1.8383026123046875|POINT(1.838302612...|\n",
      "|a04417|2022-06-27 00:00:00|  33.75718688964844| -83.45837028659122|POINT(-83.4583702...|\n",
      "|c04aa1|2022-06-27 00:00:00|  42.86952209472656|  -79.3079393963481|POINT(-79.3079393...|\n",
      "|4d21ea|2022-06-27 00:00:00|  48.92765808105469|   8.00579364483173|POINT(8.005793644...|\n",
      "|4ca9cc|2022-06-27 00:00:00|  47.56517028808594|  8.388679504394531|POINT(8.388679504...|\n",
      "|a20f1a|2022-06-27 00:00:00|  41.99859101893538| -77.70578783611916|POINT(-77.7057878...|\n",
      "|152019|2022-06-27 00:00:10|  46.37489318847656|  52.04384408346037|POINT(52.04384408...|\n",
      "|a895b4|2022-06-27 00:00:10|  35.91810607910156|  -80.0497055053711|POINT(-80.0497055...|\n",
      "|845d1c|2022-06-27 00:00:10| 34.050355038400426|  134.1781997680664|POINT(134.1781997...|\n",
      "|aa84f8|2022-06-27 00:00:10|  33.61738586425781|-112.04328264508928|POINT(-112.043282...|\n",
      "|a0a8df|2022-06-27 00:00:10| 41.608062744140625| -96.93050037730825|POINT(-96.9305003...|\n",
      "|7c7a4d|2022-06-27 00:00:10|-27.808817200741544|  153.0453608586238|POINT(153.0453608...|\n",
      "|750503|2022-06-27 00:00:10|   2.98637260824947| 101.99081947063577|POINT(101.9908194...|\n",
      "|a721d5|2022-06-27 00:00:10|  37.14049258474576|-120.36627064580503|POINT(-120.366270...|\n",
      "|a888aa|2022-06-27 00:00:10|  32.85630798339844| -96.40733642578124|POINT(-96.4073364...|\n",
      "|a61d3e|2022-06-27 00:00:10|       36.287109375|-120.85412979125977|POINT(-120.854129...|\n",
      "|a047db|2022-06-27 00:00:10| 38.456664004568324|  -90.9573974609375|POINT(-90.9573974...|\n",
      "|71bf19|2022-06-27 00:00:10|  35.72222900390625| 126.76580429077148|POINT(126.7658042...|\n",
      "+------+-------------------+-------------------+-------------------+--------------------+\n",
      "only showing top 20 rows\n",
      "\n",
      "DataFrame with Point Sequences:\n"
     ]
    },
    {
     "name": "stderr",
     "output_type": "stream",
     "text": [
      "[Stage 26:>                                                         (0 + 1) / 1]\r"
     ]
    },
    {
     "name": "stdout",
     "output_type": "stream",
     "text": [
      "+------+----------------+----------------+\n",
      "|icao24|SeqInstantsTotal|PointSeqInstants|\n",
      "+------+----------------+----------------+\n",
      "|0100a3|167             |142             |\n",
      "|0100e7|122             |115             |\n",
      "|0100f6|112             |56              |\n",
      "|0101bb|73              |37              |\n",
      "|010207|76              |48              |\n",
      "|01022e|359             |355             |\n",
      "|02a1a7|165             |123             |\n",
      "|02a1ca|4               |4               |\n",
      "|04015c|215             |121             |\n",
      "|040172|161             |149             |\n",
      "|040203|181             |141             |\n",
      "|06809b|276             |232             |\n",
      "|06a03d|143             |114             |\n",
      "|06a041|155             |127             |\n",
      "|06a04e|58              |24              |\n",
      "|06a062|140             |132             |\n",
      "|06a064|31              |26              |\n",
      "|06a09a|78              |32              |\n",
      "|06a0a5|131             |33              |\n",
      "|06a0a8|305             |252             |\n",
      "+------+----------------+----------------+\n",
      "only showing top 20 rows\n",
      "\n"
     ]
    },
    {
     "name": "stderr",
     "output_type": "stream",
     "text": [
      "                                                                                \r"
     ]
    }
   ],
   "source": [
    "from pyspark.sql import SparkSession\n",
    "from pyspark.sql.types import StringType, IntegerType\n",
    "from pyspark.sql.functions import from_unixtime, col, udf, collect_list, count\n",
    "from pymeos import pymeos_initialize, pymeos_finalize, TGeogPointInst, TGeogPointSeq\n",
    "\n",
    "def main():\n",
    "    # Initialize PyMEOS\n",
    "    pymeos_initialize(\"UTC\")\n",
    "\n",
    "    # Initialize a Spark session\n",
    "    spark = SparkSession.builder \\\n",
    "        .appName(\"PySpark UDF Example with PyMEOS\") \\\n",
    "        .master(\"local[*]\") \\\n",
    "        .config(\"spark.default.parallelism\", 4) \\\n",
    "        .getOrCreate()\n",
    "\n",
    "    # Define the UDF for creating a TGeogPointInst\n",
    "    @udf(returnType=StringType())\n",
    "    def create_point_udf(lat, lon, time):\n",
    "        pymeos_initialize(\"UTC\")\n",
    "        point_inst = TGeogPointInst(f\"Point({lon} {lat})@{str(time)}\")\n",
    "        point_inst_str = point_inst.__str__()\n",
    "        # print(point_inst)\n",
    "        point_inst = None\n",
    "        #pymeos_finalize()\n",
    "        return point_inst_str\n",
    "    \n",
    "    @udf(returnType=IntegerType())\n",
    "    def create_pointseq_instants_udf(lats, lons, times):\n",
    "        # Initialize PyMEOS\n",
    "        pymeos_initialize(\"UTC\")\n",
    "    \n",
    "        # Combine lat, lon, and time into a list of tuples and sort them by time\n",
    "        combined = sorted(zip(lats, lons, times), key=lambda x: x[2])\n",
    "        \n",
    "        points_inst_list = [TGeogPointInst(f\"Point({lon} {lat})@{time}\") for lat, lon, time in combined]\n",
    "        point_seq = TGeogPointSeq(instant_list=points_inst_list, lower_inc=True, upper_inc=True)\n",
    "        instants = point_seq.num_instants()\n",
    "        return instants\n",
    "\n",
    "\n",
    "    def partitioner(key):\n",
    "\n",
    "    \n",
    "    # Get the value of 'spark.default.parallelism'\n",
    "    default_parallelism = spark.sparkContext.getConf().get(\"spark.default.parallelism\")\n",
    "    print(f\"spark.default.parallelism: {default_parallelism}\")\n",
    "    \n",
    "    # Read data from a CSV file\n",
    "    data_path = \"data/states_2022-06-27-00.csv\"  # Update this with your CSV file path\n",
    "    df = spark.read.csv(data_path, header=True, inferSchema=True).select(\"icao24\", \"time\", \"lat\", \"lon\")\n",
    "    \n",
    "    df = df.dropna(subset=[\"lat\", \"lon\"])\n",
    "    # Convert the 'time' column to the correct format\n",
    "    df = df.withColumn(\"time\", from_unixtime(col(\"time\"), \"yyyy-MM-dd' 'HH:mm:ss\"))\n",
    "\n",
    "    # Apply the UDF to the DataFrame to create a new 'Point' column\n",
    "    df_with_points = df.withColumn(\"Point\", create_point_udf(\"lat\", \"lon\", \"time\"))\n",
    "\n",
    "    # df_with_points.explain(True)\n",
    "\n",
    "    num_partitions = df.rdd.getNumPartitions()\n",
    "\n",
    "    print(f\"Number of partitions in the DataFrame: {num_partitions}\")\n",
    "\n",
    "    # Show the transformed DataFrame\n",
    "    print(\"Transformed DataFrame with Points:\")\n",
    "    df_with_points.show()\n",
    "\n",
    "    # Group by 'icao24' and aggregate 'lat', 'lon', and 'time' into separate lists\n",
    "    df_grouped = df_with_points.groupby(\"icao24\").agg(\n",
    "        collect_list(\"lat\").alias(\"lats\"),\n",
    "        collect_list(\"lon\").alias(\"lons\"),\n",
    "        collect_list(\"time\").alias(\"times\"),\n",
    "        count(\"time\").alias(\"SeqInstantsTotal\")\n",
    "    )\n",
    "    \n",
    "    # Apply the UDF to convert the lists of latitudes, longitudes, and timestamps to a TGeogPointSeq\n",
    "    df_with_pointseq = df_grouped.withColumn(\n",
    "        \"PointSeqInstants\",\n",
    "        create_pointseq_instants_udf(col(\"lats\"), col(\"lons\"), col(\"times\"))\n",
    "    ).select(\"icao24\", \"SeqInstantsTotal\", \"PointSeqInstants\")\n",
    "    \n",
    "    # Show the result\n",
    "    print(\"DataFrame with Point Sequences:\")\n",
    "    df_with_pointseq.show(truncate=False)\n",
    "\n",
    "if __name__ == \"__main__\":\n",
    "    main()"
   ]
  },
  {
   "cell_type": "code",
   "execution_count": null,
   "id": "06edf4a0-fd31-4824-aafe-5ce5920e0972",
   "metadata": {},
   "outputs": [],
   "source": []
  }
 ],
 "metadata": {
  "kernelspec": {
   "display_name": "Python 3 (ipykernel)",
   "language": "python",
   "name": "python3"
  },
  "language_info": {
   "codemirror_mode": {
    "name": "ipython",
    "version": 3
   },
   "file_extension": ".py",
   "mimetype": "text/x-python",
   "name": "python",
   "nbconvert_exporter": "python",
   "pygments_lexer": "ipython3",
   "version": "3.9.2"
  }
 },
 "nbformat": 4,
 "nbformat_minor": 5
}
