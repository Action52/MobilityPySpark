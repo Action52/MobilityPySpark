{
 "cells": [
  {
   "cell_type": "markdown",
   "id": "3b785359-7f41-47e6-a985-2fe59ffd66fe",
   "metadata": {},
   "source": [
    "# Some bugs I found in PyMEOS"
   ]
  },
  {
   "cell_type": "code",
   "execution_count": 1,
   "id": "19e20fd0-ce20-4c97-aef0-d2fd42e4fa39",
   "metadata": {},
   "outputs": [],
   "source": [
    "import pandas as pd\n",
    "from functools import reduce\n",
    "from pymeos import *\n",
    "from pysparkmeos.UDT.MeosDatatype import *\n",
    "from pysparkmeos.partitions.grid.grid_partitioner import *\n",
    "\n",
    "from pymeos_cffi import *\n",
    "\n",
    "pymeos_initialize(\"UTC\")"
   ]
  },
  {
   "cell_type": "markdown",
   "id": "a29c6b9c-bb0e-40fc-a467-bfd51bf10e9a",
   "metadata": {},
   "source": [
    "Assume we have one TGeogSequence like this:"
   ]
  },
  {
   "cell_type": "code",
   "execution_count": 2,
   "id": "3a1d8fdb-89c0-4af5-a53a-9f9cb9c3f742",
   "metadata": {},
   "outputs": [
    {
     "name": "stdout",
     "output_type": "stream",
     "text": [
      "4326\n"
     ]
    }
   ],
   "source": [
    "tseq = TGeogPointSeq(string='[POINT(-81.5 28.73)@2022-06-27 00:00:10+00, POINT(-81.5 28.72)@2022-06-27 00:00:20+00, POINT(-81.48 28.7)@2022-06-27 00:00:40+00, POINT(-81.48 28.69)@2022-06-27 00:00:50+00, POINT(30.45 -70.02)@2022-06-27 00:00:55+00)')\n",
    "print(tseq.srid())"
   ]
  },
  {
   "cell_type": "markdown",
   "id": "bfdca78c-e970-42cc-89c1-a38139529142",
   "metadata": {},
   "source": [
    "and a STBox (that in my project I use to represent the boundaries of a table) like this:\n",
    "\n",
    "<i>Note how upon creation the STBox srid is incorrectly set to 0 even if we specify we want it to be geodetic.</i>"
   ]
  },
  {
   "cell_type": "code",
   "execution_count": 3,
   "id": "a2a54df4-7420-47f4-8bce-0153c55ea71c",
   "metadata": {},
   "outputs": [
    {
     "name": "stdout",
     "output_type": "stream",
     "text": [
      "0\n",
      "4326 SRID=4326;STBOX XT(((-177.02969360351562,-46.421356201171875),(177.816650390625,70.29727935791016)),[2022-06-27 00:00:00+00, 2022-06-27 00:15:00+00])\n",
      "0\n",
      "4326\n"
     ]
    }
   ],
   "source": [
    "bounds = STBox(\"STBOX XT(((-177.02969360351562,-46.421356201171875),(177.816650390625,70.29727935791016)),[2022-06-27 00:00:00+00, 2022-06-27 00:15:00+00])\")\n",
    "print(bounds.srid())\n",
    "\n",
    "# In this case the srid is changed but the string representation is incorrect according to the MobilityDB manual.\n",
    "# String representation should be: SRID=4326;GEODSTBOX XT(((-177.02969360351562,-46.421356201171875),(177.816650390625,70.29727935791016)),[2022-06-27 00:00:00+00, 2022-06-27 00:15:00+00])\n",
    "# It adds the 'SRID=4326;' to the string representation, but omits the 'GEOD'.\n",
    "print(bounds.set_srid(4326).srid(), bounds.set_srid(4326).__str__())\n",
    "\n",
    "boundsgeod = STBox(\n",
    "    \"STBOX XT(((-177.02969360351562,-46.421356201171875),(177.816650390625,70.29727935791016)),[2022-06-27 00:00:00+00, 2022-06-27 00:15:00+00])\",\n",
    "    geodetic=True\n",
    ")\n",
    "\n",
    "# If we ask the STBox to be geodetic from the beginning, the srid should be 4326.\n",
    "print(boundsgeod.srid())  # This outputs 0\n",
    "print(boundsgeod.set_srid(4326).srid())\n",
    "# This outputs 4326 but the string representation (and the inner) is wrong. "
   ]
  },
  {
   "cell_type": "code",
   "execution_count": 4,
   "id": "dd96a330-0ab4-4584-a3a1-e8949fdb69f1",
   "metadata": {},
   "outputs": [
    {
     "name": "stdout",
     "output_type": "stream",
     "text": [
      "SRID=4326;STBOX XT(((-177.02969360351562,-46.421356201171875),(177.816650390625,70.29727935791016)),[2022-06-27 00:00:00+00, 2022-06-27 00:15:00+00])\n",
      "SRID=4326;GEODSTBOX XT(((-177.02969360351562,-46.421356201171875),(177.816650390625,70.29727935791016)),[2022-06-27 00:00:00+00, 2022-06-27 00:15:00+00])\n"
     ]
    }
   ],
   "source": [
    "bounds = STBox(\"STBOX XT(((-177.02969360351562,-46.421356201171875),(177.816650390625,70.29727935791016)),[2022-06-27 00:00:00+00, 2022-06-27 00:15:00+00])\")\n",
    "bounds = bounds.set_srid(4326)\n",
    "# This string representation, even with the 4326 but missing the GEOD, causes issues.\n",
    "print(bounds.__str__())\n",
    "\n",
    "# For now, the way I am working around this error is by doing:\n",
    "bounds = STBox(f\"SRID=4326;GEOD{bounds.__str__().replace('SRID=4326;', '')}\", geodetic=True)\n",
    "print(bounds) # This is correct after the tweak"
   ]
  },
  {
   "cell_type": "code",
   "execution_count": 5,
   "id": "610181fa-a807-4b47-af10-096fc57b3b39",
   "metadata": {},
   "outputs": [
    {
     "name": "stdout",
     "output_type": "stream",
     "text": [
      "4326\n",
      "GEODSTBOX XT(((-177.02969360351562,-46.421356201171875),(177.816650390625,70.29727935791016)),[2022-06-27 00:00:00+00, 2022-06-27 00:15:00+00]) 0\n",
      "STBOX XT(((-177.02969360351562,-46.421356201171875),(177.816650390625,70.29727935791016)),[2022-06-27 00:00:00+00, 2022-06-27 00:15:00+00]) 0\n"
     ]
    }
   ],
   "source": [
    "# Doing the opposite (from geodetic to planar)\n",
    "bounds = STBox(\"SRID=4326;GEODSTBOX XT(((-177.02969360351562,-46.421356201171875),(177.816650390625,70.29727935791016)),[2022-06-27 00:00:00+00, 2022-06-27 00:15:00+00])\")\n",
    "print(bounds.srid())\n",
    "\n",
    "\n",
    "bounds = bounds.set_srid(0)\n",
    "print(bounds, bounds.srid()) # This shouldn't contain the 'GEOD', so we have to do another tweak\n",
    "\n",
    "bounds = STBox(f\"SRID=0;{bounds.__str__().replace('GEOD', '')}\", geodetic=False)\n",
    "print(bounds, bounds.srid()) # This looks correct now"
   ]
  },
  {
   "cell_type": "code",
   "execution_count": 6,
   "id": "96474a9a-1952-4872-a3d8-575253261377",
   "metadata": {},
   "outputs": [
    {
     "name": "stdout",
     "output_type": "stream",
     "text": [
      "[STBox(STBOX XT(((-300,-150),(-150,0)),[2022-06-27 00:00:00+00, 2022-06-27 00:10:00+00))), STBox(STBOX XT(((-150,-150),(0,0)),[2022-06-27 00:00:00+00, 2022-06-27 00:10:00+00))), STBox(STBOX XT(((0,-150),(150,0)),[2022-06-27 00:00:00+00, 2022-06-27 00:10:00+00))), STBox(STBOX XT(((150,-150),(300,0)),[2022-06-27 00:00:00+00, 2022-06-27 00:10:00+00))), STBox(STBOX XT(((-300,0),(-150,150)),[2022-06-27 00:00:00+00, 2022-06-27 00:10:00+00))), STBox(STBOX XT(((-150,0),(0,150)),[2022-06-27 00:00:00+00, 2022-06-27 00:10:00+00))), STBox(STBOX XT(((0,0),(150,150)),[2022-06-27 00:00:00+00, 2022-06-27 00:10:00+00))), STBox(STBOX XT(((150,0),(300,150)),[2022-06-27 00:00:00+00, 2022-06-27 00:10:00+00))), STBox(STBOX XT(((-300,-150),(-150,0)),[2022-06-27 00:10:00+00, 2022-06-27 00:20:00+00))), STBox(STBOX XT(((-150,-150),(0,0)),[2022-06-27 00:10:00+00, 2022-06-27 00:20:00+00))), STBox(STBOX XT(((0,-150),(150,0)),[2022-06-27 00:10:00+00, 2022-06-27 00:20:00+00))), STBox(STBOX XT(((150,-150),(300,0)),[2022-06-27 00:10:00+00, 2022-06-27 00:20:00+00))), STBox(STBOX XT(((-300,0),(-150,150)),[2022-06-27 00:10:00+00, 2022-06-27 00:20:00+00))), STBox(STBOX XT(((-150,0),(0,150)),[2022-06-27 00:10:00+00, 2022-06-27 00:20:00+00))), STBox(STBOX XT(((0,0),(150,150)),[2022-06-27 00:10:00+00, 2022-06-27 00:20:00+00))), STBox(STBOX XT(((150,0),(300,150)),[2022-06-27 00:10:00+00, 2022-06-27 00:20:00+00)))]\n"
     ]
    }
   ],
   "source": [
    "# Tile mtehod only allows planar coordinates\n",
    "grid = bounds.tile(size=150, duration='10m')\n",
    "print(grid)"
   ]
  },
  {
   "cell_type": "code",
   "execution_count": 14,
   "id": "ab8f9c64-f8d2-4a35-bb43-39488a373267",
   "metadata": {},
   "outputs": [
    {
     "name": "stdout",
     "output_type": "stream",
     "text": [
      "[POINT(-81.5 28.73)@2022-06-27 00:00:10+00, POINT(-81.5 28.72)@2022-06-27 00:00:20+00, POINT(-81.48 28.7)@2022-06-27 00:00:40+00, POINT(-81.48 28.69)@2022-06-27 00:00:50+00, POINT(30.45 -70.02)@2022-06-27 00:00:55+00)\n",
      "0 0\n",
      "0 0\n",
      "Attempting:  1 {[POINT(-48.947635044 0.000017468000003)@2022-06-27 00:00:51.453246+00, POINT(-0.000019236 -43.166418308000004)@2022-06-27 00:00:53.639774+00)}\n",
      "0 0\n",
      "Attempting:  2 {[POINT(-0.000019236 -43.166418308000004)@2022-06-27 00:00:53.639774+00, POINT(30.45 -70.02)@2022-06-27 00:00:55+00)}\n",
      "0 0\n",
      "0 0\n",
      "0 0\n",
      "Attempting:  5 {[POINT(-81.5 28.73)@2022-06-27 00:00:10+00, POINT(-81.5 28.72)@2022-06-27 00:00:20+00, POINT(-81.48 28.7)@2022-06-27 00:00:40+00, POINT(-81.48 28.69)@2022-06-27 00:00:50+00, POINT(-48.947635044 0.000017468000003)@2022-06-27 00:00:51.453246+00)}\n",
      "0 0\n",
      "0 0\n",
      "0 0\n",
      "0 0\n",
      "0 0\n",
      "0 0\n",
      "0 0\n",
      "0 0\n",
      "0 0\n",
      "0 0\n"
     ]
    }
   ],
   "source": [
    "# Now if we try the .at() method\n",
    "\n",
    "tseq = TGeomPointSeq(string='SRID=0;[POINT(-81.5 28.73)@2022-06-27 00:00:10+00, POINT(-81.5 28.72)@2022-06-27 00:00:20+00, POINT(-81.48 28.7)@2022-06-27 00:00:40+00, POINT(-81.48 28.69)@2022-06-27 00:00:50+00, POINT(30.45 -70.02)@2022-06-27 00:00:55+00)')\n",
    "tseq = tseq.set_srid(0)\n",
    "\n",
    "print(tseq)\n",
    "\n",
    "for key, tile in enumerate(grid):\n",
    "    print(tile.srid(), tseq.srid())\n",
    "    \n",
    "    if tseq.at(tile) is not None:\n",
    "        print(\"Attempting: \", key, tseq.at(tile))"
   ]
  },
  {
   "cell_type": "code",
   "execution_count": null,
   "id": "0b9b1aab-ede2-460b-8c58-c54ef6b7ebdd",
   "metadata": {},
   "outputs": [],
   "source": []
  }
 ],
 "metadata": {
  "kernelspec": {
   "display_name": "Python 3 (ipykernel)",
   "language": "python",
   "name": "python3"
  },
  "language_info": {
   "codemirror_mode": {
    "name": "ipython",
    "version": 3
   },
   "file_extension": ".py",
   "mimetype": "text/x-python",
   "name": "python",
   "nbconvert_exporter": "python",
   "pygments_lexer": "ipython3",
   "version": "3.9.2"
  }
 },
 "nbformat": 4,
 "nbformat_minor": 5
}
