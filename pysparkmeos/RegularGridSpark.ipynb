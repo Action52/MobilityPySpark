{
 "cells": [
  {
   "cell_type": "markdown",
   "id": "9880d2e4-36f4-4540-b70e-25b385a6939a",
   "metadata": {},
   "source": [
    "# Pymeos and Pyspark Partitioning Demo"
   ]
  },
  {
   "cell_type": "markdown",
   "id": "452f9d2d-8292-4d17-9e97-21ee3df3d7e6",
   "metadata": {},
   "source": [
    "First we perform the corresponding imports for the libraries to use."
   ]
  },
  {
   "cell_type": "code",
   "execution_count": 1,
   "id": "058c02bf-4670-4b08-b4e8-5355c2355b91",
   "metadata": {},
   "outputs": [],
   "source": [
    "from pymeos import *\n",
    "from pysparkmeos.UDT.MeosDatatype import *\n",
    "\n",
    "from pyspark.sql import SparkSession\n",
    "from pyspark.sql.types import *\n",
    "from pyspark.serializers import PickleSerializer\n",
    "import pyspark.sql.functions as F\n",
    "\n",
    "from pyspark.storagelevel import StorageLevel\n",
    "\n",
    "from pysparkmeos.partitions.grid.grid_partitioner import GridPartition\n",
    "\n",
    "from pysparkmeos.utils.udt_appender import udt_append\n",
    "from pysparkmeos.UDF.udf import *\n",
    "from pysparkmeos.partitions.mobilityrdd import MobilityRDD\n",
    "\n",
    "import random, datetime\n",
    "\n",
    "from datetime import timedelta\n",
    "from functools import partial\n",
    "from datetime import datetime, timezone\n",
    "import contextily as cx\n",
    "import distinctipy\n",
    "import geopandas as gpd\n",
    "import matplotlib.pyplot as plt\n",
    "import pandas as pd\n",
    "import shapely.geometry as shp\n",
    "from pymeos.plotters import (\n",
    "    TemporalPointSequenceSetPlotter,\n",
    "    TemporalPointSequencePlotter,\n",
    ")\n",
    "\n",
    "import matplotlib.pyplot as plt\n",
    "import numpy as np\n",
    "import os, sys\n",
    "from shapely import wkb, box\n",
    "import pandas as pd\n",
    "from functools import reduce"
   ]
  },
  {
   "cell_type": "markdown",
   "id": "1a97ffcb-ae38-4f21-8b67-454b492c0d6f",
   "metadata": {},
   "source": [
    "## Initialize Pymeos and setup Pyspark"
   ]
  },
  {
   "cell_type": "code",
   "execution_count": 2,
   "id": "f917d538-dcf0-409d-b908-bb1d2aaa3cc2",
   "metadata": {
    "scrolled": true
   },
   "outputs": [
    {
     "name": "stderr",
     "output_type": "stream",
     "text": [
      "Setting default log level to \"WARN\".\n",
      "To adjust logging level use sc.setLogLevel(newLevel). For SparkR, use setLogLevel(newLevel).\n",
      "24/05/17 14:33:18 WARN NativeCodeLoader: Unable to load native-hadoop library for your platform... using builtin-java classes where applicable\n",
      "24/05/17 14:33:19 WARN Utils: Service 'SparkUI' could not bind on port 4040. Attempting port 4041.\n"
     ]
    },
    {
     "name": "stdout",
     "output_type": "stream",
     "text": [
      "[('spark.driver.extraJavaOptions', '-Djava.net.preferIPv6Addresses=false -XX:+IgnoreUnrecognizedVMOptions --add-opens=java.base/java.lang=ALL-UNNAMED --add-opens=java.base/java.lang.invoke=ALL-UNNAMED --add-opens=java.base/java.lang.reflect=ALL-UNNAMED --add-opens=java.base/java.io=ALL-UNNAMED --add-opens=java.base/java.net=ALL-UNNAMED --add-opens=java.base/java.nio=ALL-UNNAMED --add-opens=java.base/java.util=ALL-UNNAMED --add-opens=java.base/java.util.concurrent=ALL-UNNAMED --add-opens=java.base/java.util.concurrent.atomic=ALL-UNNAMED --add-opens=java.base/jdk.internal.ref=ALL-UNNAMED --add-opens=java.base/sun.nio.ch=ALL-UNNAMED --add-opens=java.base/sun.nio.cs=ALL-UNNAMED --add-opens=java.base/sun.security.action=ALL-UNNAMED --add-opens=java.base/sun.util.calendar=ALL-UNNAMED --add-opens=java.security.jgss/sun.security.krb5=ALL-UNNAMED -Djdk.reflect.useDirectMethodHandle=false'), ('spark.executor.memory', '3g'), ('spark.sql.allowMultipleTableArguments.enabled', 'true'), ('spark.app.startTime', '1715956398166'), ('spark.master', 'local[3]'), ('spark.executor.id', 'driver'), ('spark.driver.host', 'd57adcaf5d97'), ('spark.default.parallelism', '3'), ('spark.rdd.compress', 'True'), ('spark.executor.extraJavaOptions', '-Djava.net.preferIPv6Addresses=false -XX:+IgnoreUnrecognizedVMOptions --add-opens=java.base/java.lang=ALL-UNNAMED --add-opens=java.base/java.lang.invoke=ALL-UNNAMED --add-opens=java.base/java.lang.reflect=ALL-UNNAMED --add-opens=java.base/java.io=ALL-UNNAMED --add-opens=java.base/java.net=ALL-UNNAMED --add-opens=java.base/java.nio=ALL-UNNAMED --add-opens=java.base/java.util=ALL-UNNAMED --add-opens=java.base/java.util.concurrent=ALL-UNNAMED --add-opens=java.base/java.util.concurrent.atomic=ALL-UNNAMED --add-opens=java.base/jdk.internal.ref=ALL-UNNAMED --add-opens=java.base/sun.nio.ch=ALL-UNNAMED --add-opens=java.base/sun.nio.cs=ALL-UNNAMED --add-opens=java.base/sun.security.action=ALL-UNNAMED --add-opens=java.base/sun.util.calendar=ALL-UNNAMED --add-opens=java.security.jgss/sun.security.krb5=ALL-UNNAMED -Djdk.reflect.useDirectMethodHandle=false'), ('spark.driver.memory', '2g'), ('spark.driver.maxResultSize', '0'), ('spark.app.name', 'PySpark UDF Example with PyMEOS'), ('spark.serializer.objectStreamReset', '100'), ('spark.submit.pyFiles', ''), ('spark.executor.cores', '1'), ('spark.submit.deployMode', 'client'), ('spark.app.id', 'local-1715956400429'), ('spark.app.submitTime', '1715956397528'), ('spark.ui.showConsoleProgress', 'true'), ('spark.driver.port', '34901')]\n"
     ]
    },
    {
     "name": "stderr",
     "output_type": "stream",
     "text": [
      "----------------------------------------\n",
      "Exception occurred during processing of request from ('127.0.0.1', 58776)\n",
      "Traceback (most recent call last):\n",
      "  File \"/usr/lib/python3.9/socketserver.py\", line 316, in _handle_request_noblock\n",
      "    self.process_request(request, client_address)\n",
      "  File \"/usr/lib/python3.9/socketserver.py\", line 347, in process_request\n",
      "    self.finish_request(request, client_address)\n",
      "  File \"/usr/lib/python3.9/socketserver.py\", line 360, in finish_request\n",
      "    self.RequestHandlerClass(request, client_address, self)\n",
      "  File \"/usr/lib/python3.9/socketserver.py\", line 720, in __init__\n",
      "    self.handle()\n",
      "  File \"/usr/local/lib/python3.9/dist-packages/pyspark/accumulators.py\", line 295, in handle\n",
      "    poll(accum_updates)\n",
      "  File \"/usr/local/lib/python3.9/dist-packages/pyspark/accumulators.py\", line 267, in poll\n",
      "    if self.rfile in r and func():\n",
      "  File \"/usr/local/lib/python3.9/dist-packages/pyspark/accumulators.py\", line 271, in accum_updates\n",
      "    num_updates = read_int(self.rfile)\n",
      "  File \"/usr/local/lib/python3.9/dist-packages/pyspark/serializers.py\", line 596, in read_int\n",
      "    raise EOFError\n",
      "EOFError\n",
      "----------------------------------------\n"
     ]
    }
   ],
   "source": [
    "# Initialize PyMEOS\n",
    "pymeos_initialize(\"UTC\")\n",
    "\n",
    "os.environ['PYSPARK_DRIVER_PYTHON_OPTS']= \"notebook\"\n",
    "os.environ['PYSPARK_DRIVER_PYTHON'] = sys.executable\n",
    "os.environ['PYSPARK_PYTHON'] = sys.executable\n",
    "\n",
    "#.config(\"spark.serializer\", \"org.apache.spark.serializer.KryoSerializer\") \\\n",
    "\n",
    "# Initialize a Spark session\n",
    "spark = SparkSession.builder \\\n",
    "    .appName(\"PySpark UDF Example with PyMEOS\") \\\n",
    "    .master(\"local[3]\") \\\n",
    "    .config(\"spark.default.parallelism\", 3) \\\n",
    "    .config(\"spark.executor.memory\", \"3g\") \\\n",
    "    .config(\"spark.executor.cores\", 1) \\\n",
    "    .config(\"spark.driver.memory\", \"2g\") \\\n",
    "    .config(\"spark.driver.maxResultSize\", 0) \\\n",
    "    .config(\"spark.sql.allowMultipleTableArguments.enabled\", True) \\\n",
    "    .getOrCreate()\n",
    "\n",
    "#spark.sparkContext.setLogLevel(\"DEBUG\")\n",
    "\n",
    "# Append the UDT mapping to the PyMEOS classes\n",
    "udt_append()\n",
    "\n",
    "# Get the value of 'spark.default.parallelism'\n",
    "print(spark.sparkContext.getConf().getAll())\n",
    "#print(f\"spark.default.parallelism: {default_parallelism}\")\n",
    "#print(f\"spark.sql.allowMultipleTableArguments.enabled: {spark.sparkContext.getConf().get('spark.sql.allowMultipleTableArguments.enabled')}\")"
   ]
  },
  {
   "cell_type": "markdown",
   "id": "5184c30b-7ee8-4b06-b3af-216ae9518766",
   "metadata": {},
   "source": [
    "## Read the DataFrame and create the columns of Pymeos data objects"
   ]
  },
  {
   "cell_type": "markdown",
   "id": "64d7cc32-1fc4-4f83-b84c-50cd9777a7dd",
   "metadata": {},
   "source": [
    "First, we are going to read a dataset from OpenSky, this dataset cointains the trajectory information of multiple flights within a timeframe.  \n",
    "\n",
    "Using the latitude, longitude and timestamp we can create a PyMEOS TGeogPointInst, that in PySpark will be wrapped into a TGeogPointInstUDT object."
   ]
  },
  {
   "cell_type": "code",
   "execution_count": 3,
   "id": "a7acdd67-9b63-4bd3-a032-8cb063e48fbb",
   "metadata": {},
   "outputs": [
    {
     "name": "stderr",
     "output_type": "stream",
     "text": [
      "24/05/17 14:33:31 WARN GarbageCollectionMetrics: To enable non-built-in garbage collector(s) List(G1 Concurrent GC), users should configure it(them) to spark.eventLog.gcMetrics.youngGenerationGarbageCollectors or spark.eventLog.gcMetrics.oldGenerationGarbageCollectors\n",
      "                                                                                \r"
     ]
    },
    {
     "data": {
      "text/plain": [
       "[Row(icao24='a00529', time='2022-06-27 00:00:55', lat=-25.02, lon=120.0, Point=TGeomPointInstWrap(POINT(120 -25.02)@2022-06-27 00:00:55+00), x=120.0, y=-25.020000457763672, t=datetime.datetime(2022, 6, 27, 0, 0, 55), id=1),\n",
       " Row(icao24='a00529', time='2022-06-27 00:00:58', lat=80.0, lon=10.0, Point=TGeomPointInstWrap(POINT(10 80)@2022-06-27 00:00:58+00), x=10.0, y=80.0, t=datetime.datetime(2022, 6, 27, 0, 0, 58), id=2),\n",
       " Row(icao24='a00528', time='2022-06-27 00:00:10', lat=0.0, lon=-75.5, Point=TGeomPointInstWrap(POINT(-75.5 0)@2022-06-27 00:00:10+00), x=-75.5, y=0.0, t=datetime.datetime(2022, 6, 27, 0, 0, 10), id=3),\n",
       " Row(icao24='a00528', time='2022-06-27 00:00:20', lat=37.72, lon=-5.5, Point=TGeomPointInstWrap(POINT(-5.5 37.72)@2022-06-27 00:00:20+00), x=-5.5, y=37.720001220703125, t=datetime.datetime(2022, 6, 27, 0, 0, 20), id=4),\n",
       " Row(icao24='a00528', time='2022-06-27 00:00:30', lat=25.72, lon=12.5, Point=TGeomPointInstWrap(POINT(12.5 25.72)@2022-06-27 00:00:30+00), x=12.5, y=25.719999313354492, t=datetime.datetime(2022, 6, 27, 0, 0, 30), id=5)]"
      ]
     },
     "execution_count": 3,
     "metadata": {},
     "output_type": "execute_result"
    }
   ],
   "source": [
    "# Read data from a CSV file\n",
    "#data_path = \"../../small_mid_states_2022-06-27-00.csv\"  # Update this with your CSV file path\n",
    "data_path = \"../../sample.csv\"\n",
    "df = spark.read.csv(data_path, header=True, inferSchema=True, mode='PERMISSIVE').select(\"icao24\", \"time\", \"lat\", \"lon\")\n",
    "\n",
    "# Clean nans, if not Points can't be created\n",
    "df = df.dropna(subset=[\"lat\", \"lon\", \"time\", \"icao24\"])\n",
    "\n",
    "    #.withColumn(\"Point\", F.concat(F.lit(\"Point(\"), F.col(\"lat\"), F.lit(\" \"), F.col(\"lon\"), F.lit(\")@\"), F.col(\"time\"))) \\\n",
    "# Convert the 'time' column to the correct format\n",
    "df = df \\\n",
    "    .withColumn(\"time\", F.from_unixtime(F.col(\"time\"), \"yyyy-MM-dd' 'HH:mm:ss\")) \\\n",
    "    .withColumn(\"lat\", F.round(\"lat\", 2)) \\\n",
    "    .withColumn(\"lon\", F.round(\"lon\", 2)) \\\n",
    "    .withColumn(\"Point\", create_point_udf(\"lat\", \"lon\", \"time\")) \\\n",
    "    .withColumn(\"x\", get_point_x(\"Point\")) \\\n",
    "    .withColumn(\"y\", get_point_y(\"Point\")) \\\n",
    "    .withColumn(\"t\", get_point_timestamp(\"Point\")) \\\n",
    "    .withColumn(\"id\", F.monotonically_increasing_id())\n",
    "\n",
    "#    .withColumn(\"x\", get_point_x(\"Point\")) \\\n",
    "#    .withColumn(\"y\", get_point_y(\"Point\")) \\\n",
    "#    .withColumn(\"t\", get_point_timestamp(\"Point\")) \\\n",
    "# df.createOrReplaceTempView(\"rawPoints\")\n",
    "\n",
    "df.tail(5)\n",
    "\n",
    "#for row in df.toLocalIterator():\n",
    "#    print(row)"
   ]
  },
  {
   "cell_type": "code",
   "execution_count": 4,
   "id": "b706c651-5fd4-4455-8d44-a4901f5571b3",
   "metadata": {},
   "outputs": [],
   "source": [
    "#df.rdd.getNumPartitions()"
   ]
  },
  {
   "cell_type": "markdown",
   "id": "612e2553-ab4b-4397-a99e-d5b45b0d7320",
   "metadata": {},
   "source": [
    "Handling a dataset like this gives us granularity over the datapoints, but it would be better to group the trajectories together using another function, this will return the TGeogPointSeq objects representing each trajectory. Let's create a UDTF that takes the icao24, and Point, and creates a new table with icao24, and PointSeq."
   ]
  },
  {
   "cell_type": "code",
   "execution_count": 5,
   "id": "4d7e8a34-38b9-4073-be63-77e7a1817481",
   "metadata": {},
   "outputs": [
    {
     "name": "stdout",
     "output_type": "stream",
     "text": [
      "6\n"
     ]
    },
    {
     "name": "stderr",
     "output_type": "stream",
     "text": [
      "                                                                                \r"
     ]
    },
    {
     "name": "stdout",
     "output_type": "stream",
     "text": [
      "+------+---+\n",
      "|icao24|cnt|\n",
      "+------+---+\n",
      "|a00528|  3|\n",
      "|a00529|  3|\n",
      "+------+---+\n",
      "\n"
     ]
    },
    {
     "name": "stderr",
     "output_type": "stream",
     "text": [
      "                                                                                \r"
     ]
    },
    {
     "name": "stdout",
     "output_type": "stream",
     "text": [
      "2\n",
      "+------+--------------------+\n",
      "|icao24|            PointSeq|\n",
      "+------+--------------------+\n",
      "|a00528|[POINT(-75.5 0)@2...|\n",
      "|a00529|[POINT(-81.5 28.7...|\n",
      "+------+--------------------+\n",
      "\n"
     ]
    },
    {
     "data": {
      "text/plain": [
       "TGeomPointSeqWrap([POINT(-75.5 0)@2022-06-27 00:00:10+00, POINT(-5.5 37.72)@2022-06-27 00:00:20+00, POINT(12.5 25.72)@2022-06-27 00:00:30+00))"
      ]
     },
     "execution_count": 5,
     "metadata": {},
     "output_type": "execute_result"
    }
   ],
   "source": [
    "schema = StructType([\n",
    "    StructField(\"icao24\", StringType()),\n",
    "    StructField(\"PointSeq\", TGeomPointSeqUDT())\n",
    "])\n",
    "\n",
    "\n",
    "@F.udf(returnType=TGeomPointSeqUDT())\n",
    "def pointSeqFromPoints(pointgroup):\n",
    "    if not pointgroup:\n",
    "        return None\n",
    "    pymeos_initialize()\n",
    "    if len(pointgroup) == 1:\n",
    "        pointgroup = f'[{pointgroup[0].__str__()}]'\n",
    "        return TGeomPointSeq(pointgroup)\n",
    "    pointgroup = sorted(pointgroup, key=lambda x: x.timestamps()[0])\n",
    "    pointseq = TGeomPointSeq(instant_list=pointgroup)\n",
    "    return pointseq\n",
    "\n",
    "print(df.count())\n",
    "\n",
    "#df.select(\"Point\").tail(5)\n",
    "df.groupBy(\"icao24\").agg(F.count(\"Point\").alias(\"cnt\")).orderBy(\"cnt\",ascending=False).show()\n",
    "\n",
    "trajectories = df.groupBy(\"icao24\").agg(\n",
    "    F.collect_list(F.col(\"Point\")).alias(\"PointSeq\")\n",
    ").select(\"icao24\", \"PointSeq\").withColumn(\"PointSeq\", pointSeqFromPoints(\"PointSeq\"))\n",
    "\n",
    "print(trajectories.count())\n",
    "\n",
    "trajectories.show(5)\n",
    "trajectories.collect()[0].PointSeq\n",
    "#trajectories.rdd.getNumPartitions()\n",
    "\n",
    "#spark.sparkContext.setCheckpointDir(\"./checkpoint\")\n",
    "#trajectories = trajectories.checkpoint()\n",
    "#trajectories.tail(1).limit(1).collect()[0].PointSeq"
   ]
  },
  {
   "cell_type": "markdown",
   "id": "69eb8cf7-1592-424f-bc57-0dd992930968",
   "metadata": {},
   "source": [
    "This has reduced the table from 530k Points to 7k PointSeq!"
   ]
  },
  {
   "cell_type": "code",
   "execution_count": 6,
   "id": "d4dfb517-db6f-4d79-b36f-d0a8728f004d",
   "metadata": {},
   "outputs": [],
   "source": [
    "# trajectories.createOrReplaceTempView(\"trajectories\")"
   ]
  },
  {
   "cell_type": "markdown",
   "id": "ae29378c-7551-4e27-88f8-85225c3ff932",
   "metadata": {},
   "source": [
    "Now we need to calculate the boundaries of the whole space of trajectories."
   ]
  },
  {
   "cell_type": "code",
   "execution_count": 7,
   "id": "633b489f-8c34-42f3-a63a-0c1957762d24",
   "metadata": {},
   "outputs": [
    {
     "name": "stderr",
     "output_type": "stream",
     "text": [
      "                                                                                \r"
     ]
    },
    {
     "name": "stdout",
     "output_type": "stream",
     "text": [
      "+------+--------------------+--------------------+-----+\n",
      "|icao24|            PointSeq|               STBox|seqId|\n",
      "+------+--------------------+--------------------+-----+\n",
      "|a00528|[POINT(-75.5 0)@2...|STBOX XT(((-75.5,...|    0|\n",
      "|a00529|[POINT(-81.5 28.7...|STBOX XT(((-81.5,...|    1|\n",
      "+------+--------------------+--------------------+-----+\n",
      "\n"
     ]
    },
    {
     "name": "stderr",
     "output_type": "stream",
     "text": [
      "[Stage 28:==================================================>   (188 + 4) / 200]\r"
     ]
    },
    {
     "name": "stdout",
     "output_type": "stream",
     "text": [
      "2\n"
     ]
    },
    {
     "name": "stderr",
     "output_type": "stream",
     "text": [
      "                                                                                \r"
     ]
    }
   ],
   "source": [
    "from pymeos import TPoint\n",
    "\n",
    "@F.udf(returnType=STBoxUDT())\n",
    "def point_to_stbox(tpoint: TPoint) -> STBox:\n",
    "    pymeos_initialize()\n",
    "    return tpoint.bounding_box()\n",
    "\n",
    "trajectories = trajectories.withColumn(\"STBox\", point_to_stbox(\"PointSeq\")).withColumn(\"seqId\", F.monotonically_increasing_id())\n",
    "trajectories.createOrReplaceTempView(\"trajectories\")\n",
    "trajectories.show()\n",
    "trajectories.cache()\n",
    "print(trajectories.count())\n",
    "#trajectories.rdd.getNumPartitions()"
   ]
  },
  {
   "cell_type": "code",
   "execution_count": 8,
   "id": "be545b0c-982e-4561-921c-cbdcb34f0a29",
   "metadata": {},
   "outputs": [
    {
     "name": "stderr",
     "output_type": "stream",
     "text": [
      "                                                                                \r"
     ]
    },
    {
     "data": {
      "text/plain": [
       "STBoxWrap(STBOX XT(((-81.5,-25.02),(120,80)),[2022-06-27 00:00:10+00, 2022-06-27 00:00:58+00)))"
      ]
     },
     "execution_count": 8,
     "metadata": {},
     "output_type": "execute_result"
    }
   ],
   "source": [
    "def bounds_calculate_map(partition_rows):\n",
    "    pymeos_initialize(\"UTC\")\n",
    "    aggregator = TemporalPointExtentAggregator.start_aggregation()\n",
    "    #print(iter(partition_rows))\n",
    "    for row in partition_rows:\n",
    "        if type(row) == Row:\n",
    "            #print(row)\n",
    "            seq = TGeomPointSeq(row.PointSeq.__str__())\n",
    "            aggregator.add(seq)\n",
    "    try:\n",
    "        boundbox = STBoxWrap(aggregator.aggregation().__str__())\n",
    "        return [(boundbox)]#[(boundbox)]\n",
    "    except:\n",
    "        return [(None)]\n",
    "\n",
    "\n",
    "def bounds_calculate_reduce(bounds1, bounds2):\n",
    "    pymeos_initialize(\"UTC\")\n",
    "    aggregation = None\n",
    "    \n",
    "    if bounds1 and bounds2:\n",
    "        aggregation = bounds1 + bounds2\n",
    "    elif not bounds1 and bounds2:\n",
    "        aggregation = bounds2\n",
    "    elif not bounds2:\n",
    "        aggregation = bounds1\n",
    "\n",
    "    if aggregation:\n",
    "        boundbox = STBoxWrap(aggregation.__str__())\n",
    "        return boundbox\n",
    "    else:\n",
    "        return None\n",
    "\n",
    "\n",
    "bounds = trajectories.rdd.mapPartitions(bounds_calculate_map).reduce(bounds_calculate_reduce)\n",
    "bounds"
   ]
  },
  {
   "cell_type": "code",
   "execution_count": 9,
   "id": "38bff28d-e117-47e1-ad2f-b1dffc1b470a",
   "metadata": {},
   "outputs": [],
   "source": [
    "#bounds = STBoxWrap(\n",
    "#        \"SRID=0;STBOX XT(((-177.02969360351562,-46.421356201171875),(177.816650390625,70.29727935791016)),[2022-06-27 00:00:00+00, 2022-06-27 00:15:00+00])\",\n",
    "#        geodetic=False)\n",
    "#bounds"
   ]
  },
  {
   "cell_type": "markdown",
   "id": "921756e9-1848-45e6-a3e6-75a53b814649",
   "metadata": {},
   "source": [
    "## Generate the partitioning scheme and repartition data"
   ]
  },
  {
   "cell_type": "code",
   "execution_count": 10,
   "id": "b3d1e257-b1e6-4cd2-81fc-81e4a9405d5f",
   "metadata": {},
   "outputs": [
    {
     "name": "stdout",
     "output_type": "stream",
     "text": [
      "+------+--------------------+\n",
      "|tileid|                tile|\n",
      "+------+--------------------+\n",
      "|     0|STBOX XT(((-91.5,...|\n",
      "|     1|STBOX XT(((-91.5,...|\n",
      "|     2|STBOX XT(((-91.5,...|\n",
      "|     3|STBOX XT(((-91.5,...|\n",
      "|     4|STBOX XT(((-91.5,...|\n",
      "|     5|STBOX XT(((-91.5,...|\n",
      "|     6|STBOX XT(((-91.5,...|\n",
      "|     7|STBOX XT(((-91.5,...|\n",
      "|     8|STBOX XT(((-91.5,...|\n",
      "|     9|STBOX XT(((-17.66...|\n",
      "|    10|STBOX XT(((-17.66...|\n",
      "|    11|STBOX XT(((-17.66...|\n",
      "|    12|STBOX XT(((-17.66...|\n",
      "|    13|STBOX XT(((-17.66...|\n",
      "|    14|STBOX XT(((-17.66...|\n",
      "|    15|STBOX XT(((-17.66...|\n",
      "|    16|STBOX XT(((-17.66...|\n",
      "|    17|STBOX XT(((-17.66...|\n",
      "|    18|STBOX XT(((56.166...|\n",
      "|    19|STBOX XT(((56.166...|\n",
      "+------+--------------------+\n",
      "only showing top 20 rows\n",
      "\n"
     ]
    },
    {
     "name": "stderr",
     "output_type": "stream",
     "text": [
      "24/05/17 14:34:21 WARN SparkStringUtils: Truncated the string representation of a plan since it was too large. This behavior can be adjusted by setting 'spark.sql.debug.maxToStringFields'.\n"
     ]
    }
   ],
   "source": [
    "# Now we calculate the grid and partition accordingly\n",
    "gp = GridPartition(cells_per_side=3, bounds=bounds.expand(10.0))\n",
    "grid = gp.as_spark_table()\n",
    "grid.cache()\n",
    "grid.show()\n",
    "grid.createOrReplaceTempView(\"grid\")\n",
    "#grid.rdd.getNumPartitions()"
   ]
  },
  {
   "cell_type": "code",
   "execution_count": 11,
   "id": "4d2fd6c9-4f00-4a21-964f-d2c7a5c7c1e3",
   "metadata": {},
   "outputs": [
    {
     "name": "stdout",
     "output_type": "stream",
     "text": [
      "CPU times: user 29 µs, sys: 27 µs, total: 56 µs\n",
      "Wall time: 134 µs\n",
      "root\n",
      " |-- trajectoryId: string (nullable = true)\n",
      " |-- partitionKey: integer (nullable = true)\n",
      " |-- trajectory: pythonuserdefined (nullable = true)\n",
      "\n"
     ]
    },
    {
     "name": "stderr",
     "output_type": "stream",
     "text": [
      "                                                                                \r"
     ]
    }
   ],
   "source": [
    "%time\n",
    "from pyspark.sql.types import Row\n",
    "from typing import Iterator\n",
    "\n",
    "schema = StructType([\n",
    "    StructField(\"trajectoryId\", StringType()),\n",
    "    StructField(\"partitionKey\", IntegerType()),\n",
    "    StructField(\"trajectory\", TGeogPointSeqUDT())\n",
    "])\n",
    "\n",
    "@F.udtf(returnType=schema)\n",
    "class RegularPartition:\n",
    "    def eval(self, row: Row):\n",
    "        pymeos_initialize()\n",
    "        sequence_id = row.seqId\n",
    "        trajectory = row.trajectory\n",
    "        #print(trajectory,type(trajectory))\n",
    "        #print(row.grid[0])\n",
    "        #grid = [STBoxWrap(f\"SRID=4326;{tile.__str__().strip('SRID=4326;')}\") for tile in row.grid]\n",
    "        grid = row.grid\n",
    "        gridids = row.gridids\n",
    "        partitioned = [(key, trajectory.at(tile)) for key, tile in zip(gridids, grid)]\n",
    "        #print(trajectory)\n",
    "        #print(grid)\n",
    "        #print(partitioned)\n",
    "        count = 0\n",
    "        responses = []\n",
    "        for partition_key, partition_traj in partitioned:\n",
    "            count += 1\n",
    "            if partition_traj is None:\n",
    "                continue\n",
    "            else:\n",
    "                #responses.append((sequence_id, partition_key, partition_traj,))\n",
    "                seqs = partition_traj.segments()\n",
    "                #print(seqs)\n",
    "                for partition_traj_seq in seqs:\n",
    "                    responses.append((sequence_id, partition_key, partition_traj_seq,))\n",
    "        for response in responses:\n",
    "            yield response\n",
    "\n",
    "\n",
    "spark.udtf.register(\"regularPartition\", RegularPartition)\n",
    "\n",
    "# spark.sql(\"SELECT collect_list(tile) FROM grid\").show()\n",
    "\n",
    "#spark.sql(\"SELECT seqId, PointSeq AS trajectory, (SELECT collect_list(tile) FROM grid) AS grid FROM trajectories\").collect()\n",
    "\n",
    "trajectoriesPartMap = spark.sql(\"\"\"\n",
    "    SELECT * \n",
    "    FROM regularPartition(\n",
    "        TABLE(\n",
    "                SELECT \n",
    "                    seqId, \n",
    "                    PointSeq AS trajectory, \n",
    "                    (SELECT collect_list(tile) FROM grid) AS grid, \n",
    "                    (SELECT collect_list(tileid) FROM grid) AS gridids\n",
    "                FROM trajectories\n",
    "        )\n",
    "    )\n",
    "\"\"\")\n",
    "\n",
    "#trajectoriesPartMap.createOrReplaceTempView(\"trajectoriesPartMap\")\n",
    "\n",
    "#spark.sql(f\"\"\"\n",
    "#    CREATE TABLE trajectoriesPart\n",
    "#    USING parquet\n",
    "#    PARTITIONED BY (partitionKey)\n",
    "#    AS SELECT * FROM trajectoriesPartMap\n",
    "#\"\"\")\n",
    "\n",
    "#trajectoriesPartMap = spark.table('trajectoriesPart')\n",
    "#print(trajectoriesPartMap.rdd.getNumPartitions())\n",
    "\n",
    "#num_partitions = gp.num_partitions()\n",
    "\n",
    "#trajectoriesPart = trajectoriesPartMap.rdd.mapPartitions(lambda row: (row['partitionKey'], row)).partitionBy(num_partitions)\n",
    "\n",
    "#spark.sparkContext.setLogLevel(\"WARN\")\n",
    "\n",
    "#print(trajectoriesPartMap.tail(1))\n",
    "#print(trajectoriesPartMap.count())\n",
    "#trajectoriesPartMap.createOrReplaceTempView(\"trajectoriesPartMap\")\n",
    "#print(trajectoriesPartMap.rdd.getNumPartitions())\n",
    "num_partitions = gp.num_partitions()\n",
    "#trajectoriesPartMap = trajectoriesPartMap.withColumn(\"trajectory\", F.col(\"trajectory\").cast(\"string\"))\n",
    "trajectoriesPartMap.printSchema()\n",
    "\n",
    "#trajectoriesPartMap = trajectoriesPartMap.repartition(num_partitions, \"partitionKey\")\n",
    "\n",
    "def map_partition_rdd(index, rows):\n",
    "    for row in rows:\n",
    "        yield (row['partitionKey'], row)\n",
    "\n",
    "trajectoriesPartMapRdd = trajectoriesPartMap.rdd.mapPartitionsWithIndex(map_partition_rdd).partitionBy(num_partitions)\n",
    "\n",
    "#trajectoriesPartMap.cache()\n",
    "#trajectoriesPartMap.show()\n",
    "\n",
    "#for row in trajectoriesPartMapRdd.take(1):\n",
    "#    print(row)\n",
    "\n",
    "#trajectoriesPartMap = trajectoriesPartMapRdd.toDF([\"partitionKey\", \"trajectorydata\"]) #.withColumn(\"trajectory\", F.col(\"trajectorydata.trajectory\").cast(TGeogPointSeqUDT())).withColumn(\"trajectoryId\", F.col(\"trajectorydata.trajectoryId\")).drop(\"trajectorydata\")\n",
    "#trajectoriesPartMap.printSchema()\n",
    "#trajectoriesPart.groupBy(\"trajectoryId\").agg(F.count(F.col(\"trajectory\")).alias(\"cnt\")).orderBy(\"cnt\", ascending=False).show()\n",
    "#trajectoriesPartMap.orderBy(\"trajectoryId\")\n",
    "#trajectoriesPartMap.show()\n",
    "#print(trajectoriesPartMap.rdd.getNumPartitions())\n",
    "\n",
    "#RegularPartition(trajectories, trajectories.select(\"PointSeq\"), F.lit(gp.gridstr)).show()\n",
    "\n",
    "\n",
    "#spark.udtf.register(\"regularPartition\", RegularPartition)\n",
    "\n",
    "\n",
    "#print(gp.num_partitions())\n",
    "#num_partitions = gp.num_partitions()\n",
    "#gridstr = gp.gridstr\n",
    "\n",
    "# Register the udf\n",
    "#get_partition_key_udf = udf(gp.get_partition, IntegerType())\n",
    "\n",
    "#dfpoint = df.select(\"id\", \"Point\", \"PointStr\").withColumn(\"partitionKey\", get_partition_key_udf(col(\"Point\"), lit(gridstr)))\n",
    "#dfpoint.show()\n",
    "\n",
    "# dfpoint.select(\"_metadata\").show(truncate=False)"
   ]
  },
  {
   "cell_type": "code",
   "execution_count": 12,
   "id": "7574254e-be8e-436c-893f-06b0f55e2499",
   "metadata": {},
   "outputs": [
    {
     "name": "stderr",
     "output_type": "stream",
     "text": [
      "                                                                                \r"
     ]
    },
    {
     "name": "stdout",
     "output_type": "stream",
     "text": [
      "+------------+--------------------+-------------+\n",
      "|partitionKey|          trajectory| trajectoryId|\n",
      "+------------+--------------------+-------------+\n",
      "|           0|[POINT(-75.5 0)@2...| 326417514496|\n",
      "|           3|[POINT(-63.152882...| 326417514496|\n",
      "|           3|[POINT(-81.5 28.7...|1005022347264|\n",
      "|          10|[POINT(1.26182633...|1005022347264|\n",
      "|          12|[POINT(-17.666672...| 326417514496|\n",
      "|          12|[POINT(-5.5 37.72...| 326417514496|\n",
      "|          12|[POINT(-17.666667...|1005022347264|\n",
      "|          13|[POINT(5.30000000...| 326417514496|\n",
      "|          13|[POINT(-9.8555555...|1005022347264|\n",
      "|          14|[POINT(56.16667 3...|1005022347264|\n",
      "|          17|[POINT(43.1753033...|1005022347264|\n",
      "|          19|[POINT(56.1666627...|1005022347264|\n",
      "|          20|[POINT(61.7888888...|1005022347264|\n",
      "|          20|[POINT(120 -25.02...|1005022347264|\n",
      "|          23|[POINT(86.8247333...|1005022347264|\n",
      "+------------+--------------------+-------------+\n",
      "\n",
      "CPU times: user 333 ms, sys: 49.2 ms, total: 382 ms\n",
      "Wall time: 13.9 s\n"
     ]
    }
   ],
   "source": [
    "%%time\n",
    "from pyspark.sql import SQLContext\n",
    "\n",
    "#trajectoriesPart = spark.table(\"trajectoriesPart\")\n",
    "\n",
    "#print(trajectoriesPart.tail(5))\n",
    "#print(trajectoriesPart.count())\n",
    "#print(trajectoriesPartMap.rdd.getNumPartitions())\n",
    "\n",
    "\n",
    "# This operation can be costly, for testing do with few data points (<= 1000).\n",
    "num_partitions = gp.num_partitions()\n",
    "#trajectoriesPart = trajectoriesPart.repartition(num_partitions, \"partitionKey\")\n",
    "#print(trajectoriesPart.rdd.getNumPartitions())\n",
    "#trajectoriesPartRdd = trajectoriesPart.rdd.map(lambda x: (x['partitionKey'], x)).partitionBy(num_partitions)\n",
    "trajectoriesPartMap = trajectoriesPartMapRdd.toDF([\"partitionKey\", \"trajectorydata\"]).withColumn(\"trajectory\", F.col(\"trajectorydata.trajectory\")).withColumn(\"trajectoryId\", F.col(\"trajectorydata.trajectoryId\")).drop(\"trajectorydata\")\n",
    "#trajectoriesPart.groupBy(\"trajectoryId\").agg(F.count(F.col(\"trajectory\")).alias(\"cnt\")).orderBy(\"cnt\", ascending=False).show()\n",
    "trajectoriesPartMap.orderBy(\"trajectoryId\").cache()\n",
    "trajectoriesPartMap.show()"
   ]
  },
  {
   "cell_type": "markdown",
   "id": "0cb56d5b-23d4-45da-b879-6c34e3ffe99d",
   "metadata": {},
   "source": [
    "## Show the partition distribution"
   ]
  },
  {
   "cell_type": "code",
   "execution_count": 13,
   "id": "c79a3aff-afb7-4788-aa13-9a110f68f3e4",
   "metadata": {},
   "outputs": [
    {
     "name": "stderr",
     "output_type": "stream",
     "text": [
      "                                                                                \r"
     ]
    },
    {
     "name": "stdout",
     "output_type": "stream",
     "text": [
      "+------------+-----+\n",
      "|partitionKey|count|\n",
      "+------------+-----+\n",
      "|           0|    1|\n",
      "|           3|    2|\n",
      "|          10|    1|\n",
      "|          12|    3|\n",
      "|          13|    2|\n",
      "|          14|    1|\n",
      "|          17|    1|\n",
      "|          19|    1|\n",
      "|          20|    2|\n",
      "|          23|    1|\n",
      "+------------+-----+\n",
      "\n",
      "27\n"
     ]
    },
    {
     "name": "stderr",
     "output_type": "stream",
     "text": [
      "                                                                                \r"
     ]
    },
    {
     "name": "stdout",
     "output_type": "stream",
     "text": [
      "Partition 0 has 1 rows\n",
      "Partition 1 has 0 rows\n",
      "Partition 2 has 0 rows\n",
      "Partition 3 has 2 rows\n",
      "Partition 4 has 0 rows\n",
      "Partition 5 has 0 rows\n",
      "Partition 6 has 0 rows\n",
      "Partition 7 has 0 rows\n",
      "Partition 8 has 0 rows\n",
      "Partition 9 has 0 rows\n",
      "Partition 10 has 1 rows\n",
      "Partition 11 has 0 rows\n",
      "Partition 12 has 3 rows\n",
      "Partition 13 has 2 rows\n",
      "Partition 14 has 1 rows\n",
      "Partition 15 has 0 rows\n",
      "Partition 16 has 0 rows\n",
      "Partition 17 has 1 rows\n",
      "Partition 18 has 0 rows\n",
      "Partition 19 has 1 rows\n",
      "Partition 20 has 2 rows\n",
      "Partition 21 has 0 rows\n",
      "Partition 22 has 0 rows\n",
      "Partition 23 has 1 rows\n",
      "Partition 24 has 0 rows\n",
      "Partition 25 has 0 rows\n",
      "Partition 26 has 0 rows\n"
     ]
    },
    {
     "name": "stderr",
     "output_type": "stream",
     "text": [
      "                                                                                \r"
     ]
    },
    {
     "name": "stdout",
     "output_type": "stream",
     "text": [
      "+------------+--------------------+-------------+\n",
      "|partitionKey|          trajectory| trajectoryId|\n",
      "+------------+--------------------+-------------+\n",
      "|           0|[POINT(-75.5 0)@2...| 326417514496|\n",
      "|           3|[POINT(-63.152882...| 326417514496|\n",
      "|           3|[POINT(-81.5 28.7...|1005022347264|\n",
      "|          10|[POINT(1.26182633...|1005022347264|\n",
      "|          12|[POINT(-17.666672...| 326417514496|\n",
      "|          12|[POINT(-5.5 37.72...| 326417514496|\n",
      "|          12|[POINT(-17.666667...|1005022347264|\n",
      "|          13|[POINT(5.30000000...| 326417514496|\n",
      "|          13|[POINT(-9.8555555...|1005022347264|\n",
      "|          14|[POINT(56.16667 3...|1005022347264|\n",
      "|          17|[POINT(43.1753033...|1005022347264|\n",
      "|          19|[POINT(56.1666627...|1005022347264|\n",
      "|          20|[POINT(61.7888888...|1005022347264|\n",
      "|          20|[POINT(120 -25.02...|1005022347264|\n",
      "|          23|[POINT(86.8247333...|1005022347264|\n",
      "+------------+--------------------+-------------+\n",
      "\n",
      "CPU times: user 211 ms, sys: 26.7 ms, total: 238 ms\n",
      "Wall time: 8.11 s\n"
     ]
    }
   ],
   "source": [
    "%%time\n",
    "\n",
    "trajectoriesPartMap.groupBy(\"partitionKey\").count().show()\n",
    "\n",
    "#for idx, item in datardd.take(5):\n",
    "#    print(idx, item)\n",
    "\n",
    "trajectoriesPartRdd = trajectoriesPartMap.rdd\n",
    "print(trajectoriesPartRdd.getNumPartitions())\n",
    "\n",
    "# Function to count rows per partition\n",
    "def count_in_partition(idx, iterator):\n",
    "    cnt = 0\n",
    "    for _ in iterator:\n",
    "        cnt += 1\n",
    "    return [(idx, cnt)]\n",
    "\n",
    "# Using mapPartitionsWithIndex to count rows per partition\n",
    "partition_counts = trajectoriesPartRdd.mapPartitionsWithIndex(count_in_partition).collect()\n",
    "    \n",
    "# Print the results\n",
    "for partition_id, cnt in partition_counts:\n",
    "    print(f\"Partition {partition_id} has {cnt} rows\")\n",
    "\n",
    "\n",
    "trajectoriesPartMap.show()"
   ]
  },
  {
   "cell_type": "markdown",
   "id": "3a13bba3-41e6-43bb-b426-14209c03fde4",
   "metadata": {},
   "source": [
    "## Plot the Projection of the grid and the distribution of data"
   ]
  },
  {
   "cell_type": "code",
   "execution_count": 14,
   "id": "ad6d3863-0dd1-4887-9166-b6e994d95a29",
   "metadata": {},
   "outputs": [
    {
     "name": "stdout",
     "output_type": "stream",
     "text": [
      "root\n",
      " |-- partitionKey: long (nullable = true)\n",
      " |-- trajectory: pythonuserdefined (nullable = true)\n",
      " |-- trajectoryId: string (nullable = true)\n",
      "\n"
     ]
    },
    {
     "name": "stderr",
     "output_type": "stream",
     "text": [
      "/tmp/ipykernel_6800/2912954134.py:9: FutureWarning: The geopandas.dataset module is deprecated and will be removed in GeoPandas 1.0. You can get the original 'naturalearth_lowres' data from https://www.naturalearthdata.com/downloads/110m-cultural-vectors/.\n",
      "  world = gpd.read_file(gpd.datasets.get_path('naturalearth_lowres'))\n",
      "[Stage 459:=========================================================(1 + 0) / 1]\r"
     ]
    },
    {
     "data": {
      "image/png": "[encoded data removed]",
      "text/plain": [
       "<Figure size 1500x1000 with 2 Axes>"
      ]
     },
     "metadata": {},
     "output_type": "display_data"
    }
   ],
   "source": [
    "fig, ax = plt.subplots(1, 2, figsize=(15, 10))\n",
    "\n",
    "# dfpoint = datardd.toDF(['partitionKey', 'Point'])\n",
    "trajectoriesPartMap.printSchema()\n",
    "\n",
    "# Create a bounding box\n",
    "# bounding_box = box(bounds.xmin(), bounds.ymin(), bounds.xmax(), bounds.ymax())\n",
    "\n",
    "world = gpd.read_file(gpd.datasets.get_path('naturalearth_lowres'))\n",
    "world.plot(ax=ax[1], alpha=0.3)\n",
    "world.plot(ax=ax[0], alpha=0.3)\n",
    "#print(grid)\n",
    "gridstr = [row.tile.__str__() for row in grid.collect()]\n",
    "\n",
    "colors = plt.cm.Accent(np.linspace(0, 1, len(gridstr)))\n",
    "# Adding an alpha value when creating the color ma<p\n",
    "alpha_value = 1.0\n",
    "color_map = {i: colors[i][:3].tolist() + [alpha_value] for i, tile in enumerate(gridstr)}\n",
    "for i, tilestr in enumerate(gridstr):\n",
    "    tile: STBox = STBoxWrap(tilestr).set_srid(0)\n",
    "    tile.plot_xy(axes=ax[1], color=\"black\", draw_filling=False)\n",
    "\n",
    "trajectory_colors = ['red', 'green', 'blue', 'yellow', 'orange', 'pink', 'lightgreen', 'darkblue']\n",
    "trajectory_idx = {}\n",
    "for idx, row in enumerate(trajectoriesPartMap.toLocalIterator()):\n",
    "    #print(row.trajectoryId, row.partitionKey)\n",
    "    if row.trajectoryId in trajectory_idx:\n",
    "        c = trajectory_idx[row.trajectoryId]\n",
    "    else:\n",
    "        c = idx\n",
    "        trajectory_idx[row.trajectoryId] = idx\n",
    "    traj = row.trajectory\n",
    "    #print(idx, row.partitionKey%gp.num_partitions())\n",
    "    #print(traj)\n",
    "    #if type(point)==str:\n",
    "    #    point = TGeogPointInst(point)\n",
    "    #tpointseq = point.to_sequence(interp).plot(axes=ax,label=\"tpoint\", color=color_map[row.partitionKey % gp.num_partitions()], facecolors='none')\n",
    "    #TemporalPointSequenceSetPlotter.plot_xy(\n",
    "    #    traj, axes=ax, show_markers=True, show_grid=False\n",
    "    #)\n",
    "    TemporalPointSequencePlotter.plot_xy(\n",
    "        traj, axes=ax[1], show_markers=True, show_grid=True \n",
    "    )\n",
    "\n",
    "for idx, row in enumerate(trajectories.toLocalIterator()):\n",
    "    if row.icao24 in trajectory_idx:\n",
    "        c = trajectory_idx[row.icao24]\n",
    "    else:\n",
    "        c = idx\n",
    "        trajectory_idx[row.icao24] = idx\n",
    "    TemporalPointSequencePlotter.plot_xy(\n",
    "        row.PointSeq, axes=ax[0], show_markers=True, show_grid=True \n",
    "    )\n",
    "    #row.PointSeq.plot(axes=ax[0],label=\"trajectory\", color=trajectory_colors[c%len(trajectory_colors)], show_markers=True)\n"
   ]
  },
  {
   "cell_type": "code",
   "execution_count": 15,
   "id": "374f0f02-2f63-4c09-80c8-a44a53c1de98",
   "metadata": {},
   "outputs": [
    {
     "data": {
      "text/plain": [
       "'\\nimport pandas as pd\\nfrom functools import reduce\\nfrom pymeos import *\\nimport pickle\\nfrom pysparkmeos.UDT.MeosDatatype import *\\nfrom pysparkmeos.partitions.grid.grid_partitioner import *\\n\\n\\npymeos_initialize(\"UTC\")\\n#point = TGeogPointSeq(\\'SRID=4326;[POINT(-96.93 41.61)@2022-06-27 00:00:55+00)\\')\\n#print(point)\\ntseq = TGeogPointSeq(string=\\'SRID=4326;[POINT(-81.5 28.73)@2022-06-27 00:00:10+00, POINT(-81.5 28.72)@2022-06-27 00:00:20+00, POINT(-81.48 28.7)@2022-06-27 00:00:40+00, POINT(-81.48 28.69)@2022-06-27 00:00:50+00, POINT(30.45 -70.02)@2022-06-27 00:00:55+00)\\')\\nprint(tseq.srid())\\n#tseq = tseq.set_srid(0)\\nbounds = STBox(\\n        \"STBOX XT(((-177.02969360351562,-46.421356201171875),(177.816650390625,70.29727935791016)),[2022-06-27 00:00:00+00, 2022-06-27 00:15:00+00])\").set_srid(0)\\ngp = GridPartition(cells_per_side=3, bounds=bounds)\\nprint(gp.gridstr)\\ngrid = [STBox(f\"SRID=4326;GEOD{tile.__str__().replace(\\'GEOD\\', \\'\\').replace(\\'SRID=4326;\\', \\'\\')}\") for tile in gp._generate_grid(bounds, 3, geodetic=True)]\\nfor tile in grid:\\n    print(tile, tile.srid())\\nfor key, tile in enumerate(grid):\\n    if tseq.at(tile) is not None:\\n        print(\"Attempting: \", key, tseq.at(tile))\\n'"
      ]
     },
     "execution_count": 15,
     "metadata": {},
     "output_type": "execute_result"
    }
   ],
   "source": [
    "\"\"\"\n",
    "import pandas as pd\n",
    "from functools import reduce\n",
    "from pymeos import *\n",
    "import pickle\n",
    "from pysparkmeos.UDT.MeosDatatype import *\n",
    "from pysparkmeos.partitions.grid.grid_partitioner import *\n",
    "\n",
    "\n",
    "pymeos_initialize(\"UTC\")\n",
    "#point = TGeogPointSeq('SRID=4326;[POINT(-96.93 41.61)@2022-06-27 00:00:55+00)')\n",
    "#print(point)\n",
    "tseq = TGeogPointSeq(string='SRID=4326;[POINT(-81.5 28.73)@2022-06-27 00:00:10+00, POINT(-81.5 28.72)@2022-06-27 00:00:20+00, POINT(-81.48 28.7)@2022-06-27 00:00:40+00, POINT(-81.48 28.69)@2022-06-27 00:00:50+00, POINT(30.45 -70.02)@2022-06-27 00:00:55+00)')\n",
    "print(tseq.srid())\n",
    "#tseq = tseq.set_srid(0)\n",
    "bounds = STBox(\n",
    "        \"STBOX XT(((-177.02969360351562,-46.421356201171875),(177.816650390625,70.29727935791016)),[2022-06-27 00:00:00+00, 2022-06-27 00:15:00+00])\").set_srid(0)\n",
    "gp = GridPartition(cells_per_side=3, bounds=bounds)\n",
    "print(gp.gridstr)\n",
    "grid = [STBox(f\"SRID=4326;GEOD{tile.__str__().replace('GEOD', '').replace('SRID=4326;', '')}\") for tile in gp._generate_grid(bounds, 3, geodetic=True)]\n",
    "for tile in grid:\n",
    "    print(tile, tile.srid())\n",
    "for key, tile in enumerate(grid):\n",
    "    if tseq.at(tile) is not None:\n",
    "        print(\"Attempting: \", key, tseq.at(tile))\n",
    "\"\"\""
   ]
  },
  {
   "cell_type": "code",
   "execution_count": null,
   "id": "558f7af5-7837-4acd-95a5-d9fce6a72de6",
   "metadata": {},
   "outputs": [],
   "source": []
  },
  {
   "cell_type": "code",
   "execution_count": null,
   "id": "e7a68d55-c89b-4bb8-ab74-115562602b9a",
   "metadata": {},
   "outputs": [],
   "source": []
  }
 ],
 "metadata": {
  "kernelspec": {
   "display_name": "Python 3 (ipykernel)",
   "language": "python",
   "name": "python3"
  },
  "language_info": {
   "codemirror_mode": {
    "name": "ipython",
    "version": 3
   },
   "file_extension": ".py",
   "mimetype": "text/x-python",
   "name": "python",
   "nbconvert_exporter": "python",
   "pygments_lexer": "ipython3",
   "version": "3.9.2"
  }
 },
 "nbformat": 4,
 "nbformat_minor": 5
}
